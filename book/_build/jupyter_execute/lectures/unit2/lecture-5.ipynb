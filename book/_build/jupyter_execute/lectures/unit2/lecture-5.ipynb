{
 "cells": [
  {
   "cell_type": "markdown",
   "id": "1ee907c1",
   "metadata": {
    "slideshow": {
     "slide_type": "skip"
    }
   },
   "source": [
    "# Machine learning\n",
    "\n",
    "This week we will be learning about the basic concepts of machine learning. \n",
    "\n"
   ]
  },
  {
   "cell_type": "markdown",
   "id": "a82575a5",
   "metadata": {
    "slideshow": {
     "slide_type": "slide"
    }
   },
   "source": [
    "## What is machine learning?\n",
    "\n",
    "* The goal of machine learning is to build **predictive models**\n",
    "\n",
    "* These models **learn** from data, identify patterns, and make predictions **without being explicitly programmed**\n",
    "\n",
    "* Contrasts with process-based models that rely on established scientific principles and mathematical equations to describe a system's behavior\n",
    "\n",
    "* Machine learning is **part** of artificial intelligence, but not the only part\n",
    "\n",
    "```{image} images/ml_schematic.jpg\n",
    ":width: 600px\n",
    ":align: center\n",
    "```"
   ]
  },
  {
   "cell_type": "markdown",
   "id": "0b61ea64-2c3a-49df-b4a2-1fe47566b19f",
   "metadata": {},
   "source": [
    "## Example - the [Palmer Penguins](https://allisonhorst.github.io/palmerpenguins/index.html)\n",
    "\n",
    "```{image} images/penguins.png\n",
    ":width: 600px\n",
    ":align: center\n",
    "```\n",
    "Artwork by @allison_horst\n",
    "\n",
    "We will use the Penguin dataset to demonstrate some key concepts. This dataset contains attributes for 342 penguins collected from three islands in the Palmer Archipelago, Antarctica. "
   ]
  },
  {
   "cell_type": "code",
   "execution_count": 1,
   "id": "e428dfdb-a470-4d55-9fce-e4c3ccafa89c",
   "metadata": {},
   "outputs": [
    {
     "name": "stdout",
     "output_type": "stream",
     "text": [
      "(342, 5)\n"
     ]
    },
    {
     "data": {
      "text/html": [
       "<div>\n",
       "<style scoped>\n",
       "    .dataframe tbody tr th:only-of-type {\n",
       "        vertical-align: middle;\n",
       "    }\n",
       "\n",
       "    .dataframe tbody tr th {\n",
       "        vertical-align: top;\n",
       "    }\n",
       "\n",
       "    .dataframe thead th {\n",
       "        text-align: right;\n",
       "    }\n",
       "</style>\n",
       "<table border=\"1\" class=\"dataframe\">\n",
       "  <thead>\n",
       "    <tr style=\"text-align: right;\">\n",
       "      <th></th>\n",
       "      <th>Species</th>\n",
       "      <th>Culmen Length (mm)</th>\n",
       "      <th>Culmen Depth (mm)</th>\n",
       "      <th>Flipper Length (mm)</th>\n",
       "      <th>Body Mass (g)</th>\n",
       "    </tr>\n",
       "  </thead>\n",
       "  <tbody>\n",
       "    <tr>\n",
       "      <th>0</th>\n",
       "      <td>Adelie</td>\n",
       "      <td>39.1</td>\n",
       "      <td>18.7</td>\n",
       "      <td>181</td>\n",
       "      <td>3750</td>\n",
       "    </tr>\n",
       "    <tr>\n",
       "      <th>1</th>\n",
       "      <td>Adelie</td>\n",
       "      <td>39.5</td>\n",
       "      <td>17.4</td>\n",
       "      <td>186</td>\n",
       "      <td>3800</td>\n",
       "    </tr>\n",
       "    <tr>\n",
       "      <th>2</th>\n",
       "      <td>Adelie</td>\n",
       "      <td>40.3</td>\n",
       "      <td>18.0</td>\n",
       "      <td>195</td>\n",
       "      <td>3250</td>\n",
       "    </tr>\n",
       "    <tr>\n",
       "      <th>3</th>\n",
       "      <td>Adelie</td>\n",
       "      <td>36.7</td>\n",
       "      <td>19.3</td>\n",
       "      <td>193</td>\n",
       "      <td>3450</td>\n",
       "    </tr>\n",
       "    <tr>\n",
       "      <th>4</th>\n",
       "      <td>Adelie</td>\n",
       "      <td>39.3</td>\n",
       "      <td>20.6</td>\n",
       "      <td>190</td>\n",
       "      <td>3650</td>\n",
       "    </tr>\n",
       "  </tbody>\n",
       "</table>\n",
       "</div>"
      ],
      "text/plain": [
       "  Species  Culmen Length (mm)  Culmen Depth (mm)  Flipper Length (mm)  \\\n",
       "0  Adelie                39.1               18.7                  181   \n",
       "1  Adelie                39.5               17.4                  186   \n",
       "2  Adelie                40.3               18.0                  195   \n",
       "3  Adelie                36.7               19.3                  193   \n",
       "4  Adelie                39.3               20.6                  190   \n",
       "\n",
       "   Body Mass (g)  \n",
       "0           3750  \n",
       "1           3800  \n",
       "2           3250  \n",
       "3           3450  \n",
       "4           3650  "
      ]
     },
     "execution_count": 1,
     "metadata": {},
     "output_type": "execute_result"
    }
   ],
   "source": [
    "# Import packages\n",
    "import pandas as pd\n",
    "import numpy as np\n",
    "import matplotlib.pyplot as plt\n",
    "\n",
    "# Read data\n",
    "df = pd.read_csv('data/penguins.csv')\n",
    "print(df.shape)\n",
    "df.head()"
   ]
  },
  {
   "cell_type": "markdown",
   "id": "b05de04a-129c-4d67-90da-5261147cadd0",
   "metadata": {},
   "source": [
    "```{image} images/culmen_depth.png\n",
    ":width: 600px\n",
    ":align: center\n",
    "```\n",
    "Artwork by @allison_horst\n",
    "\n",
    "There are three different species of penguins in this dataset. Our goal is to develop a model that can predict the species of penguin from just the attributes. Then, when we receive more **unlabelled data** (i.e. attributes but no species), we can make a prediction about the species of penguin. "
   ]
  },
  {
   "cell_type": "code",
   "execution_count": 2,
   "id": "c33eb4cb-41d4-4471-bbb6-26591164a495",
   "metadata": {},
   "outputs": [
    {
     "data": {
      "text/plain": [
       "array(['Adelie', 'Gentoo', 'Chinstrap'], dtype=object)"
      ]
     },
     "execution_count": 2,
     "metadata": {},
     "output_type": "execute_result"
    }
   ],
   "source": [
    "df['Species'].unique()"
   ]
  },
  {
   "cell_type": "markdown",
   "id": "cefca877-d23d-4c45-aec5-43d3fbb99ac2",
   "metadata": {},
   "source": [
    "One way to do this would be develop some decision rules. "
   ]
  },
  {
   "cell_type": "code",
   "execution_count": 3,
   "id": "36431d8e-ea5e-4ea9-bfb7-02d53744f2ff",
   "metadata": {},
   "outputs": [
    {
     "data": {
      "text/html": [
       "<div>\n",
       "<style scoped>\n",
       "    .dataframe tbody tr th:only-of-type {\n",
       "        vertical-align: middle;\n",
       "    }\n",
       "\n",
       "    .dataframe tbody tr th {\n",
       "        vertical-align: top;\n",
       "    }\n",
       "\n",
       "    .dataframe thead th {\n",
       "        text-align: right;\n",
       "    }\n",
       "</style>\n",
       "<table border=\"1\" class=\"dataframe\">\n",
       "  <thead>\n",
       "    <tr style=\"text-align: right;\">\n",
       "      <th></th>\n",
       "      <th>Culmen Length (mm)</th>\n",
       "      <th>Culmen Depth (mm)</th>\n",
       "      <th>Flipper Length (mm)</th>\n",
       "      <th>Body Mass (g)</th>\n",
       "    </tr>\n",
       "    <tr>\n",
       "      <th>Species</th>\n",
       "      <th></th>\n",
       "      <th></th>\n",
       "      <th></th>\n",
       "      <th></th>\n",
       "    </tr>\n",
       "  </thead>\n",
       "  <tbody>\n",
       "    <tr>\n",
       "      <th>Adelie</th>\n",
       "      <td>38.791391</td>\n",
       "      <td>18.346358</td>\n",
       "      <td>189.953642</td>\n",
       "      <td>3700.662252</td>\n",
       "    </tr>\n",
       "    <tr>\n",
       "      <th>Chinstrap</th>\n",
       "      <td>48.833824</td>\n",
       "      <td>18.420588</td>\n",
       "      <td>195.823529</td>\n",
       "      <td>3733.088235</td>\n",
       "    </tr>\n",
       "    <tr>\n",
       "      <th>Gentoo</th>\n",
       "      <td>47.504878</td>\n",
       "      <td>14.982114</td>\n",
       "      <td>217.186992</td>\n",
       "      <td>5076.016260</td>\n",
       "    </tr>\n",
       "  </tbody>\n",
       "</table>\n",
       "</div>"
      ],
      "text/plain": [
       "           Culmen Length (mm)  Culmen Depth (mm)  Flipper Length (mm)  \\\n",
       "Species                                                                 \n",
       "Adelie              38.791391          18.346358           189.953642   \n",
       "Chinstrap           48.833824          18.420588           195.823529   \n",
       "Gentoo              47.504878          14.982114           217.186992   \n",
       "\n",
       "           Body Mass (g)  \n",
       "Species                   \n",
       "Adelie       3700.662252  \n",
       "Chinstrap    3733.088235  \n",
       "Gentoo       5076.016260  "
      ]
     },
     "execution_count": 3,
     "metadata": {},
     "output_type": "execute_result"
    }
   ],
   "source": [
    "df.groupby('Species').mean()"
   ]
  },
  {
   "cell_type": "markdown",
   "id": "bcdcfe71-ea89-4db0-a856-9ad03edcebaa",
   "metadata": {},
   "source": [
    "It looks like Adelie penguins have a smaller bill length and that Gentoo penguins have longer flippers and are heavier. \n",
    "\n",
    "* We could use our own judgement to define a threshold for separating the species based on their attributes. But this would be challenging to do when our datasets have more than a couple of attributes.\n",
    "\n",
    "* An alternative approach is to develop a model to **learn the decision rules directly from the data** (i.e. machine learning).  "
   ]
  },
  {
   "cell_type": "code",
   "execution_count": 4,
   "id": "7d8eb984-c135-4a58-85df-956fe8f341ba",
   "metadata": {},
   "outputs": [
    {
     "data": {
      "image/png": "[encoded data removed]",
      "text/plain": [
       "<Figure size 600x300 with 1 Axes>"
      ]
     },
     "metadata": {},
     "output_type": "display_data"
    }
   ],
   "source": [
    "# Plot histogram of Flipper Length for each species\n",
    "plt.figure(figsize=(6,3))\n",
    "for species in df['Species'].unique():\n",
    "    subset = df[df['Species'] == species]\n",
    "    plt.hist(subset['Flipper Length (mm)'], bins=20, alpha=0.6, label=species)\n",
    "\n",
    "plt.xlabel(\"Flipper Length (mm)\")\n",
    "plt.ylabel(\"Count\")\n",
    "plt.legend()\n",
    "plt.show()"
   ]
  },
  {
   "cell_type": "markdown",
   "id": "bfaaae6f",
   "metadata": {
    "slideshow": {
     "slide_type": "slide"
    }
   },
   "source": [
    "## Some vocabularly\n",
    "\n",
    "* Machine learning starts with a **labelled dataset**\n",
    "\n",
    "* A **label** (or target variable) is the thing we're attempting to predict (e.g. penguin species)\n",
    "\n",
    "* A **feature** (or predictor variable) is an individual measurable property of the dataset (e.g. flipper length)\n",
    "\n",
    "* A **sample** are different individuals or observations"
   ]
  },
  {
   "cell_type": "code",
   "execution_count": 5,
   "id": "8b927a12-c419-4fa0-8bc4-1a120cc3c22c",
   "metadata": {},
   "outputs": [
    {
     "data": {
      "text/html": [
       "<div>\n",
       "<style scoped>\n",
       "    .dataframe tbody tr th:only-of-type {\n",
       "        vertical-align: middle;\n",
       "    }\n",
       "\n",
       "    .dataframe tbody tr th {\n",
       "        vertical-align: top;\n",
       "    }\n",
       "\n",
       "    .dataframe thead th {\n",
       "        text-align: right;\n",
       "    }\n",
       "</style>\n",
       "<table border=\"1\" class=\"dataframe\">\n",
       "  <thead>\n",
       "    <tr style=\"text-align: right;\">\n",
       "      <th></th>\n",
       "      <th>Species</th>\n",
       "      <th>Culmen Length (mm)</th>\n",
       "      <th>Culmen Depth (mm)</th>\n",
       "      <th>Flipper Length (mm)</th>\n",
       "      <th>Body Mass (g)</th>\n",
       "    </tr>\n",
       "  </thead>\n",
       "  <tbody>\n",
       "    <tr>\n",
       "      <th>0</th>\n",
       "      <td>Adelie</td>\n",
       "      <td>39.1</td>\n",
       "      <td>18.7</td>\n",
       "      <td>181</td>\n",
       "      <td>3750</td>\n",
       "    </tr>\n",
       "    <tr>\n",
       "      <th>1</th>\n",
       "      <td>Adelie</td>\n",
       "      <td>39.5</td>\n",
       "      <td>17.4</td>\n",
       "      <td>186</td>\n",
       "      <td>3800</td>\n",
       "    </tr>\n",
       "    <tr>\n",
       "      <th>2</th>\n",
       "      <td>Adelie</td>\n",
       "      <td>40.3</td>\n",
       "      <td>18.0</td>\n",
       "      <td>195</td>\n",
       "      <td>3250</td>\n",
       "    </tr>\n",
       "    <tr>\n",
       "      <th>3</th>\n",
       "      <td>Adelie</td>\n",
       "      <td>36.7</td>\n",
       "      <td>19.3</td>\n",
       "      <td>193</td>\n",
       "      <td>3450</td>\n",
       "    </tr>\n",
       "    <tr>\n",
       "      <th>4</th>\n",
       "      <td>Adelie</td>\n",
       "      <td>39.3</td>\n",
       "      <td>20.6</td>\n",
       "      <td>190</td>\n",
       "      <td>3650</td>\n",
       "    </tr>\n",
       "  </tbody>\n",
       "</table>\n",
       "</div>"
      ],
      "text/plain": [
       "  Species  Culmen Length (mm)  Culmen Depth (mm)  Flipper Length (mm)  \\\n",
       "0  Adelie                39.1               18.7                  181   \n",
       "1  Adelie                39.5               17.4                  186   \n",
       "2  Adelie                40.3               18.0                  195   \n",
       "3  Adelie                36.7               19.3                  193   \n",
       "4  Adelie                39.3               20.6                  190   \n",
       "\n",
       "   Body Mass (g)  \n",
       "0           3750  \n",
       "1           3800  \n",
       "2           3250  \n",
       "3           3450  \n",
       "4           3650  "
      ]
     },
     "execution_count": 5,
     "metadata": {},
     "output_type": "execute_result"
    }
   ],
   "source": [
    "df.head()"
   ]
  },
  {
   "cell_type": "markdown",
   "id": "00be9bff-574a-4468-aeb0-0c7e527cdff7",
   "metadata": {},
   "source": [
    "## Supervised learning \n",
    "\n",
    "* The goal is to **train** an algorithm using features in **labelled** dataset to predict the label of new data that is **unlabelled**\n",
    "\n",
    "```{note}\n",
    "That this **label** could be **categorical** (i.e. classification) or **continuous** (i.e. regression)\n",
    "```\n",
    "\n",
    "* However, it's tough to collect high-quality labelled data (time-consuming, expensive), sometimes we don't know what the labels should be.\n",
    "\n",
    "```{image} images/captcha.jpeg\n",
    ":width: 300px\n",
    ":align: center\n",
    "```\n",
    "\n",
    "## Unsupervised learning\n",
    "\n",
    "* The goal is to extract some structure from our **unlabelled dataset** that can be used to generalize.\n",
    "\n",
    "* For example, how many different species are contained in our penguin dataset? \n",
    "\n",
    "* Not commonly used in geospatial data science but has a wide variety of applications (e.g. next-word (next-token) prediction)"
   ]
  },
  {
   "cell_type": "markdown",
   "id": "6685e991-1978-4ff7-b379-85f98b000dbc",
   "metadata": {},
   "source": [
    "## Classification\n",
    "\n",
    "* \"Split things into **groups** based on their **features**\"\n",
    "\n",
    "* Examples include:\n",
    "    * Land cover\n",
    "    * Flood risk zones\n",
    "    * Sentiment analysis\n",
    "\n",
    "```{image} images/classification.jpg\n",
    ":width: 300px\n",
    ":align: center\n",
    "```\n",
    "\n",
    "## Regression\n",
    "\n",
    "* \"Draw a **line** through these dots\"\n",
    "\n",
    "* Used for predicting continuous variables:\n",
    "    * River discharge\n",
    "    * House prices\n",
    "    * Weather forecasting  \n",
    "\n",
    "```{image} images/regression.jpeg\n",
    ":width: 300px\n",
    ":align: center\n",
    "```\n",
    "\n",
    "## Clustering\n",
    "\n",
    "* \"Divide data into groups but machine chooses the best way\"\n",
    "\n",
    "* Common usages include:\n",
    "    * Image compression\n",
    "    * Labeling training data (i.e. for supervised learning)\n",
    "    * Detecting abnormal behavior\n",
    "    \n",
    "```{image} images/clustering.jpeg\n",
    ":width: 300px\n",
    ":align: center\n",
    "```"
   ]
  },
  {
   "cell_type": "markdown",
   "id": "7188eba1-2abe-43d2-9f4a-c1c93fffa774",
   "metadata": {},
   "source": [
    "## Exploring our dataset\n",
    "\n",
    "The first step when developing any machine learning model is to gain some intuition about our dataset. `Pandas` contains some ueful functions for doing this. "
   ]
  },
  {
   "cell_type": "code",
   "execution_count": 6,
   "id": "0185e854-9182-4555-9c3f-19dbbb6a261f",
   "metadata": {
    "slideshow": {
     "slide_type": "subslide"
    }
   },
   "outputs": [
    {
     "name": "stdout",
     "output_type": "stream",
     "text": [
      "<class 'pandas.core.frame.DataFrame'>\n",
      "RangeIndex: 342 entries, 0 to 341\n",
      "Data columns (total 5 columns):\n",
      " #   Column               Non-Null Count  Dtype  \n",
      "---  ------               --------------  -----  \n",
      " 0   Species              342 non-null    object \n",
      " 1   Culmen Length (mm)   342 non-null    float64\n",
      " 2   Culmen Depth (mm)    342 non-null    float64\n",
      " 3   Flipper Length (mm)  342 non-null    int64  \n",
      " 4   Body Mass (g)        342 non-null    int64  \n",
      "dtypes: float64(2), int64(2), object(1)\n",
      "memory usage: 13.5+ KB\n"
     ]
    }
   ],
   "source": [
    "df.info()"
   ]
  },
  {
   "cell_type": "code",
   "execution_count": 7,
   "id": "97c6b4ae-f6d8-4946-963f-bb0b7e5c6ce1",
   "metadata": {
    "slideshow": {
     "slide_type": "slide"
    }
   },
   "outputs": [
    {
     "data": {
      "text/html": [
       "<div>\n",
       "<style scoped>\n",
       "    .dataframe tbody tr th:only-of-type {\n",
       "        vertical-align: middle;\n",
       "    }\n",
       "\n",
       "    .dataframe tbody tr th {\n",
       "        vertical-align: top;\n",
       "    }\n",
       "\n",
       "    .dataframe thead th {\n",
       "        text-align: right;\n",
       "    }\n",
       "</style>\n",
       "<table border=\"1\" class=\"dataframe\">\n",
       "  <thead>\n",
       "    <tr style=\"text-align: right;\">\n",
       "      <th></th>\n",
       "      <th>Culmen Length (mm)</th>\n",
       "      <th>Culmen Depth (mm)</th>\n",
       "      <th>Flipper Length (mm)</th>\n",
       "      <th>Body Mass (g)</th>\n",
       "    </tr>\n",
       "  </thead>\n",
       "  <tbody>\n",
       "    <tr>\n",
       "      <th>count</th>\n",
       "      <td>342.000000</td>\n",
       "      <td>342.000000</td>\n",
       "      <td>342.000000</td>\n",
       "      <td>342.000000</td>\n",
       "    </tr>\n",
       "    <tr>\n",
       "      <th>mean</th>\n",
       "      <td>43.921930</td>\n",
       "      <td>17.151170</td>\n",
       "      <td>200.915205</td>\n",
       "      <td>4201.754386</td>\n",
       "    </tr>\n",
       "    <tr>\n",
       "      <th>std</th>\n",
       "      <td>5.459584</td>\n",
       "      <td>1.974793</td>\n",
       "      <td>14.061714</td>\n",
       "      <td>801.954536</td>\n",
       "    </tr>\n",
       "    <tr>\n",
       "      <th>min</th>\n",
       "      <td>32.100000</td>\n",
       "      <td>13.100000</td>\n",
       "      <td>172.000000</td>\n",
       "      <td>2700.000000</td>\n",
       "    </tr>\n",
       "    <tr>\n",
       "      <th>25%</th>\n",
       "      <td>39.225000</td>\n",
       "      <td>15.600000</td>\n",
       "      <td>190.000000</td>\n",
       "      <td>3550.000000</td>\n",
       "    </tr>\n",
       "    <tr>\n",
       "      <th>50%</th>\n",
       "      <td>44.450000</td>\n",
       "      <td>17.300000</td>\n",
       "      <td>197.000000</td>\n",
       "      <td>4050.000000</td>\n",
       "    </tr>\n",
       "    <tr>\n",
       "      <th>75%</th>\n",
       "      <td>48.500000</td>\n",
       "      <td>18.700000</td>\n",
       "      <td>213.000000</td>\n",
       "      <td>4750.000000</td>\n",
       "    </tr>\n",
       "    <tr>\n",
       "      <th>max</th>\n",
       "      <td>59.600000</td>\n",
       "      <td>21.500000</td>\n",
       "      <td>231.000000</td>\n",
       "      <td>6300.000000</td>\n",
       "    </tr>\n",
       "  </tbody>\n",
       "</table>\n",
       "</div>"
      ],
      "text/plain": [
       "       Culmen Length (mm)  Culmen Depth (mm)  Flipper Length (mm)  \\\n",
       "count          342.000000         342.000000           342.000000   \n",
       "mean            43.921930          17.151170           200.915205   \n",
       "std              5.459584           1.974793            14.061714   \n",
       "min             32.100000          13.100000           172.000000   \n",
       "25%             39.225000          15.600000           190.000000   \n",
       "50%             44.450000          17.300000           197.000000   \n",
       "75%             48.500000          18.700000           213.000000   \n",
       "max             59.600000          21.500000           231.000000   \n",
       "\n",
       "       Body Mass (g)  \n",
       "count     342.000000  \n",
       "mean     4201.754386  \n",
       "std       801.954536  \n",
       "min      2700.000000  \n",
       "25%      3550.000000  \n",
       "50%      4050.000000  \n",
       "75%      4750.000000  \n",
       "max      6300.000000  "
      ]
     },
     "execution_count": 7,
     "metadata": {},
     "output_type": "execute_result"
    }
   ],
   "source": [
    "df.describe()"
   ]
  },
  {
   "cell_type": "markdown",
   "id": "3efa2bab",
   "metadata": {
    "slideshow": {
     "slide_type": "subslide"
    }
   },
   "source": [
    "We can also investigate the **separability** of penguin species using scatterplots"
   ]
  },
  {
   "cell_type": "code",
   "execution_count": 8,
   "id": "68c00de6",
   "metadata": {
    "slideshow": {
     "slide_type": "subslide"
    }
   },
   "outputs": [
    {
     "data": {
      "text/plain": [
       "<matplotlib.legend.Legend at 0x134028bf0>"
      ]
     },
     "execution_count": 8,
     "metadata": {},
     "output_type": "execute_result"
    },
    {
     "data": {
      "image/png": "[encoded data removed]",
      "text/plain": [
       "<Figure size 600x400 with 1 Axes>"
      ]
     },
     "metadata": {},
     "output_type": "display_data"
    }
   ],
   "source": [
    "# Scatter plot categorized by Species\n",
    "plt.figure(figsize=(6,4))\n",
    "\n",
    "species_list = df['Species'].unique()\n",
    "for species in species_list:\n",
    "    subset = df[df['Species'] == species]\n",
    "    plt.scatter(\n",
    "        subset['Flipper Length (mm)'], \n",
    "        subset['Body Mass (g)'], \n",
    "        alpha=0.7, \n",
    "        label=species\n",
    "    )\n",
    "plt.xlabel(\"Flipper Length (mm)\")\n",
    "plt.ylabel(\"Body Mass (g)\")\n",
    "plt.legend()"
   ]
  },
  {
   "cell_type": "markdown",
   "id": "158a7fad-4f48-4463-9e81-078f61a0e710",
   "metadata": {},
   "source": [
    "Finally, we may also want to check the number of observations in each category. "
   ]
  },
  {
   "cell_type": "code",
   "execution_count": 9,
   "id": "1f840789-2394-464b-8963-b7680f75a51f",
   "metadata": {},
   "outputs": [
    {
     "data": {
      "text/plain": [
       "Species\n",
       "Adelie       151\n",
       "Gentoo       123\n",
       "Chinstrap     68\n",
       "Name: count, dtype: int64"
      ]
     },
     "execution_count": 9,
     "metadata": {},
     "output_type": "execute_result"
    }
   ],
   "source": [
    "df[\"Species\"].value_counts()"
   ]
  },
  {
   "cell_type": "markdown",
   "id": "935e08e0-dd03-45e0-895c-44eaba703621",
   "metadata": {},
   "source": [
    "We find that there are less Chinstrap penguins than other types in this dataset. This is example **class imbalance** which we should be aware of when developing our model. For example, our model could have a high overall accuracy even if it is not be very good at identifying Chinstraps. This may mask the true performance of our model, especially for specific questions about Chinstrap penguins. "
   ]
  },
  {
   "cell_type": "markdown",
   "id": "abe81718",
   "metadata": {
    "slideshow": {
     "slide_type": "slide"
    }
   },
   "source": [
    "## Feature scaling\n",
    "\n",
    "* Machine Learning algorithms sometimes don't perform well when the input numerical attributes have very **different scales**.\n",
    "\n",
    "* Therefore we often **scale** (or normalize) our features before training the model (e.g. min-max scaling or standardization).\n",
    "\n",
    "```{tip}\n",
    "Models that rely on the **distance** between a pair of samples (e.g. k-nearest neighbors), should be trained on normalized features to make each feature contribute approximately equally to the distance computations.\n",
    "\n",
    "Many models such as logistic regression use a numerical solver (based on gradient descent) to find their optimal parameters. This solver converges faster when the features are scaled.\n",
    "```\n",
    "\n",
    "* **Min-max method** scales values so that they end up ranging from 0 to 1\n",
    "\n",
    "* **Standardization** scales values so that the they have mean of 0 and unit variance.\n",
    "\n",
    "```{image} images/scaling.png\n",
    ":width: 800px\n",
    ":align: center\n",
    "```"
   ]
  },
  {
   "cell_type": "code",
   "execution_count": 10,
   "id": "f70262f0",
   "metadata": {
    "slideshow": {
     "slide_type": "subslide"
    }
   },
   "outputs": [],
   "source": [
    "# Import library\n",
    "from sklearn.preprocessing import StandardScaler\n",
    "\n",
    "# Define feature list\n",
    "feature_list =  ['Culmen Length (mm)', 'Culmen Depth (mm)', 'Flipper Length (mm)', 'Body Mass (g)']\n",
    "\n",
    "# Define features and labels \n",
    "X = df[feature_list]\n",
    "y = df['Species']"
   ]
  },
  {
   "cell_type": "code",
   "execution_count": 11,
   "id": "55bd2a39",
   "metadata": {},
   "outputs": [
    {
     "data": {
      "text/html": [
       "<div>\n",
       "<style scoped>\n",
       "    .dataframe tbody tr th:only-of-type {\n",
       "        vertical-align: middle;\n",
       "    }\n",
       "\n",
       "    .dataframe tbody tr th {\n",
       "        vertical-align: top;\n",
       "    }\n",
       "\n",
       "    .dataframe thead th {\n",
       "        text-align: right;\n",
       "    }\n",
       "</style>\n",
       "<table border=\"1\" class=\"dataframe\">\n",
       "  <thead>\n",
       "    <tr style=\"text-align: right;\">\n",
       "      <th></th>\n",
       "      <th>Culmen Length (mm)</th>\n",
       "      <th>Culmen Depth (mm)</th>\n",
       "      <th>Flipper Length (mm)</th>\n",
       "      <th>Body Mass (g)</th>\n",
       "    </tr>\n",
       "  </thead>\n",
       "  <tbody>\n",
       "    <tr>\n",
       "      <th>0</th>\n",
       "      <td>-0.884499</td>\n",
       "      <td>0.785449</td>\n",
       "      <td>-1.418347</td>\n",
       "      <td>-0.564142</td>\n",
       "    </tr>\n",
       "    <tr>\n",
       "      <th>1</th>\n",
       "      <td>-0.811126</td>\n",
       "      <td>0.126188</td>\n",
       "      <td>-1.062250</td>\n",
       "      <td>-0.501703</td>\n",
       "    </tr>\n",
       "    <tr>\n",
       "      <th>2</th>\n",
       "      <td>-0.664380</td>\n",
       "      <td>0.430462</td>\n",
       "      <td>-0.421277</td>\n",
       "      <td>-1.188532</td>\n",
       "    </tr>\n",
       "    <tr>\n",
       "      <th>3</th>\n",
       "      <td>-1.324737</td>\n",
       "      <td>1.089724</td>\n",
       "      <td>-0.563715</td>\n",
       "      <td>-0.938776</td>\n",
       "    </tr>\n",
       "    <tr>\n",
       "      <th>4</th>\n",
       "      <td>-0.847812</td>\n",
       "      <td>1.748985</td>\n",
       "      <td>-0.777373</td>\n",
       "      <td>-0.689020</td>\n",
       "    </tr>\n",
       "    <tr>\n",
       "      <th>...</th>\n",
       "      <td>...</td>\n",
       "      <td>...</td>\n",
       "      <td>...</td>\n",
       "      <td>...</td>\n",
       "    </tr>\n",
       "    <tr>\n",
       "      <th>337</th>\n",
       "      <td>2.178824</td>\n",
       "      <td>1.343286</td>\n",
       "      <td>0.433355</td>\n",
       "      <td>-0.251947</td>\n",
       "    </tr>\n",
       "    <tr>\n",
       "      <th>338</th>\n",
       "      <td>-0.077396</td>\n",
       "      <td>0.481175</td>\n",
       "      <td>0.077258</td>\n",
       "      <td>-1.001215</td>\n",
       "    </tr>\n",
       "    <tr>\n",
       "      <th>339</th>\n",
       "      <td>1.041543</td>\n",
       "      <td>0.531887</td>\n",
       "      <td>-0.563715</td>\n",
       "      <td>-0.532923</td>\n",
       "    </tr>\n",
       "    <tr>\n",
       "      <th>340</th>\n",
       "      <td>1.261662</td>\n",
       "      <td>0.937586</td>\n",
       "      <td>0.647013</td>\n",
       "      <td>-0.127069</td>\n",
       "    </tr>\n",
       "    <tr>\n",
       "      <th>341</th>\n",
       "      <td>1.151602</td>\n",
       "      <td>0.785449</td>\n",
       "      <td>-0.207619</td>\n",
       "      <td>-0.532923</td>\n",
       "    </tr>\n",
       "  </tbody>\n",
       "</table>\n",
       "<p>342 rows × 4 columns</p>\n",
       "</div>"
      ],
      "text/plain": [
       "     Culmen Length (mm)  Culmen Depth (mm)  Flipper Length (mm)  Body Mass (g)\n",
       "0             -0.884499           0.785449            -1.418347      -0.564142\n",
       "1             -0.811126           0.126188            -1.062250      -0.501703\n",
       "2             -0.664380           0.430462            -0.421277      -1.188532\n",
       "3             -1.324737           1.089724            -0.563715      -0.938776\n",
       "4             -0.847812           1.748985            -0.777373      -0.689020\n",
       "..                  ...                ...                  ...            ...\n",
       "337            2.178824           1.343286             0.433355      -0.251947\n",
       "338           -0.077396           0.481175             0.077258      -1.001215\n",
       "339            1.041543           0.531887            -0.563715      -0.532923\n",
       "340            1.261662           0.937586             0.647013      -0.127069\n",
       "341            1.151602           0.785449            -0.207619      -0.532923\n",
       "\n",
       "[342 rows x 4 columns]"
      ]
     },
     "execution_count": 11,
     "metadata": {},
     "output_type": "execute_result"
    }
   ],
   "source": [
    "# Standarize data\n",
    "scaler = StandardScaler()  \n",
    "X_scaled = scaler.fit_transform(X)\n",
    "df_scaled = pd.DataFrame(X_scaled, columns=feature_list)\n",
    "df_scaled"
   ]
  },
  {
   "cell_type": "code",
   "execution_count": 12,
   "id": "c7c9b6ea-fe60-409e-adcc-588eab99d019",
   "metadata": {},
   "outputs": [
    {
     "data": {
      "text/html": [
       "<div>\n",
       "<style scoped>\n",
       "    .dataframe tbody tr th:only-of-type {\n",
       "        vertical-align: middle;\n",
       "    }\n",
       "\n",
       "    .dataframe tbody tr th {\n",
       "        vertical-align: top;\n",
       "    }\n",
       "\n",
       "    .dataframe thead th {\n",
       "        text-align: right;\n",
       "    }\n",
       "</style>\n",
       "<table border=\"1\" class=\"dataframe\">\n",
       "  <thead>\n",
       "    <tr style=\"text-align: right;\">\n",
       "      <th></th>\n",
       "      <th>Culmen Length (mm)</th>\n",
       "      <th>Culmen Depth (mm)</th>\n",
       "      <th>Flipper Length (mm)</th>\n",
       "      <th>Body Mass (g)</th>\n",
       "    </tr>\n",
       "  </thead>\n",
       "  <tbody>\n",
       "    <tr>\n",
       "      <th>count</th>\n",
       "      <td>3.420000e+02</td>\n",
       "      <td>3.420000e+02</td>\n",
       "      <td>3.420000e+02</td>\n",
       "      <td>3.420000e+02</td>\n",
       "    </tr>\n",
       "    <tr>\n",
       "      <th>mean</th>\n",
       "      <td>1.662088e-16</td>\n",
       "      <td>4.155221e-16</td>\n",
       "      <td>-8.310441e-16</td>\n",
       "      <td>8.310441e-17</td>\n",
       "    </tr>\n",
       "    <tr>\n",
       "      <th>std</th>\n",
       "      <td>1.001465e+00</td>\n",
       "      <td>1.001465e+00</td>\n",
       "      <td>1.001465e+00</td>\n",
       "      <td>1.001465e+00</td>\n",
       "    </tr>\n",
       "    <tr>\n",
       "      <th>min</th>\n",
       "      <td>-2.168526e+00</td>\n",
       "      <td>-2.054446e+00</td>\n",
       "      <td>-2.059320e+00</td>\n",
       "      <td>-1.875362e+00</td>\n",
       "    </tr>\n",
       "    <tr>\n",
       "      <th>25%</th>\n",
       "      <td>-8.615697e-01</td>\n",
       "      <td>-7.866355e-01</td>\n",
       "      <td>-7.773731e-01</td>\n",
       "      <td>-8.138982e-01</td>\n",
       "    </tr>\n",
       "    <tr>\n",
       "      <th>50%</th>\n",
       "      <td>9.686524e-02</td>\n",
       "      <td>7.547549e-02</td>\n",
       "      <td>-2.788381e-01</td>\n",
       "      <td>-1.895079e-01</td>\n",
       "    </tr>\n",
       "    <tr>\n",
       "      <th>75%</th>\n",
       "      <td>8.397670e-01</td>\n",
       "      <td>7.854492e-01</td>\n",
       "      <td>8.606705e-01</td>\n",
       "      <td>6.846384e-01</td>\n",
       "    </tr>\n",
       "    <tr>\n",
       "      <th>max</th>\n",
       "      <td>2.875868e+00</td>\n",
       "      <td>2.205397e+00</td>\n",
       "      <td>2.142618e+00</td>\n",
       "      <td>2.620248e+00</td>\n",
       "    </tr>\n",
       "  </tbody>\n",
       "</table>\n",
       "</div>"
      ],
      "text/plain": [
       "       Culmen Length (mm)  Culmen Depth (mm)  Flipper Length (mm)  \\\n",
       "count        3.420000e+02       3.420000e+02         3.420000e+02   \n",
       "mean         1.662088e-16       4.155221e-16        -8.310441e-16   \n",
       "std          1.001465e+00       1.001465e+00         1.001465e+00   \n",
       "min         -2.168526e+00      -2.054446e+00        -2.059320e+00   \n",
       "25%         -8.615697e-01      -7.866355e-01        -7.773731e-01   \n",
       "50%          9.686524e-02       7.547549e-02        -2.788381e-01   \n",
       "75%          8.397670e-01       7.854492e-01         8.606705e-01   \n",
       "max          2.875868e+00       2.205397e+00         2.142618e+00   \n",
       "\n",
       "       Body Mass (g)  \n",
       "count   3.420000e+02  \n",
       "mean    8.310441e-17  \n",
       "std     1.001465e+00  \n",
       "min    -1.875362e+00  \n",
       "25%    -8.138982e-01  \n",
       "50%    -1.895079e-01  \n",
       "75%     6.846384e-01  \n",
       "max     2.620248e+00  "
      ]
     },
     "execution_count": 12,
     "metadata": {},
     "output_type": "execute_result"
    }
   ],
   "source": [
    "df_scaled.describe()"
   ]
  },
  {
   "cell_type": "markdown",
   "id": "0ceaed07",
   "metadata": {
    "slideshow": {
     "slide_type": "slide"
    }
   },
   "source": [
    "## Split data in training and testing subsets\n",
    "\n",
    "If we want to properly evaluate our machine learning model, we should not use **all** the data for training. Instead, we should train the model on a **subset of the data**, retaining another subset (that the model has not \"seen\") to **evaluate** the model. "
   ]
  },
  {
   "cell_type": "code",
   "execution_count": 13,
   "id": "e7131519",
   "metadata": {
    "slideshow": {
     "slide_type": "fragment"
    }
   },
   "outputs": [],
   "source": [
    "from sklearn.model_selection import train_test_split\n",
    "\n",
    "# Split data (80% train, 20% test)\n",
    "X_train, X_test, y_train, y_test = train_test_split(df_scaled, y, test_size=0.2, random_state=42)"
   ]
  },
  {
   "cell_type": "markdown",
   "id": "2e42de7e-5ea9-4853-b149-d55fbde76745",
   "metadata": {},
   "source": [
    "Our test dataset is a random sample containing 69 individuals, 11 of which are Chinstrap penguins."
   ]
  },
  {
   "cell_type": "code",
   "execution_count": 14,
   "id": "753b134d-7cf0-4b43-b5f2-0797e1ce1d2f",
   "metadata": {},
   "outputs": [
    {
     "data": {
      "text/plain": [
       "Species\n",
       "Adelie       35\n",
       "Gentoo       23\n",
       "Chinstrap    11\n",
       "Name: count, dtype: int64"
      ]
     },
     "execution_count": 14,
     "metadata": {},
     "output_type": "execute_result"
    }
   ],
   "source": [
    "y_test.value_counts()"
   ]
  },
  {
   "cell_type": "markdown",
   "id": "0c1273fe",
   "metadata": {
    "slideshow": {
     "slide_type": "slide"
    }
   },
   "source": [
    "## Fitting our first model\n",
    "\n",
    "Now we are ready to build our first model. There are usually three main steps here: `fit`, `predict`, `score`. We will first experiment with a very simple supervised algorithm that classifies our data using **K-nearest neighbors**. "
   ]
  },
  {
   "cell_type": "code",
   "execution_count": 15,
   "id": "f5838240-2ea9-447d-b684-bcf60f76bf0d",
   "metadata": {},
   "outputs": [],
   "source": [
    "from sklearn.neighbors import KNeighborsClassifier\n",
    "\n",
    "# Define model\n",
    "model = KNeighborsClassifier()"
   ]
  },
  {
   "cell_type": "markdown",
   "id": "f4ac8780-e717-423d-bec1-a85207d802a6",
   "metadata": {},
   "source": [
    "The `fit` method is called to train the model from the input (features) and target data."
   ]
  },
  {
   "cell_type": "code",
   "execution_count": 16,
   "id": "d0ea1a79-afbe-4be4-bffd-01340ba4c641",
   "metadata": {},
   "outputs": [
    {
     "data": {
      "text/html": [
       "<style>#sk-container-id-1 {\n",
       "  /* Definition of color scheme common for light and dark mode */\n",
       "  --sklearn-color-text: #000;\n",
       "  --sklearn-color-text-muted: #666;\n",
       "  --sklearn-color-line: gray;\n",
       "  /* Definition of color scheme for unfitted estimators */\n",
       "  --sklearn-color-unfitted-level-0: #fff5e6;\n",
       "  --sklearn-color-unfitted-level-1: #f6e4d2;\n",
       "  --sklearn-color-unfitted-level-2: #ffe0b3;\n",
       "  --sklearn-color-unfitted-level-3: chocolate;\n",
       "  /* Definition of color scheme for fitted estimators */\n",
       "  --sklearn-color-fitted-level-0: #f0f8ff;\n",
       "  --sklearn-color-fitted-level-1: #d4ebff;\n",
       "  --sklearn-color-fitted-level-2: #b3dbfd;\n",
       "  --sklearn-color-fitted-level-3: cornflowerblue;\n",
       "\n",
       "  /* Specific color for light theme */\n",
       "  --sklearn-color-text-on-default-background: var(--sg-text-color, var(--theme-code-foreground, var(--jp-content-font-color1, black)));\n",
       "  --sklearn-color-background: var(--sg-background-color, var(--theme-background, var(--jp-layout-color0, white)));\n",
       "  --sklearn-color-border-box: var(--sg-text-color, var(--theme-code-foreground, var(--jp-content-font-color1, black)));\n",
       "  --sklearn-color-icon: #696969;\n",
       "\n",
       "  @media (prefers-color-scheme: dark) {\n",
       "    /* Redefinition of color scheme for dark theme */\n",
       "    --sklearn-color-text-on-default-background: var(--sg-text-color, var(--theme-code-foreground, var(--jp-content-font-color1, white)));\n",
       "    --sklearn-color-background: var(--sg-background-color, var(--theme-background, var(--jp-layout-color0, #111)));\n",
       "    --sklearn-color-border-box: var(--sg-text-color, var(--theme-code-foreground, var(--jp-content-font-color1, white)));\n",
       "    --sklearn-color-icon: #878787;\n",
       "  }\n",
       "}\n",
       "\n",
       "#sk-container-id-1 {\n",
       "  color: var(--sklearn-color-text);\n",
       "}\n",
       "\n",
       "#sk-container-id-1 pre {\n",
       "  padding: 0;\n",
       "}\n",
       "\n",
       "#sk-container-id-1 input.sk-hidden--visually {\n",
       "  border: 0;\n",
       "  clip: rect(1px 1px 1px 1px);\n",
       "  clip: rect(1px, 1px, 1px, 1px);\n",
       "  height: 1px;\n",
       "  margin: -1px;\n",
       "  overflow: hidden;\n",
       "  padding: 0;\n",
       "  position: absolute;\n",
       "  width: 1px;\n",
       "}\n",
       "\n",
       "#sk-container-id-1 div.sk-dashed-wrapped {\n",
       "  border: 1px dashed var(--sklearn-color-line);\n",
       "  margin: 0 0.4em 0.5em 0.4em;\n",
       "  box-sizing: border-box;\n",
       "  padding-bottom: 0.4em;\n",
       "  background-color: var(--sklearn-color-background);\n",
       "}\n",
       "\n",
       "#sk-container-id-1 div.sk-container {\n",
       "  /* jupyter's `normalize.less` sets `[hidden] { display: none; }`\n",
       "     but bootstrap.min.css set `[hidden] { display: none !important; }`\n",
       "     so we also need the `!important` here to be able to override the\n",
       "     default hidden behavior on the sphinx rendered scikit-learn.org.\n",
       "     See: https://github.com/scikit-learn/scikit-learn/issues/21755 */\n",
       "  display: inline-block !important;\n",
       "  position: relative;\n",
       "}\n",
       "\n",
       "#sk-container-id-1 div.sk-text-repr-fallback {\n",
       "  display: none;\n",
       "}\n",
       "\n",
       "div.sk-parallel-item,\n",
       "div.sk-serial,\n",
       "div.sk-item {\n",
       "  /* draw centered vertical line to link estimators */\n",
       "  background-image: linear-gradient(var(--sklearn-color-text-on-default-background), var(--sklearn-color-text-on-default-background));\n",
       "  background-size: 2px 100%;\n",
       "  background-repeat: no-repeat;\n",
       "  background-position: center center;\n",
       "}\n",
       "\n",
       "/* Parallel-specific style estimator block */\n",
       "\n",
       "#sk-container-id-1 div.sk-parallel-item::after {\n",
       "  content: \"\";\n",
       "  width: 100%;\n",
       "  border-bottom: 2px solid var(--sklearn-color-text-on-default-background);\n",
       "  flex-grow: 1;\n",
       "}\n",
       "\n",
       "#sk-container-id-1 div.sk-parallel {\n",
       "  display: flex;\n",
       "  align-items: stretch;\n",
       "  justify-content: center;\n",
       "  background-color: var(--sklearn-color-background);\n",
       "  position: relative;\n",
       "}\n",
       "\n",
       "#sk-container-id-1 div.sk-parallel-item {\n",
       "  display: flex;\n",
       "  flex-direction: column;\n",
       "}\n",
       "\n",
       "#sk-container-id-1 div.sk-parallel-item:first-child::after {\n",
       "  align-self: flex-end;\n",
       "  width: 50%;\n",
       "}\n",
       "\n",
       "#sk-container-id-1 div.sk-parallel-item:last-child::after {\n",
       "  align-self: flex-start;\n",
       "  width: 50%;\n",
       "}\n",
       "\n",
       "#sk-container-id-1 div.sk-parallel-item:only-child::after {\n",
       "  width: 0;\n",
       "}\n",
       "\n",
       "/* Serial-specific style estimator block */\n",
       "\n",
       "#sk-container-id-1 div.sk-serial {\n",
       "  display: flex;\n",
       "  flex-direction: column;\n",
       "  align-items: center;\n",
       "  background-color: var(--sklearn-color-background);\n",
       "  padding-right: 1em;\n",
       "  padding-left: 1em;\n",
       "}\n",
       "\n",
       "\n",
       "/* Toggleable style: style used for estimator/Pipeline/ColumnTransformer box that is\n",
       "clickable and can be expanded/collapsed.\n",
       "- Pipeline and ColumnTransformer use this feature and define the default style\n",
       "- Estimators will overwrite some part of the style using the `sk-estimator` class\n",
       "*/\n",
       "\n",
       "/* Pipeline and ColumnTransformer style (default) */\n",
       "\n",
       "#sk-container-id-1 div.sk-toggleable {\n",
       "  /* Default theme specific background. It is overwritten whether we have a\n",
       "  specific estimator or a Pipeline/ColumnTransformer */\n",
       "  background-color: var(--sklearn-color-background);\n",
       "}\n",
       "\n",
       "/* Toggleable label */\n",
       "#sk-container-id-1 label.sk-toggleable__label {\n",
       "  cursor: pointer;\n",
       "  display: flex;\n",
       "  width: 100%;\n",
       "  margin-bottom: 0;\n",
       "  padding: 0.5em;\n",
       "  box-sizing: border-box;\n",
       "  text-align: center;\n",
       "  align-items: start;\n",
       "  justify-content: space-between;\n",
       "  gap: 0.5em;\n",
       "}\n",
       "\n",
       "#sk-container-id-1 label.sk-toggleable__label .caption {\n",
       "  font-size: 0.6rem;\n",
       "  font-weight: lighter;\n",
       "  color: var(--sklearn-color-text-muted);\n",
       "}\n",
       "\n",
       "#sk-container-id-1 label.sk-toggleable__label-arrow:before {\n",
       "  /* Arrow on the left of the label */\n",
       "  content: \"▸\";\n",
       "  float: left;\n",
       "  margin-right: 0.25em;\n",
       "  color: var(--sklearn-color-icon);\n",
       "}\n",
       "\n",
       "#sk-container-id-1 label.sk-toggleable__label-arrow:hover:before {\n",
       "  color: var(--sklearn-color-text);\n",
       "}\n",
       "\n",
       "/* Toggleable content - dropdown */\n",
       "\n",
       "#sk-container-id-1 div.sk-toggleable__content {\n",
       "  max-height: 0;\n",
       "  max-width: 0;\n",
       "  overflow: hidden;\n",
       "  text-align: left;\n",
       "  /* unfitted */\n",
       "  background-color: var(--sklearn-color-unfitted-level-0);\n",
       "}\n",
       "\n",
       "#sk-container-id-1 div.sk-toggleable__content.fitted {\n",
       "  /* fitted */\n",
       "  background-color: var(--sklearn-color-fitted-level-0);\n",
       "}\n",
       "\n",
       "#sk-container-id-1 div.sk-toggleable__content pre {\n",
       "  margin: 0.2em;\n",
       "  border-radius: 0.25em;\n",
       "  color: var(--sklearn-color-text);\n",
       "  /* unfitted */\n",
       "  background-color: var(--sklearn-color-unfitted-level-0);\n",
       "}\n",
       "\n",
       "#sk-container-id-1 div.sk-toggleable__content.fitted pre {\n",
       "  /* unfitted */\n",
       "  background-color: var(--sklearn-color-fitted-level-0);\n",
       "}\n",
       "\n",
       "#sk-container-id-1 input.sk-toggleable__control:checked~div.sk-toggleable__content {\n",
       "  /* Expand drop-down */\n",
       "  max-height: 200px;\n",
       "  max-width: 100%;\n",
       "  overflow: auto;\n",
       "}\n",
       "\n",
       "#sk-container-id-1 input.sk-toggleable__control:checked~label.sk-toggleable__label-arrow:before {\n",
       "  content: \"▾\";\n",
       "}\n",
       "\n",
       "/* Pipeline/ColumnTransformer-specific style */\n",
       "\n",
       "#sk-container-id-1 div.sk-label input.sk-toggleable__control:checked~label.sk-toggleable__label {\n",
       "  color: var(--sklearn-color-text);\n",
       "  background-color: var(--sklearn-color-unfitted-level-2);\n",
       "}\n",
       "\n",
       "#sk-container-id-1 div.sk-label.fitted input.sk-toggleable__control:checked~label.sk-toggleable__label {\n",
       "  background-color: var(--sklearn-color-fitted-level-2);\n",
       "}\n",
       "\n",
       "/* Estimator-specific style */\n",
       "\n",
       "/* Colorize estimator box */\n",
       "#sk-container-id-1 div.sk-estimator input.sk-toggleable__control:checked~label.sk-toggleable__label {\n",
       "  /* unfitted */\n",
       "  background-color: var(--sklearn-color-unfitted-level-2);\n",
       "}\n",
       "\n",
       "#sk-container-id-1 div.sk-estimator.fitted input.sk-toggleable__control:checked~label.sk-toggleable__label {\n",
       "  /* fitted */\n",
       "  background-color: var(--sklearn-color-fitted-level-2);\n",
       "}\n",
       "\n",
       "#sk-container-id-1 div.sk-label label.sk-toggleable__label,\n",
       "#sk-container-id-1 div.sk-label label {\n",
       "  /* The background is the default theme color */\n",
       "  color: var(--sklearn-color-text-on-default-background);\n",
       "}\n",
       "\n",
       "/* On hover, darken the color of the background */\n",
       "#sk-container-id-1 div.sk-label:hover label.sk-toggleable__label {\n",
       "  color: var(--sklearn-color-text);\n",
       "  background-color: var(--sklearn-color-unfitted-level-2);\n",
       "}\n",
       "\n",
       "/* Label box, darken color on hover, fitted */\n",
       "#sk-container-id-1 div.sk-label.fitted:hover label.sk-toggleable__label.fitted {\n",
       "  color: var(--sklearn-color-text);\n",
       "  background-color: var(--sklearn-color-fitted-level-2);\n",
       "}\n",
       "\n",
       "/* Estimator label */\n",
       "\n",
       "#sk-container-id-1 div.sk-label label {\n",
       "  font-family: monospace;\n",
       "  font-weight: bold;\n",
       "  display: inline-block;\n",
       "  line-height: 1.2em;\n",
       "}\n",
       "\n",
       "#sk-container-id-1 div.sk-label-container {\n",
       "  text-align: center;\n",
       "}\n",
       "\n",
       "/* Estimator-specific */\n",
       "#sk-container-id-1 div.sk-estimator {\n",
       "  font-family: monospace;\n",
       "  border: 1px dotted var(--sklearn-color-border-box);\n",
       "  border-radius: 0.25em;\n",
       "  box-sizing: border-box;\n",
       "  margin-bottom: 0.5em;\n",
       "  /* unfitted */\n",
       "  background-color: var(--sklearn-color-unfitted-level-0);\n",
       "}\n",
       "\n",
       "#sk-container-id-1 div.sk-estimator.fitted {\n",
       "  /* fitted */\n",
       "  background-color: var(--sklearn-color-fitted-level-0);\n",
       "}\n",
       "\n",
       "/* on hover */\n",
       "#sk-container-id-1 div.sk-estimator:hover {\n",
       "  /* unfitted */\n",
       "  background-color: var(--sklearn-color-unfitted-level-2);\n",
       "}\n",
       "\n",
       "#sk-container-id-1 div.sk-estimator.fitted:hover {\n",
       "  /* fitted */\n",
       "  background-color: var(--sklearn-color-fitted-level-2);\n",
       "}\n",
       "\n",
       "/* Specification for estimator info (e.g. \"i\" and \"?\") */\n",
       "\n",
       "/* Common style for \"i\" and \"?\" */\n",
       "\n",
       ".sk-estimator-doc-link,\n",
       "a:link.sk-estimator-doc-link,\n",
       "a:visited.sk-estimator-doc-link {\n",
       "  float: right;\n",
       "  font-size: smaller;\n",
       "  line-height: 1em;\n",
       "  font-family: monospace;\n",
       "  background-color: var(--sklearn-color-background);\n",
       "  border-radius: 1em;\n",
       "  height: 1em;\n",
       "  width: 1em;\n",
       "  text-decoration: none !important;\n",
       "  margin-left: 0.5em;\n",
       "  text-align: center;\n",
       "  /* unfitted */\n",
       "  border: var(--sklearn-color-unfitted-level-1) 1pt solid;\n",
       "  color: var(--sklearn-color-unfitted-level-1);\n",
       "}\n",
       "\n",
       ".sk-estimator-doc-link.fitted,\n",
       "a:link.sk-estimator-doc-link.fitted,\n",
       "a:visited.sk-estimator-doc-link.fitted {\n",
       "  /* fitted */\n",
       "  border: var(--sklearn-color-fitted-level-1) 1pt solid;\n",
       "  color: var(--sklearn-color-fitted-level-1);\n",
       "}\n",
       "\n",
       "/* On hover */\n",
       "div.sk-estimator:hover .sk-estimator-doc-link:hover,\n",
       ".sk-estimator-doc-link:hover,\n",
       "div.sk-label-container:hover .sk-estimator-doc-link:hover,\n",
       ".sk-estimator-doc-link:hover {\n",
       "  /* unfitted */\n",
       "  background-color: var(--sklearn-color-unfitted-level-3);\n",
       "  color: var(--sklearn-color-background);\n",
       "  text-decoration: none;\n",
       "}\n",
       "\n",
       "div.sk-estimator.fitted:hover .sk-estimator-doc-link.fitted:hover,\n",
       ".sk-estimator-doc-link.fitted:hover,\n",
       "div.sk-label-container:hover .sk-estimator-doc-link.fitted:hover,\n",
       ".sk-estimator-doc-link.fitted:hover {\n",
       "  /* fitted */\n",
       "  background-color: var(--sklearn-color-fitted-level-3);\n",
       "  color: var(--sklearn-color-background);\n",
       "  text-decoration: none;\n",
       "}\n",
       "\n",
       "/* Span, style for the box shown on hovering the info icon */\n",
       ".sk-estimator-doc-link span {\n",
       "  display: none;\n",
       "  z-index: 9999;\n",
       "  position: relative;\n",
       "  font-weight: normal;\n",
       "  right: .2ex;\n",
       "  padding: .5ex;\n",
       "  margin: .5ex;\n",
       "  width: min-content;\n",
       "  min-width: 20ex;\n",
       "  max-width: 50ex;\n",
       "  color: var(--sklearn-color-text);\n",
       "  box-shadow: 2pt 2pt 4pt #999;\n",
       "  /* unfitted */\n",
       "  background: var(--sklearn-color-unfitted-level-0);\n",
       "  border: .5pt solid var(--sklearn-color-unfitted-level-3);\n",
       "}\n",
       "\n",
       ".sk-estimator-doc-link.fitted span {\n",
       "  /* fitted */\n",
       "  background: var(--sklearn-color-fitted-level-0);\n",
       "  border: var(--sklearn-color-fitted-level-3);\n",
       "}\n",
       "\n",
       ".sk-estimator-doc-link:hover span {\n",
       "  display: block;\n",
       "}\n",
       "\n",
       "/* \"?\"-specific style due to the `<a>` HTML tag */\n",
       "\n",
       "#sk-container-id-1 a.estimator_doc_link {\n",
       "  float: right;\n",
       "  font-size: 1rem;\n",
       "  line-height: 1em;\n",
       "  font-family: monospace;\n",
       "  background-color: var(--sklearn-color-background);\n",
       "  border-radius: 1rem;\n",
       "  height: 1rem;\n",
       "  width: 1rem;\n",
       "  text-decoration: none;\n",
       "  /* unfitted */\n",
       "  color: var(--sklearn-color-unfitted-level-1);\n",
       "  border: var(--sklearn-color-unfitted-level-1) 1pt solid;\n",
       "}\n",
       "\n",
       "#sk-container-id-1 a.estimator_doc_link.fitted {\n",
       "  /* fitted */\n",
       "  border: var(--sklearn-color-fitted-level-1) 1pt solid;\n",
       "  color: var(--sklearn-color-fitted-level-1);\n",
       "}\n",
       "\n",
       "/* On hover */\n",
       "#sk-container-id-1 a.estimator_doc_link:hover {\n",
       "  /* unfitted */\n",
       "  background-color: var(--sklearn-color-unfitted-level-3);\n",
       "  color: var(--sklearn-color-background);\n",
       "  text-decoration: none;\n",
       "}\n",
       "\n",
       "#sk-container-id-1 a.estimator_doc_link.fitted:hover {\n",
       "  /* fitted */\n",
       "  background-color: var(--sklearn-color-fitted-level-3);\n",
       "}\n",
       "</style><div id=\"sk-container-id-1\" class=\"sk-top-container\"><div class=\"sk-text-repr-fallback\"><pre>KNeighborsClassifier()</pre><b>In a Jupyter environment, please rerun this cell to show the HTML representation or trust the notebook. <br />On GitHub, the HTML representation is unable to render, please try loading this page with nbviewer.org.</b></div><div class=\"sk-container\" hidden><div class=\"sk-item\"><div class=\"sk-estimator fitted sk-toggleable\"><input class=\"sk-toggleable__control sk-hidden--visually\" id=\"sk-estimator-id-1\" type=\"checkbox\" checked><label for=\"sk-estimator-id-1\" class=\"sk-toggleable__label fitted sk-toggleable__label-arrow\"><div><div>KNeighborsClassifier</div></div><div><a class=\"sk-estimator-doc-link fitted\" rel=\"noreferrer\" target=\"_blank\" href=\"https://scikit-learn.org/1.6/modules/generated/sklearn.neighbors.KNeighborsClassifier.html\">?<span>Documentation for KNeighborsClassifier</span></a><span class=\"sk-estimator-doc-link fitted\">i<span>Fitted</span></span></div></label><div class=\"sk-toggleable__content fitted\"><pre>KNeighborsClassifier()</pre></div> </div></div></div></div>"
      ],
      "text/plain": [
       "KNeighborsClassifier()"
      ]
     },
     "execution_count": 16,
     "metadata": {},
     "output_type": "execute_result"
    }
   ],
   "source": [
    "# Fit model to data\n",
    "model.fit(X_train, y_train)"
   ]
  },
  {
   "cell_type": "markdown",
   "id": "be29bcee-fd74-4a1b-bc9a-d823c7077940",
   "metadata": {},
   "source": [
    "In scikit-learn an object that has a `fit` method is called an **estimator**. We can use the estimator to make predictions on our data."
   ]
  },
  {
   "cell_type": "code",
   "execution_count": 17,
   "id": "fb8bceb6-e4c6-4fce-92b2-aca92190db18",
   "metadata": {},
   "outputs": [],
   "source": [
    "# Predict test labels\n",
    "predictions = model.predict(X_test)"
   ]
  },
  {
   "cell_type": "markdown",
   "id": "c26aaf2a-6290-4921-bf61-0300cc98716f",
   "metadata": {},
   "source": [
    "We then use the `score` method to evaluate the performance of our model."
   ]
  },
  {
   "cell_type": "code",
   "execution_count": 18,
   "id": "a6d0e874-0ba1-446b-b548-054095e28986",
   "metadata": {},
   "outputs": [
    {
     "name": "stdout",
     "output_type": "stream",
     "text": [
      "The test accuracy using a KNeighborsClassifier is 0.986\n"
     ]
    }
   ],
   "source": [
    "# Score\n",
    "accuracy = model.score(X_test, y_test)\n",
    "model_name = model.__class__.__name__\n",
    "print(f\"The test accuracy using a {model_name} is {accuracy:.3f}\")"
   ]
  },
  {
   "cell_type": "markdown",
   "id": "15b3de0a-8683-4ba1-ac09-0f35a355f1e1",
   "metadata": {},
   "source": [
    "To compute the score, the predictor first computes the predictions (using the predict method) and then uses a scoring function to compare the true value vs. the predictions.\n",
    "\n",
    "```{note}\n",
    "If we compare with the accuracy obtained by wrongly evaluating the model on the **training data**, we find a higher accuracy compared to the score obtained on the held-out test data.\n",
    "```"
   ]
  },
  {
   "cell_type": "code",
   "execution_count": 19,
   "id": "1597fe6b-0be1-4274-8af3-d0e6a46df9e4",
   "metadata": {},
   "outputs": [
    {
     "name": "stdout",
     "output_type": "stream",
     "text": [
      "The test accuracy using a KNeighborsClassifier is 0.993\n"
     ]
    }
   ],
   "source": [
    "accuracy = model.score(X_train, y_train)\n",
    "model_name = model.__class__.__name__\n",
    "print(f\"The test accuracy using a {model_name} is {accuracy:.3f}\")"
   ]
  },
  {
   "cell_type": "markdown",
   "id": "655cd660-72d0-44ef-a771-ab92341bfcdd",
   "metadata": {},
   "source": [
    "## Confusion matrix\n",
    "\n",
    "Overall accuracy is a rather crude metric for evaluating the performance of our model. Each observation in the test dataset is treated eqaully, So, as we mentioned earlier, the model could 100% accurate at identifying common penguin species (e.g. Adelie and Gentoo) but be bad at identifying rarer penguin species (e.g. Chinstrap) and still have a high overall accuracy.\n",
    "\n",
    "The standard way of evaluating a multi-class prediction model is to use a confusion matrix. "
   ]
  },
  {
   "cell_type": "code",
   "execution_count": 20,
   "id": "3ccc5a68-76e8-4a9c-a1ab-fd585df74ecc",
   "metadata": {},
   "outputs": [
    {
     "data": {
      "image/png": "[encoded data removed]",
      "text/plain": [
       "<Figure size 640x480 with 2 Axes>"
      ]
     },
     "metadata": {},
     "output_type": "display_data"
    }
   ],
   "source": [
    "from sklearn.metrics import confusion_matrix, ConfusionMatrixDisplay\n",
    "\n",
    "# Generate confusion matrix\n",
    "cm = confusion_matrix(y_test, predictions, labels=model.classes_)\n",
    "\n",
    "# Plot\n",
    "disp = ConfusionMatrixDisplay(confusion_matrix=cm, display_labels=model.classes_)\n",
    "disp.plot(cmap=plt.cm.Blues)\n",
    "plt.show()"
   ]
  },
  {
   "cell_type": "markdown",
   "id": "69f8083d-9be1-4e97-bc14-8c311f8a6f17",
   "metadata": {},
   "source": [
    "Luckily we didn't need to be worried about class imbalances. It looks like all the Chinstrap penguins in the test dataset were labelled accurately. However, our model mislabelled one Adelie penguin as a Chinstrap. "
   ]
  },
  {
   "cell_type": "markdown",
   "id": "5a2c30cb-7e1e-4ff1-b89b-3f763c839a0d",
   "metadata": {},
   "source": [
    "## Cross-validation\n",
    "\n",
    "Since our dataset has 342 individuals (i.e. not that many), we might as well use them all to fit our model. But, if we do this, we won't be able to effectively evaluate our model. To overcome this, we can use **cross-validation** which involves systematically repeating the train-test split such that the training and testing datasets are different for each evaluation. \n",
    "\n",
    "```{image} images/kfold.png\n",
    ":width: 800px\n",
    ":align: center\n",
    "```"
   ]
  },
  {
   "cell_type": "code",
   "execution_count": 21,
   "id": "af2f35e4-8a89-4c25-acd7-dab5de274b44",
   "metadata": {},
   "outputs": [
    {
     "name": "stdout",
     "output_type": "stream",
     "text": [
      "The mean test accuracy using cross-validation is 0.985\n"
     ]
    }
   ],
   "source": [
    "from sklearn.model_selection import KFold\n",
    "from sklearn.model_selection import cross_val_score\n",
    "\n",
    "# Define cross-validation\n",
    "cv = KFold(n_splits=5, shuffle=True, random_state=42)\n",
    "\n",
    "# Perform cross-validation\n",
    "test_scores = cross_val_score(model, df_scaled, y, cv=cv)\n",
    "\n",
    "print(f\"The mean test accuracy using cross-validation is {np.mean(test_scores):.3f}\")"
   ]
  },
  {
   "cell_type": "markdown",
   "id": "ab6c317f-7f80-43e9-90d3-0deca42ef33f",
   "metadata": {},
   "source": [
    "```{note}\n",
    "When we set `n_splits` to **5**, the dataset is split into 5 roughly equal parts (“folds”). In each round, 4 folds are used for training and 1 fold is used for testing (i.e. 80/20 split). If we set `n_splits` to 10, then the dataset would be split into 10 folds, meaning that 9 would be used for training and 1 for testin (i.e. 90/10 split). The split is therefore dependent on the number of folds. `KFold` may not be appropriate for small datasets (since `n_splits` cannot be larger than number of samples). \n",
    "```\n",
    "\n",
    "An alternative approach is called the `ShuffleSplit` which, as the name suggests, shuffles the dataset randomly and then splits it into a training set and a test set according to the sizes that we choose. This approach allows us to define specific train-test splits. \n",
    "\n",
    "```{image} images/shufflesplit.png\n",
    ":width: 800px\n",
    ":align: center\n",
    "```"
   ]
  },
  {
   "cell_type": "code",
   "execution_count": 22,
   "id": "53255b61-3a55-4445-9231-06d17a432f88",
   "metadata": {},
   "outputs": [
    {
     "name": "stdout",
     "output_type": "stream",
     "text": [
      "The mean test accuracy using cross-validation is 0.991\n"
     ]
    }
   ],
   "source": [
    "from sklearn.model_selection import ShuffleSplit\n",
    "\n",
    "# Define cross-validation\n",
    "cv = ShuffleSplit(n_splits=5, test_size=0.2, random_state=42)\n",
    "\n",
    "# Perform cross-validation\n",
    "test_scores = cross_val_score(model, df_scaled, y, cv=cv)\n",
    "\n",
    "print(f\"The mean test accuracy using cross-validation is {np.mean(test_scores):.3f}\")"
   ]
  },
  {
   "cell_type": "markdown",
   "id": "5c86705e-7114-4e19-b065-73acdc53a4be",
   "metadata": {},
   "source": [
    "## Other models\n",
    "\n",
    "Now that we have tested one model on our dataset, it is simple to test other models."
   ]
  },
  {
   "cell_type": "code",
   "execution_count": 23,
   "id": "fdc1081b-b0d2-477e-990b-b86d4f3a3311",
   "metadata": {},
   "outputs": [
    {
     "name": "stdout",
     "output_type": "stream",
     "text": [
      "The test accuracy using a DecisionTreeClassifier is 0.942\n"
     ]
    },
    {
     "data": {
      "image/png": "[encoded data removed]",
      "text/plain": [
       "<Figure size 640x480 with 2 Axes>"
      ]
     },
     "metadata": {},
     "output_type": "display_data"
    }
   ],
   "source": [
    "from sklearn.tree import DecisionTreeClassifier\n",
    "\n",
    "# Define model\n",
    "model = DecisionTreeClassifier()\n",
    "\n",
    "# Fit model\n",
    "model.fit(X_train, y_train)\n",
    "\n",
    "# Predict test labels\n",
    "predictions = model.predict(X_test)\n",
    "\n",
    "# Score\n",
    "accuracy = model.score(X_test, y_test)\n",
    "model_name = model.__class__.__name__\n",
    "print(f\"The test accuracy using a {model_name} is {accuracy:.3f}\")\n",
    "\n",
    "# Generate confusion matrix\n",
    "cm = confusion_matrix(y_test, predictions, labels=model.classes_)\n",
    "\n",
    "# Plot\n",
    "disp = ConfusionMatrixDisplay(confusion_matrix=cm, display_labels=model.classes_)\n",
    "disp.plot(cmap=plt.cm.Blues)\n",
    "plt.show()"
   ]
  },
  {
   "cell_type": "markdown",
   "id": "b673b547",
   "metadata": {
    "slideshow": {
     "slide_type": "slide"
    }
   },
   "source": [
    "A popular **ensemble algorithm** that fits a number of **decision tree classifiers** on various sub-samples of the dataset and uses averaging to improve the predictive accuracy and control over-fitting."
   ]
  },
  {
   "cell_type": "code",
   "execution_count": 24,
   "id": "26c379fe",
   "metadata": {
    "slideshow": {
     "slide_type": "-"
    }
   },
   "outputs": [
    {
     "name": "stdout",
     "output_type": "stream",
     "text": [
      "The test accuracy using a RandomForestClassifier is 0.971\n"
     ]
    },
    {
     "data": {
      "image/png": "[encoded data removed]",
      "text/plain": [
       "<Figure size 640x480 with 2 Axes>"
      ]
     },
     "metadata": {},
     "output_type": "display_data"
    }
   ],
   "source": [
    "from sklearn.ensemble import RandomForestClassifier\n",
    "\n",
    "# Define model\n",
    "model = RandomForestClassifier(n_estimators=30)\n",
    "\n",
    "# Fit model\n",
    "model.fit(X_train, y_train)\n",
    "\n",
    "# Predict test labels\n",
    "predictions = model.predict(X_test)\n",
    "\n",
    "# Score\n",
    "accuracy = model.score(X_test, y_test)\n",
    "model_name = model.__class__.__name__\n",
    "print(f\"The test accuracy using a {model_name} is {accuracy:.3f}\")\n",
    "\n",
    "# Generate confusion matrix\n",
    "cm = confusion_matrix(y_test, predictions, labels=model.classes_)\n",
    "\n",
    "# Plot\n",
    "disp = ConfusionMatrixDisplay(confusion_matrix=cm, display_labels=model.classes_)\n",
    "disp.plot(cmap=plt.cm.Blues)\n",
    "plt.show()"
   ]
  },
  {
   "cell_type": "markdown",
   "id": "80b7be43-6f5f-434c-b241-185597936521",
   "metadata": {},
   "source": [
    "## Parameters\n",
    "\n",
    "All three models that we have used so far can be **customized** using parameters. We can apply the `get_params()` method to our estimators to see what we can adjust. \n",
    "\n",
    "For our `KNeighborsClassifier`, the most important parameter is `n_neighbors` which is the number of neighboring observations that the algorithm looks at when making a prediction."
   ]
  },
  {
   "cell_type": "code",
   "execution_count": 25,
   "id": "177fb86d-c1b1-48e8-84b2-87fe408e7420",
   "metadata": {},
   "outputs": [
    {
     "name": "stdout",
     "output_type": "stream",
     "text": [
      "{'algorithm': 'auto', 'leaf_size': 30, 'metric': 'minkowski', 'metric_params': None, 'n_jobs': None, 'n_neighbors': 5, 'p': 2, 'weights': 'uniform'}\n"
     ]
    }
   ],
   "source": [
    "# Define model\n",
    "model = KNeighborsClassifier()\n",
    "\n",
    "# Print all hyperparameters\n",
    "print(model.get_params())"
   ]
  },
  {
   "cell_type": "markdown",
   "id": "2cebc872-b2d5-49cc-bffb-e50fc6d7a0a9",
   "metadata": {},
   "source": [
    "For our `DecisionTreeClassifier`, there are more parameters we can adjust but the main one is the `max_depth` which limits the number of levels (or layers of splits) in a decision tree. "
   ]
  },
  {
   "cell_type": "code",
   "execution_count": 26,
   "id": "d732b1dc-c04c-4ccc-af4d-ea8bb5061309",
   "metadata": {},
   "outputs": [
    {
     "name": "stdout",
     "output_type": "stream",
     "text": [
      "{'ccp_alpha': 0.0, 'class_weight': None, 'criterion': 'gini', 'max_depth': None, 'max_features': None, 'max_leaf_nodes': None, 'min_impurity_decrease': 0.0, 'min_samples_leaf': 1, 'min_samples_split': 2, 'min_weight_fraction_leaf': 0.0, 'monotonic_cst': None, 'random_state': None, 'splitter': 'best'}\n"
     ]
    }
   ],
   "source": [
    "# Define model\n",
    "model = DecisionTreeClassifier()\n",
    "\n",
    "# Print all hyperparameters\n",
    "print(model.get_params())"
   ]
  },
  {
   "cell_type": "markdown",
   "id": "f48c8022-5e6d-4c82-bd8f-3f0289f3da49",
   "metadata": {},
   "source": [
    "If we set `max_depth` to be small (e.g. <5) then the tree will be shallow and model is only likely to capture broad, simple patterns. It may therefore be prone to **underfitting**. \n",
    "\n",
    "In contrast, if we do not set `max_depth`, it defaults to `None` meaning that there is not limit on the height of the tree. On the one head, this may be useful because the tree is more likely to capture more subtle patterns. However, if the tree becomes too deep, then it may begin to split the data until every sample is perfectly separated. If the dataset contains **noise** (which is likely), then the tree will be fitted not only to the true signal but also to **noise** in the data. We call this **overfitting** and it can reduce the overall accuracy of our model."
   ]
  },
  {
   "cell_type": "markdown",
   "id": "ae7e5580-4fed-48a4-b9d8-a90adb8e9a6b",
   "metadata": {},
   "source": [
    "## Overfitting and underfitting\n",
    "\n",
    "So cane we pick a `max_depth` that prevents our model underfitting or overfitting our data? Yes, we can but we have approached the limit of our penguin dataset, so we will now use a new dataset that contains the median value of houses in an area in California. The features collected are based on some statistical averages for each region and geographic information. The goal is therefore to **predict a continuous variable** i.e. **regression**.\n",
    "\n",
    "First let's import the data and define a decision tree regressor with no limit on `max_depth`."
   ]
  },
  {
   "cell_type": "code",
   "execution_count": 27,
   "id": "6e01057f-061a-4e3a-a199-0b9cb57d153c",
   "metadata": {},
   "outputs": [
    {
     "data": {
      "text/html": [
       "<div>\n",
       "<style scoped>\n",
       "    .dataframe tbody tr th:only-of-type {\n",
       "        vertical-align: middle;\n",
       "    }\n",
       "\n",
       "    .dataframe tbody tr th {\n",
       "        vertical-align: top;\n",
       "    }\n",
       "\n",
       "    .dataframe thead th {\n",
       "        text-align: right;\n",
       "    }\n",
       "</style>\n",
       "<table border=\"1\" class=\"dataframe\">\n",
       "  <thead>\n",
       "    <tr style=\"text-align: right;\">\n",
       "      <th></th>\n",
       "      <th>MedInc</th>\n",
       "      <th>HouseAge</th>\n",
       "      <th>AveRooms</th>\n",
       "      <th>AveBedrms</th>\n",
       "      <th>Population</th>\n",
       "      <th>AveOccup</th>\n",
       "      <th>Latitude</th>\n",
       "      <th>Longitude</th>\n",
       "    </tr>\n",
       "  </thead>\n",
       "  <tbody>\n",
       "    <tr>\n",
       "      <th>0</th>\n",
       "      <td>8.3252</td>\n",
       "      <td>41.0</td>\n",
       "      <td>6.984127</td>\n",
       "      <td>1.023810</td>\n",
       "      <td>322.0</td>\n",
       "      <td>2.555556</td>\n",
       "      <td>37.88</td>\n",
       "      <td>-122.23</td>\n",
       "    </tr>\n",
       "    <tr>\n",
       "      <th>1</th>\n",
       "      <td>8.3014</td>\n",
       "      <td>21.0</td>\n",
       "      <td>6.238137</td>\n",
       "      <td>0.971880</td>\n",
       "      <td>2401.0</td>\n",
       "      <td>2.109842</td>\n",
       "      <td>37.86</td>\n",
       "      <td>-122.22</td>\n",
       "    </tr>\n",
       "    <tr>\n",
       "      <th>2</th>\n",
       "      <td>7.2574</td>\n",
       "      <td>52.0</td>\n",
       "      <td>8.288136</td>\n",
       "      <td>1.073446</td>\n",
       "      <td>496.0</td>\n",
       "      <td>2.802260</td>\n",
       "      <td>37.85</td>\n",
       "      <td>-122.24</td>\n",
       "    </tr>\n",
       "    <tr>\n",
       "      <th>3</th>\n",
       "      <td>5.6431</td>\n",
       "      <td>52.0</td>\n",
       "      <td>5.817352</td>\n",
       "      <td>1.073059</td>\n",
       "      <td>558.0</td>\n",
       "      <td>2.547945</td>\n",
       "      <td>37.85</td>\n",
       "      <td>-122.25</td>\n",
       "    </tr>\n",
       "    <tr>\n",
       "      <th>4</th>\n",
       "      <td>3.8462</td>\n",
       "      <td>52.0</td>\n",
       "      <td>6.281853</td>\n",
       "      <td>1.081081</td>\n",
       "      <td>565.0</td>\n",
       "      <td>2.181467</td>\n",
       "      <td>37.85</td>\n",
       "      <td>-122.25</td>\n",
       "    </tr>\n",
       "  </tbody>\n",
       "</table>\n",
       "</div>"
      ],
      "text/plain": [
       "   MedInc  HouseAge  AveRooms  AveBedrms  Population  AveOccup  Latitude  \\\n",
       "0  8.3252      41.0  6.984127   1.023810       322.0  2.555556     37.88   \n",
       "1  8.3014      21.0  6.238137   0.971880      2401.0  2.109842     37.86   \n",
       "2  7.2574      52.0  8.288136   1.073446       496.0  2.802260     37.85   \n",
       "3  5.6431      52.0  5.817352   1.073059       558.0  2.547945     37.85   \n",
       "4  3.8462      52.0  6.281853   1.081081       565.0  2.181467     37.85   \n",
       "\n",
       "   Longitude  \n",
       "0    -122.23  \n",
       "1    -122.22  \n",
       "2    -122.24  \n",
       "3    -122.25  \n",
       "4    -122.25  "
      ]
     },
     "execution_count": 27,
     "metadata": {},
     "output_type": "execute_result"
    }
   ],
   "source": [
    "from sklearn.datasets import fetch_california_housing\n",
    "from sklearn.tree import DecisionTreeRegressor\n",
    "from sklearn.metrics import mean_absolute_error\n",
    "\n",
    "# Load data\n",
    "housing = fetch_california_housing(as_frame=True)\n",
    "data, target = housing.data, housing.target\n",
    "target *= 100  # rescale the target in k$\n",
    "data.head()"
   ]
  },
  {
   "cell_type": "code",
   "execution_count": 28,
   "id": "8364543c-492a-440c-a698-7b578643070a",
   "metadata": {},
   "outputs": [
    {
     "name": "stdout",
     "output_type": "stream",
     "text": [
      "The testing error of our model is 46.63 k$\n"
     ]
    }
   ],
   "source": [
    "# Define estimator\n",
    "regressor = DecisionTreeRegressor(max_depth=None)\n",
    "\n",
    "# Split\n",
    "data_train, data_test, target_train, target_test = train_test_split(\n",
    "    data, target, random_state=42)\n",
    "\n",
    "# Fit\n",
    "regressor.fit(data_train, target_train)\n",
    "\n",
    "# Predict\n",
    "target_predicted = regressor.predict(data_test)\n",
    "score = mean_absolute_error(target_test, target_predicted)\n",
    "print(f\"The testing error of our model is {score:.2f} k$\")"
   ]
  },
  {
   "cell_type": "markdown",
   "id": "1664cbcc-ea4c-4f53-8d2e-66cb3ceb4063",
   "metadata": {},
   "source": [
    "To investigate under- and over-fitting, it is also useful to track the **training error**. This metric is defined as the accuracy of our model when applied to the target variable (i.e house price) of the **training dataset** (as opposed to the testing dataset)."
   ]
  },
  {
   "cell_type": "code",
   "execution_count": 29,
   "id": "79921c9a-5774-42a5-b887-0e1876cbb389",
   "metadata": {},
   "outputs": [
    {
     "name": "stdout",
     "output_type": "stream",
     "text": [
      "The training error of our model is 0.00 k$\n",
      "Tree depth: 36\n",
      "Number of leaves: 14848\n"
     ]
    }
   ],
   "source": [
    "# Fit\n",
    "regressor.fit(data_train, target_train)\n",
    "\n",
    "# Predict\n",
    "target_predicted = regressor.predict(data_train)\n",
    "score = mean_absolute_error(target_train, target_predicted)\n",
    "print(f\"The training error of our model is {score:.2f} k$\")\n",
    "print(\"Tree depth:\", regressor.tree_.max_depth)\n",
    "print(\"Number of leaves:\", regressor.tree_.n_leaves)"
   ]
  },
  {
   "cell_type": "markdown",
   "id": "7c2a9565-bf35-4a24-bb38-6d06f9f524b4",
   "metadata": {},
   "source": [
    "We get perfect prediction with **zero training error**. This is because our decision tree grew so large that it was able to fully memorize our dataset. This should set off some alarm bells because it means our model is likely capturing **noise**. \n",
    "\n",
    "We can use **validation curves** to pick a `max_depth` that is more appropriate for our dataset. "
   ]
  },
  {
   "cell_type": "code",
   "execution_count": 30,
   "id": "43f1d0cd-43f5-4d5e-b3d4-c624a9cac826",
   "metadata": {},
   "outputs": [
    {
     "data": {
      "image/png": "[encoded data removed]",
      "text/plain": [
       "<Figure size 640x480 with 1 Axes>"
      ]
     },
     "metadata": {},
     "output_type": "display_data"
    }
   ],
   "source": [
    "from sklearn.model_selection import ValidationCurveDisplay\n",
    "\n",
    "max_depth = np.array([1, 5, 10, 15, 20, 25])\n",
    "disp = ValidationCurveDisplay.from_estimator(\n",
    "    regressor, data, target, param_name=\"max_depth\", param_range=max_depth,\n",
    "    scoring=\"neg_mean_absolute_error\", negate_score=True, std_display_style=\"errorbar\", n_jobs=2)\n",
    "_ = disp.ax_.set(\n",
    "    xlabel=\"Maximum depth of decision tree\",\n",
    "    ylabel=\"Mean absolute error (k$)\",)"
   ]
  },
  {
   "cell_type": "markdown",
   "id": "d1cf5e24-2398-4e66-b68c-8f86f3e532cd",
   "metadata": {},
   "source": [
    "The plot shows that:\n",
    "\n",
    "* For `max_depth < 10`, the decision tree underfits the data. The training error and therefore the testing error are both high because the model is too constrained and cannot capture much of the variability of in house prices.\n",
    "\n",
    "* The decision tree generalizes the best at `max_depth = 10`. It is flexible enough to capture a fraction of the variability of the target that generalizes, while not memorizing all of the noise in the target.\n",
    "\n",
    "* The decision tree overfits for `max_depth > 10`. The training error becomes very small, while the testing error actually increases. At these `max_depths`, the model is memorizing the dataset, including the noise, which is harming its ability to generalize to the test data.\n",
    "\n",
    "We have just performed **regularization**, an important machine learning concept that refers to any approach that is used to **constrain model complexity to avoid overfitting**. \n",
    "\n",
    "Another example of under- or over-fitting would be a polynomial function that had too few or too many degrees.\n",
    "\n",
    "```{image} images/overunder.png\n",
    ":width: 800px\n",
    ":align: center\n",
    "```"
   ]
  },
  {
   "cell_type": "markdown",
   "id": "120964ee-d4e3-4aaa-8622-9963c68190c6",
   "metadata": {},
   "source": [
    "## Noise\n",
    "\n",
    "Our house price dataset likely contains a lot of noise. The price of the house could depend time of year or the circumstances of the buyer or seller. These factors are not considered in the features. Since these missing feature are randomly varying from one sample to the next, it appears as if the target variable was changing because of the impact of a random perturbation or noise, even if there were no errors made during the data collection process.\n",
    "\n",
    "The same is true for environmental data. We may not be able to measure something that impacts the target variable. It is also possible that there are instrumental errors such as poorly calibrated sensors, limitations in precision, or interference that impact the accuracy of our data. Those unpredictable data acquisition errors can happen either on the input features or in the target variable (in which case we often name this **label noise**).\n",
    "\n",
    "While it is challenging to understand which kind of “noise” is dominating, there are many strategies to to make our predictive models robust to noise. These be applied across the entire development cycle:\n",
    "\n",
    "* **Data augmentation** (e.g. increase the number of labeled samples in our training dataset)\n",
    "\n",
    "* **Regularization** (e.g. enforce limits or penalize models that become too complex)\n",
    "\n",
    "* **Ensemble models** (e.g. combine predictions from multiple different models to average out errors from individual models)\n",
    "\n",
    "* **Cross-validation** (e.g. assess ability of model to perform consistently across different data subsets)\n",
    "\n",
    "And there are probably many other strategies..."
   ]
  },
  {
   "cell_type": "markdown",
   "id": "d3274f58-63a6-4c89-8143-572fcac39369",
   "metadata": {},
   "source": [
    "## Learning curves\n",
    "\n",
    "Besides under- and over-fitting, it is also important to understand how the accuracy of our model is influenced by the **number of samples available**. To investigate this source of error, we can synthetically reduce the number of samples used to train the predictive model and check the training and testing errors using a **learning curve**. \n",
    "\n",
    "```{note}\n",
    "A learning curve could also be used to investigate how the testing error changes with number of training cycles or epochs.\n",
    "```\n",
    "\n",
    "Let’s compute the learning curve for a decision tree and vary the proportion of the training set from 10% to 100%."
   ]
  },
  {
   "cell_type": "code",
   "execution_count": 31,
   "id": "efae73ff-b1e9-4645-b2ac-aba9e9940848",
   "metadata": {},
   "outputs": [
    {
     "data": {
      "text/plain": [
       "array([0.1  , 0.325, 0.55 , 0.775, 1.   ])"
      ]
     },
     "execution_count": 31,
     "metadata": {},
     "output_type": "execute_result"
    }
   ],
   "source": [
    "train_sizes = np.linspace(0.1, 1.0, num=5, endpoint=True)\n",
    "train_sizes"
   ]
  },
  {
   "cell_type": "markdown",
   "id": "ed5d9164-4176-4c0b-9f5e-b5d79900df36",
   "metadata": {},
   "source": [
    "We will use a `ShuffleSplit` cross-validation to assess our predictive model."
   ]
  },
  {
   "cell_type": "code",
   "execution_count": 32,
   "id": "d70a6431-b41c-45bb-81bd-dcf2fbb7f698",
   "metadata": {},
   "outputs": [],
   "source": [
    "cv = ShuffleSplit(n_splits=30, test_size=0.2)"
   ]
  },
  {
   "cell_type": "markdown",
   "id": "d2d29857-e325-4b1d-86f6-124566473bc1",
   "metadata": {},
   "source": [
    "Now, we are all set to carry out the experiment."
   ]
  },
  {
   "cell_type": "code",
   "execution_count": 33,
   "id": "1558b6a8-d252-4e60-9d37-79a91e64731a",
   "metadata": {},
   "outputs": [
    {
     "data": {
      "image/png": "[encoded data removed]",
      "text/plain": [
       "<Figure size 640x480 with 1 Axes>"
      ]
     },
     "metadata": {},
     "output_type": "display_data"
    }
   ],
   "source": [
    "from sklearn.model_selection import LearningCurveDisplay\n",
    "\n",
    "display = LearningCurveDisplay.from_estimator(\n",
    "    regressor, data, target, train_sizes=train_sizes, cv=cv,\n",
    "    score_type=\"test\",\n",
    "    scoring=\"neg_mean_absolute_error\",\n",
    "    negate_score=True,\n",
    "    score_name=\"Mean absolute error (k$)\",\n",
    "    std_display_style=\"errorbar\",\n",
    "    n_jobs=2,\n",
    ")"
   ]
  },
  {
   "cell_type": "markdown",
   "id": "47fafc51-a67a-42db-81b3-e494f78a29ab",
   "metadata": {},
   "source": [
    "We find that the testing error becomes lower as more samples are added to the training set. It looks as though the testing error is starting to plateau a bit but it is also still going down. We can therefore conclude that more samples would probably improve our predicitve model. This kind of analysis can be useful for informing decision-making. If it is possible to collect more samples, then we should probably do that. However, if the testing error did plateau, then collecting more samples would not be useful and we may reserve our efforts for other things e.g. reducing or handling noise in dataset, developing more sophisticated models etc."
   ]
  },
  {
   "cell_type": "markdown",
   "id": "ed1bd6d3-d228-4ec8-aa65-f48efdb54e88",
   "metadata": {},
   "source": [
    "## Further reading\n",
    "\n",
    "More information about the Palmer Penguin dataset can be found [here](https://allisonhorst.github.io/palmerpenguins/index.html)"
   ]
  },
  {
   "cell_type": "code",
   "execution_count": null,
   "id": "bf5aae06-944e-490f-90fa-b2898109f1ad",
   "metadata": {},
   "outputs": [],
   "source": []
  }
 ],
 "metadata": {
  "celltoolbar": "Slideshow",
  "kernelspec": {
   "display_name": "Python 3 (ipykernel)",
   "language": "python",
   "name": "python3"
  },
  "language_info": {
   "codemirror_mode": {
    "name": "ipython",
    "version": 3
   },
   "file_extension": ".py",
   "mimetype": "text/x-python",
   "name": "python",
   "nbconvert_exporter": "python",
   "pygments_lexer": "ipython3",
   "version": "3.12.8"
  }
 },
 "nbformat": 4,
 "nbformat_minor": 5
}