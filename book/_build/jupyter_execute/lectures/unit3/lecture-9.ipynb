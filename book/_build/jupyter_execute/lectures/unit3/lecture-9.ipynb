{
 "cells": [
  {
   "cell_type": "markdown",
   "id": "9d86dc93",
   "metadata": {
    "slideshow": {
     "slide_type": "skip"
    }
   },
   "source": [
    "# Code management\n",
    "\n",
    "In this demo we will learn about using **version control** to collaborate on programming projects.\n",
    "\n",
    "```{image} images/version_control.png\n",
    ":width: 400px\n",
    ":align: center\n",
    "```\n",
    "\n",
    "We've all been in this situation before: it seems unnecessary to have multiple nearly-identical versions of the same document. \n",
    "\n",
    "The danger of losing good versions often leads to the problematic workflow illustrated in the PhD Comics cartoon at the top of this page.\n",
    "\n",
    "Collaborative writing with traditional word processors is cumbersome. Either every collaborator has to work on a document sequentially (slowing down the process of writing), or you have to send out a version to all collaborators and manually merge their comments into your document. The **track changes** option can highlight changes for you and simplifies merging, but as soon as you accept changes you will lose their history. You will then no longer know who suggested that change, why it was suggested, or when it was merged into the rest of the document."
   ]
  },
  {
   "cell_type": "markdown",
   "id": "602cd5a0",
   "metadata": {},
   "source": [
    "* **Version control systems** (VCS) start with a **base version** of the document and then **keeps track of changes** you make each step of the way\n",
    "\n",
    "\n",
    "* VCS are essential for **developing software** and **carrying out projects** with a lot of code\n",
    "\n",
    "\n",
    "* VCS does not care about file names, intead records **who, what, when, and why** changes were made to files\n",
    "\n",
    "```{image} images/branch.svg\n",
    ":width: 600px\n",
    ":align: center\n",
    "```"
   ]
  },
  {
   "cell_type": "markdown",
   "id": "c6074198",
   "metadata": {},
   "source": [
    "## Git\n",
    "\n",
    "* One of the most popular VCS tools in use today is called `git`\n",
    "\n",
    "\n",
    "* It is a command-line tool that is installed locally \n",
    "\n",
    "\n",
    "* It is free and open-source software\n",
    "\n",
    "```{image} images/git.svg\n",
    ":width: 600px\n",
    ":align: center\n",
    "```"
   ]
  },
  {
   "cell_type": "markdown",
   "id": "0479dc9a",
   "metadata": {
    "slideshow": {
     "slide_type": "slide"
    }
   },
   "source": [
    "## GitHub\n",
    "\n",
    "* **GitHub** is a web-based hosting service for `git`\n",
    "\n",
    "\n",
    "* Provides a graphical user interface\n",
    "\n",
    "\n",
    "* Maintained by Microsoft\n",
    "\n",
    "\n",
    "* There are other web-based hosting services (e.g. **GitLab** and **Bitbucket**)\n",
    "\n",
    "```{image} images/github.png\n",
    ":width: 200px\n",
    ":align: center\n",
    "```"
   ]
  },
  {
   "cell_type": "markdown",
   "id": "75b8a8eb",
   "metadata": {
    "slideshow": {
     "slide_type": "notes"
    }
   },
   "source": [
    "## Why do we use version control systems?\n",
    "\n",
    "### Security\n",
    "\n",
    "\n",
    "* VCS acts like an unlimited **'undo'** thereby **protecting source code** from yourself **and** others \n",
    "    \n",
    "    \n",
    "* e.g. catastrophe, human error, and unintended consequences\n",
    "\n",
    "```{image} images/hero.svg\n",
    ":width: 600px\n",
    ":align: center\n",
    "```\n",
    "\n",
    "### Collaboration\n",
    "\n",
    "* VCS enables **many people** to work on the same project at the same time\n",
    "\n",
    "\n",
    "* Teams working in parallel accelerates project development\n",
    "\n",
    "\n",
    "```{image} images/colab.svg\n",
    ":width: 500px\n",
    ":align: center\n",
    "```\n",
    "\n",
    "### Community\n",
    "\n",
    "* Impossible for junior developer to mess up a big project \n",
    "\n",
    "\n",
    "* Since it is so robust this encourages open-source **experimentation** and **development**\n",
    "\n",
    "\n",
    "* `GitHub` has really emerged as the industry standard\n",
    "\n",
    "\n",
    "```{image} images/pull.svg\n",
    ":width: 500px\n",
    ":align: center\n",
    "```"
   ]
  },
  {
   "cell_type": "markdown",
   "id": "3af4bf90",
   "metadata": {
    "slideshow": {
     "slide_type": "slide"
    }
   },
   "source": [
    "## Drawbacks of version control\n",
    "\n",
    "* Difficult to learn\n",
    "\n",
    "```{image} images/meme.jpeg\n",
    ":width: 600px\n",
    ":align: center\n",
    "```"
   ]
  },
  {
   "cell_type": "markdown",
   "id": "ebdb159b",
   "metadata": {
    "slideshow": {
     "slide_type": "slide"
    }
   },
   "source": [
    "## Some basic terms\n",
    "\n",
    "### Fork\n",
    "\n",
    "* **Copy** a repository to your GitHub.com account\n",
    "\n",
    "\n",
    "### Clone\n",
    "\n",
    "* Retrieve a repository from **GitHub.com** to **local machine**\n",
    "\n",
    "### Commit\n",
    "\n",
    "* Create a **snapshot** of the contents of your file tree\n",
    "\n",
    "\n",
    "### Push\n",
    "\n",
    "* **Upload** your local changes to the central repository, along with necessary commits and objects\n",
    "\n",
    "\n",
    "### Pull \n",
    "\n",
    "* **Fetch** the contents of the central repository and immediately **merge** to your local copy"
   ]
  },
  {
   "cell_type": "markdown",
   "id": "afc07561",
   "metadata": {
    "slideshow": {
     "slide_type": "subslide"
    }
   },
   "source": [
    "## Collaborating with GitHub\n",
    "\n",
    "\n",
    "* Centralized workflow\n",
    "\n",
    "\n",
    "* Feature branch workflow\n",
    "\n",
    "\n",
    "* Forking workflow\n",
    "\n",
    "\n",
    "* Others (e.g. Gitflow workflow)"
   ]
  },
  {
   "cell_type": "markdown",
   "id": "d8598b07",
   "metadata": {
    "slideshow": {
     "slide_type": "subslide"
    }
   },
   "source": [
    "## Centralized workflow\n",
    "\n",
    "* All team members **clone** a **single, central repository** to their local machine\n",
    "\n",
    "```{image} images/colab.svg\n",
    ":width: 600px\n",
    ":align: center\n",
    "```\n",
    "\n",
    "* One team member makes changes (e.g. add, modify, delete) to files on their local machine\n",
    "\n",
    "\n",
    "* Periodically, they should **commit** these changes (i.e. take a snapshot) with a short message saying what they did\n",
    "\n",
    "\n",
    "* When they are finished working, they can **push** their changes back to the central repository \n",
    "\n",
    "\n",
    "```{image} images/john_push.svg\n",
    ":width: 600px\n",
    ":align: center\n",
    "```\n",
    "\n",
    "* But now when **another team member** (who has also been working on the project) tries to **push** their changes, Git will **refuse the request** because the their local history has **diverged** from the central repository\n",
    "\n",
    "\n",
    "```{image} images/mary_push.svg\n",
    ":width: 600px\n",
    ":align: center\n",
    "```\n",
    "\n",
    "* The team member must first **pull** the most recent changes in the central reposistory into their local repository\n",
    "\n",
    "```{image} images/mary_pull.svg\n",
    ":width: 600px\n",
    ":align: center\n",
    "```\n",
    "\n",
    "* Team member then resolves any conflicts between their local version and the central repository.\n",
    "\n",
    "\n",
    "* Once finished, team member can then **commit** and **push** their changes to the central repo  \n",
    "\n",
    "```{image} images/mary_successful_push.svg\n",
    ":width: 600px\n",
    ":align: center\n",
    "```\n"
   ]
  },
  {
   "cell_type": "markdown",
   "id": "1c551833",
   "metadata": {
    "slideshow": {
     "slide_type": "slide"
    }
   },
   "source": [
    "### Advantages\n",
    "\n",
    "* Simplest workflow\n",
    "\n",
    "\n",
    "* Works well for small teams\n",
    "\n",
    "\n",
    "### Disadvantages\n",
    "\n",
    "* If someone breaks the central repo, it breaks for everyone\n",
    "\n",
    "\n",
    "* Potential for a lot of conflicts\n",
    "\n",
    "\n",
    "* One solution is to avoid working on the same files\n",
    "\n",
    "\n",
    "* But this does not scale well as teams increase in size\n",
    "\n"
   ]
  },
  {
   "cell_type": "markdown",
   "id": "9bbca0a1",
   "metadata": {
    "slideshow": {
     "slide_type": "slide"
    }
   },
   "source": [
    "### Feature branch workflow\n",
    "\n",
    "* The logical extension of the centralized workflow is to use **branches**\n",
    "\n",
    "\n",
    "* In this workflow, all feature development takes place in a dedicated branch instead of the main branch\n",
    "\n",
    "\n",
    "* This means that main branch never contains broken code - a huge advantage for continuous integration environments"
   ]
  },
  {
   "cell_type": "markdown",
   "id": "930574da",
   "metadata": {
    "slideshow": {
     "slide_type": "subslide"
    }
   },
   "source": [
    "* All team members **clone** a **single, central repository** to their local machine\n",
    "\n",
    "```{image} images/colab.svg\n",
    ":width: 600px\n",
    ":align: center\n",
    "```"
   ]
  },
  {
   "cell_type": "markdown",
   "id": "7ad569e2",
   "metadata": {
    "slideshow": {
     "slide_type": "subslide"
    }
   },
   "source": [
    "* Team members immediately create a new branch to make their changes\n",
    "\n",
    "```{image} images/big_branch.svg\n",
    ":width: 600px\n",
    ":align: center\n",
    "```\n",
    "\n",
    "* When team members finish their changes, they **push** their branch to the central repository. The central repository will now contain multiple branches.  \n",
    "\n",
    "\n",
    "* Therefore, unlike the centralized workflow, this **push** will never cause conflicts\n",
    "\n",
    "\n",
    "```{image} images/mary_successful_push.svg\n",
    ":width: 600px\n",
    ":align: center\n",
    "```\n",
    "\n",
    "* Team members then submit a **pull request** on GitHub.com asking to **merge** their new feature (or branch) into the main codebase, all team members will be notified automatically\n",
    "\n",
    "\n",
    "```{image} images/git-pull-request.png\n",
    ":width: 300px\n",
    ":align: center\n",
    "```\n",
    "\n",
    "\n",
    "* Team leader **reviews** pull request, discusses any changes with team members\n",
    "\n",
    "\n",
    "* Once everything looks good, team leader merges new feature into main codebase\n",
    "\n",
    "\n",
    "* Team member can then delete their branch\n",
    "\n",
    "```{image} images/merge.svg\n",
    ":width: 600px\n",
    ":align: center\n",
    "```\n",
    "\n",
    "\n",
    "```{image} images/pull-request.png\n",
    ":width: 800px\n",
    ":align: center\n",
    "```\n",
    "\n",
    "\n",
    "```{image} images/pr-changes.png\n",
    ":width: 1000px\n",
    ":align: center\n",
    "```\n",
    "\n",
    "```{image} images/create-pull-request.png\n",
    ":width: 1000px\n",
    ":align: center\n",
    "```\n",
    "\n",
    "```{image} images/github-diff-file.png\n",
    ":width: 800px\n",
    ":align: center\n",
    "```\n"
   ]
  },
  {
   "cell_type": "markdown",
   "id": "0582e140",
   "metadata": {
    "slideshow": {
     "slide_type": "subslide"
    }
   },
   "source": [
    "### Advantages of feature branch workflow\n",
    "\n",
    "* Promotes collaboration with team members through **pull requests** and **merge reviews**\n",
    "\n",
    "\n",
    "* Teams can work in parallel on same files so good approach for larger teams\n",
    "\n",
    "\n",
    "* Main branch never contains broken code \n",
    "\n",
    "\n",
    "* Guiding framework for other, more complex worflows"
   ]
  },
  {
   "cell_type": "markdown",
   "id": "5b3c2ff3",
   "metadata": {
    "slideshow": {
     "slide_type": "slide"
    }
   },
   "source": [
    "* Instead of using a single, central repository, forking workflows give every team member their **own central repository**\n",
    "\n",
    "\n",
    "\n",
    "* Team members can tinker with their forked repository as they wish without disturbing anyone else\n",
    "\n",
    "\n",
    "\n",
    "* When ready they can **push** to their private central repository and file **pull requests** if they think their changes are ready to be integrated to main codebase\n",
    "\n",
    "\n",
    "```{image} images/multiple_repos.svg\n",
    ":width: 600px\n",
    ":align: center\n",
    "```\n"
   ]
  },
  {
   "cell_type": "markdown",
   "id": "4e23692d",
   "metadata": {
    "slideshow": {
     "slide_type": "subslide"
    }
   },
   "source": [
    "* Provides a little more **power** to the team leader because they are the only person that can push to the official repository\n",
    "\n",
    "\n",
    "\n",
    "* Allows the team leader to **accept/reject commits** from any developer without giving them write access to the main codebase\n",
    " \n",
    "\n",
    "\n",
    "* Often used for large open-source projects"
   ]
  },
  {
   "cell_type": "markdown",
   "id": "6b653c78",
   "metadata": {
    "slideshow": {
     "slide_type": "slide"
    }
   },
   "source": [
    "## Good practices\n",
    "\n",
    "### Agree on a workflow\n",
    "\n",
    "\n",
    "* It is important that teams establish shared patterns of collaboration\n",
    "\n",
    "\n",
    "* If a team doesn't agree on a shared workflow it can lead to inefficient communication when it comes time to merge branches\n",
    "\n",
    "\n",
    "### Commit often\n",
    "\n",
    "\n",
    "* Commits are **easy to make** and provide opportunities to **revert** or **undo** work\n",
    "\n",
    "\n",
    "* They should be made **frequently** to capture updates to a code base\n",
    "\n",
    "\n",
    "### Ensure you're working from latest version\n",
    "\n",
    "\n",
    "* VCS enables rapid updates from multiple developers\n",
    "\n",
    "\n",
    "* It's easy to have a local copy of the codebase fall behind the global copy\n",
    "\n",
    "\n",
    "* Make sure to `git pull` or `fetch` the latest code before you start working on project\n",
    "\n",
    "\n",
    "### Make detailed notes\n",
    "\n",
    "* It is important to leave descriptive explanatory commit log messages. These commit log messages should explain the \"why\" and \"what\" that encompass the commits content. \n",
    "\n",
    "\n",
    "* These log messages become the canonical history of the project's development and leave a trail for future contributors to review.\n",
    "\n",
    "\n",
    "### Use branches\n",
    "\n",
    "\n",
    "* Branches enable multiple developers to work in parallel on **separate lines** of development\n",
    "\n",
    "\n",
    "* Branches should be used **frequently** as they are quick and inexpensive. \n",
    "\n",
    "\n",
    "* When development on a branch is complete it should be **merged** into the main line of development and then **deleted**"
   ]
  },
  {
   "cell_type": "markdown",
   "id": "31efe1c9",
   "metadata": {},
   "source": [
    "There are two ways to use `git`, the command-line and **GitHub Desktop**. Most students prefer to use the desktop version to begin with but we'd be happy to provide guidance on the command-line version during labs.  \n",
    "\n",
    "\n",
    "## GitHub Desktop\n",
    "\n",
    "We will talk a bit more about `git` later in the lecture but, to continue setting up our project, go ahead and install [**GitHub Desktop**](https://desktop.github.com/). \n",
    "\n",
    "* Open **GitHub Desktop** &rarr; **Add an Existing Repository from your Hard Drive...**\n",
    "* Select **Choose...** and navigate to your project folder\n",
    "* Respond to this warning by clicking **create a repository**\n",
    "* Leave everything as is and **Create Repository**\n",
    "\n",
    "Now we can **Publish repository** on Github.com by clicking the big blue button. If you signed up for an educational GitHub account we should able to tick the box to **Keep this code private** and click **Publish Repository** again.\n",
    "\n",
    "\n",
    "## GitHub.com\n",
    "\n",
    "If we navigate to `github.com` on a web browser, sign in, and navigate to our profile, there should be a new **repository** that contains our files (just an `requirements.txt` and `.venv` folder for now).\n",
    "\n",
    "\n",
    "## Basic usage\n",
    "\n",
    "In line with our \"learn by doing\" mantra, we will demonstrate the basics of version control with GitHub using a demo. \n",
    "\n",
    "### Add a new file\n",
    "\n",
    "* Make a new text file using **Notepad** on Windows or **TextEdit** on MacOS called `README.md`, add some random text, and save.\n",
    "* In **GitHub Desktop** we will see **1 changed file**. \n",
    "* Type in **\"Added README\"** in the **Summary** box in the lower left &rarr; **Commit to main**.\n",
    "\n",
    "If we navigate to `github.com`, we will see this new file. \n",
    "\n",
    "### Make some changes\n",
    "\n",
    "Now make some changes to the text in the `README.md` file, save, **and close**. Again, we will see **1 changed file** in GitHub Desktop. \n",
    "\n",
    "### Undo the changes\n",
    "\n",
    "* Type in **\"Changed README\"** in the **Summary** box in the lower left and **Commit to main** again.\n",
    "* Click the **History** tab (next to **Changes**)\n",
    "* Right-click the **Changed README** commit and click **Revert Changes in Commit...**\n",
    "\n",
    "If we navigate to the `README.md` file, we will find that the changes we made have been deleted. We have successfully used `git` in a practical way!"
   ]
  }
 ],
 "metadata": {
  "celltoolbar": "Slideshow",
  "kernelspec": {
   "display_name": "Python 3 (ipykernel)",
   "language": "python",
   "name": "python3"
  },
  "language_info": {
   "codemirror_mode": {
    "name": "ipython",
    "version": 3
   },
   "file_extension": ".py",
   "mimetype": "text/x-python",
   "name": "python",
   "nbconvert_exporter": "python",
   "pygments_lexer": "ipython3",
   "version": "3.8.12"
  },
  "vscode": {
   "interpreter": {
    "hash": "98ce20a62d14c83720c35cdc17d6f29feb427dbce2dff08969263276c12b459c"
   }
  }
 },
 "nbformat": 4,
 "nbformat_minor": 5
}