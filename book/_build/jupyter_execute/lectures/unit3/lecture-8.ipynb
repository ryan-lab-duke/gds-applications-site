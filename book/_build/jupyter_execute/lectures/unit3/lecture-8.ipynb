{
 "cells": [
  {
   "cell_type": "markdown",
   "id": "64f1098a",
   "metadata": {
    "slideshow": {
     "slide_type": "skip"
    }
   },
   "source": [
    "# Data access\n",
    "\n",
    "So far in this course we have mainly been downloading data from OneDrive links provided by the instructor. But for our final projects, we will have to search for and download data independently. Finding, downloading, and cleaning data is an important, but laborious, part of geospatial data science. In this demo, we will learn how to **download data programmatically**. There are two good reasons for downloading data in this way:\n",
    "\n",
    "1) It is **automated**, meaning that it is both faster and more accurate than pointing and clicking\n",
    "\n",
    "2) It **links** the data access **to** our data analysis, meaning that we can make our analysis more **reproducible** (for ourselves **and** others!)\n",
    "\n",
    "we will mainly learn about downloading data using **Application Programming Interfaces (APIs)**. We will also talk about options for downloading data when an API is unavailable or insufficient."
   ]
  },
  {
   "cell_type": "markdown",
   "id": "342f1c02",
   "metadata": {
    "slideshow": {
     "slide_type": "slide"
    }
   },
   "source": [
    "## APIs\n",
    "\n",
    "Most organizations responsible for collecting, organizing, and storing data have a **public API** that we can use. An API is a type of software that provides a **standard set of protocols/functions** so that our computer can **communicate** with other computers (in contrast, a **user interface** is a type of software that connects a **computer** to a **person**). A **web API** is an API that allows our computer to communicate with other computers **over the internet**, typically using HTTPS.\n",
    "\n",
    "```{image} images/api.svg\n",
    ":width: 800px\n",
    ":align: center\n",
    "```\n",
    "\n",
    "### API request\n",
    "\n",
    "There are two key componets of an API: a **request** and a **response**. \n",
    "\n",
    "* We first send a **request** to a data source (i.e. **endpoint**). The request typically looks like a URL that we would type into a web browser except it contains sets of parameters that specify the type and particular subset of data that we are interested in.\n",
    "\n",
    "* The endpoint will then return a **response** code plus the data we asked for. Perhaps the most familiar response is the **\"404 Not Found\"** which is an HTTP status code that indicates the server could not find the requested resource. \n",
    "\n",
    "### RESTful web APIs\n",
    "\n",
    "There are many different types of web APIs but one the most common types is a `REST` or `RESTful`. A RESTful API is a web API that uses URL arguments to specify what information we want returned through the API.\n",
    "\n",
    "To put this all into perspective, next, you will explore a RESTful API interface example. For these kind of tasks, we have to carefully inspect the API **documentation** to understand what functions are available and what keyword arguments they require."
   ]
  },
  {
   "cell_type": "markdown",
   "id": "c47c1bba-0839-408c-a3fe-165ba8070c5d",
   "metadata": {},
   "source": [
    "## Official data from the state of North Carolina \n",
    "\n",
    "North Carolina has a service called **Log Into North Carolina (LINC)** which is an interactive data retrieval service containing historical information for over 900 data items and a variety of geographic areas within the state. Topics include: population, labor force, education, transportation, revenue, agriculture, vital statistics, energy and utilities, for a variety of geographic areas within the state.\n",
    "\n",
    "```{image} images/link.png\n",
    ":width: 300px\n",
    ":align: center\n",
    "```\n",
    "\n",
    "The **LINC API** is organized around REST can be accessed from the following link `https://linc.osbm.nc.gov/api/explore/v2.1/`. The homepage provides a list of **requests** that can be used for querying and accessing data.\n",
    "\n",
    "```{image} images/linc-catalog.png\n",
    ":width: 700px\n",
    ":align: center\n",
    "```\n",
    "\n",
    "```{image} images/linc-dataset.png\n",
    ":width: 700px\n",
    ":align: center\n",
    "```\n",
    "\n",
    "The API has a request that allows us to export the dataset as a csv file. We can do this using the Python package called `requests`. \n",
    "\n",
    "We will start by downloading the **monthly labor force** dataset.\n",
    "\n",
    "```{image} images/labor-force.png\n",
    ":width: 700px\n",
    ":align: center\n",
    "```"
   ]
  },
  {
   "cell_type": "code",
   "execution_count": 1,
   "id": "e944a3ce-78e6-4eb6-b645-9aad89a9419d",
   "metadata": {},
   "outputs": [],
   "source": [
    "import requests\n",
    "import pandas as pd\n",
    "from io import StringIO\n",
    "import numpy as np\n",
    "\n",
    "# Define base URL\n",
    "base_url = 'https://linc.osbm.nc.gov/api/explore/v2.1/catalog/datasets/'\n",
    "\n",
    "# Define dataset\n",
    "dataset = 'monthly-labor-force-linc/'\n",
    "\n",
    "# Define request\n",
    "request = 'exports/csv'"
   ]
  },
  {
   "cell_type": "code",
   "execution_count": 2,
   "id": "8e46187f-9b0c-4176-b6ca-45a1189de32c",
   "metadata": {},
   "outputs": [
    {
     "data": {
      "text/plain": [
       "<Response [200]>"
      ]
     },
     "execution_count": 2,
     "metadata": {},
     "output_type": "execute_result"
    }
   ],
   "source": [
    "# Make a request\n",
    "url = base_url + dataset + request\n",
    "response = requests.get(url)\n",
    "response"
   ]
  },
  {
   "cell_type": "code",
   "execution_count": 3,
   "id": "2ad5013a-a0e4-4f5b-ae25-7f487eb7b75f",
   "metadata": {},
   "outputs": [
    {
     "data": {
      "text/html": [
       "<div>\n",
       "<style scoped>\n",
       "    .dataframe tbody tr th:only-of-type {\n",
       "        vertical-align: middle;\n",
       "    }\n",
       "\n",
       "    .dataframe tbody tr th {\n",
       "        vertical-align: top;\n",
       "    }\n",
       "\n",
       "    .dataframe thead th {\n",
       "        text-align: right;\n",
       "    }\n",
       "</style>\n",
       "<table border=\"1\" class=\"dataframe\">\n",
       "  <thead>\n",
       "    <tr style=\"text-align: right;\">\n",
       "      <th></th>\n",
       "      <th>area_name</th>\n",
       "      <th>area_type</th>\n",
       "      <th>year</th>\n",
       "      <th>month</th>\n",
       "      <th>variable</th>\n",
       "      <th>value</th>\n",
       "      <th>date</th>\n",
       "    </tr>\n",
       "  </thead>\n",
       "  <tbody>\n",
       "    <tr>\n",
       "      <th>0</th>\n",
       "      <td>Gates County</td>\n",
       "      <td>County</td>\n",
       "      <td>2013</td>\n",
       "      <td>4</td>\n",
       "      <td>Monthly Unemployment (Place of Residence)</td>\n",
       "      <td>328.0</td>\n",
       "      <td>2013-04</td>\n",
       "    </tr>\n",
       "    <tr>\n",
       "      <th>1</th>\n",
       "      <td>Transylvania County</td>\n",
       "      <td>County</td>\n",
       "      <td>2014</td>\n",
       "      <td>12</td>\n",
       "      <td>Monthly Employment (Place of Residence)</td>\n",
       "      <td>11175.0</td>\n",
       "      <td>2014-12</td>\n",
       "    </tr>\n",
       "    <tr>\n",
       "      <th>2</th>\n",
       "      <td>Jones County</td>\n",
       "      <td>County</td>\n",
       "      <td>2015</td>\n",
       "      <td>7</td>\n",
       "      <td>Monthly Labor Force (Place of Residence)</td>\n",
       "      <td>4665.0</td>\n",
       "      <td>2015-07</td>\n",
       "    </tr>\n",
       "    <tr>\n",
       "      <th>3</th>\n",
       "      <td>Orange County</td>\n",
       "      <td>County</td>\n",
       "      <td>2015</td>\n",
       "      <td>7</td>\n",
       "      <td>Monthly Unemployment Rate (Place of Residence)...</td>\n",
       "      <td>5.2</td>\n",
       "      <td>2015-07</td>\n",
       "    </tr>\n",
       "    <tr>\n",
       "      <th>4</th>\n",
       "      <td>Franklin County</td>\n",
       "      <td>County</td>\n",
       "      <td>2010</td>\n",
       "      <td>3</td>\n",
       "      <td>Monthly Unemployment (Place of Residence)</td>\n",
       "      <td>2980.0</td>\n",
       "      <td>2010-03</td>\n",
       "    </tr>\n",
       "  </tbody>\n",
       "</table>\n",
       "</div>"
      ],
      "text/plain": [
       "             area_name area_type  year  month  \\\n",
       "0         Gates County    County  2013      4   \n",
       "1  Transylvania County    County  2014     12   \n",
       "2         Jones County    County  2015      7   \n",
       "3        Orange County    County  2015      7   \n",
       "4      Franklin County    County  2010      3   \n",
       "\n",
       "                                            variable    value     date  \n",
       "0          Monthly Unemployment (Place of Residence)    328.0  2013-04  \n",
       "1            Monthly Employment (Place of Residence)  11175.0  2014-12  \n",
       "2           Monthly Labor Force (Place of Residence)   4665.0  2015-07  \n",
       "3  Monthly Unemployment Rate (Place of Residence)...      5.2  2015-07  \n",
       "4          Monthly Unemployment (Place of Residence)   2980.0  2010-03  "
      ]
     },
     "execution_count": 3,
     "metadata": {},
     "output_type": "execute_result"
    }
   ],
   "source": [
    "# Load into pandas\n",
    "df = pd.read_csv(StringIO(response.text), sep=';')\n",
    "df.head()"
   ]
  },
  {
   "cell_type": "code",
   "execution_count": 4,
   "id": "91cf2310-487e-4516-a58a-fbe6e425fe33",
   "metadata": {},
   "outputs": [
    {
     "data": {
      "text/plain": [
       "array(['Monthly Employment (Place of Residence)',\n",
       "       'Monthly Labor Force (Place of Residence)',\n",
       "       'Monthly Unemployment (Place of Residence)',\n",
       "       'Monthly Unemployment Rate (Place of Residence)(Percent)'],\n",
       "      dtype=object)"
      ]
     },
     "execution_count": 4,
     "metadata": {},
     "output_type": "execute_result"
    }
   ],
   "source": [
    "# Find unique variables\n",
    "np.unique(df.variable)"
   ]
  },
  {
   "cell_type": "code",
   "execution_count": 5,
   "id": "8e33c24e-9528-4870-a4d7-1f127f4d101b",
   "metadata": {},
   "outputs": [
    {
     "data": {
      "text/html": [
       "<div>\n",
       "<style scoped>\n",
       "    .dataframe tbody tr th:only-of-type {\n",
       "        vertical-align: middle;\n",
       "    }\n",
       "\n",
       "    .dataframe tbody tr th {\n",
       "        vertical-align: top;\n",
       "    }\n",
       "\n",
       "    .dataframe thead th {\n",
       "        text-align: right;\n",
       "    }\n",
       "</style>\n",
       "<table border=\"1\" class=\"dataframe\">\n",
       "  <thead>\n",
       "    <tr style=\"text-align: right;\">\n",
       "      <th></th>\n",
       "      <th>area_name</th>\n",
       "      <th>area_type</th>\n",
       "      <th>year</th>\n",
       "      <th>month</th>\n",
       "      <th>variable</th>\n",
       "      <th>value</th>\n",
       "      <th>date</th>\n",
       "    </tr>\n",
       "  </thead>\n",
       "  <tbody>\n",
       "    <tr>\n",
       "      <th>3</th>\n",
       "      <td>Orange County</td>\n",
       "      <td>County</td>\n",
       "      <td>2015</td>\n",
       "      <td>7</td>\n",
       "      <td>Monthly Unemployment Rate (Place of Residence)...</td>\n",
       "      <td>5.2</td>\n",
       "      <td>2015-07</td>\n",
       "    </tr>\n",
       "    <tr>\n",
       "      <th>5</th>\n",
       "      <td>Gaston County</td>\n",
       "      <td>County</td>\n",
       "      <td>2010</td>\n",
       "      <td>3</td>\n",
       "      <td>Monthly Unemployment Rate (Place of Residence)...</td>\n",
       "      <td>13.4</td>\n",
       "      <td>2010-03</td>\n",
       "    </tr>\n",
       "    <tr>\n",
       "      <th>6</th>\n",
       "      <td>Madison County</td>\n",
       "      <td>County</td>\n",
       "      <td>2010</td>\n",
       "      <td>3</td>\n",
       "      <td>Monthly Unemployment Rate (Place of Residence)...</td>\n",
       "      <td>10.6</td>\n",
       "      <td>2010-03</td>\n",
       "    </tr>\n",
       "    <tr>\n",
       "      <th>9</th>\n",
       "      <td>New Hanover County</td>\n",
       "      <td>County</td>\n",
       "      <td>2014</td>\n",
       "      <td>10</td>\n",
       "      <td>Monthly Unemployment Rate (Place of Residence)...</td>\n",
       "      <td>5.2</td>\n",
       "      <td>2014-10</td>\n",
       "    </tr>\n",
       "    <tr>\n",
       "      <th>14</th>\n",
       "      <td>Onslow County</td>\n",
       "      <td>County</td>\n",
       "      <td>2013</td>\n",
       "      <td>5</td>\n",
       "      <td>Monthly Unemployment Rate (Place of Residence)...</td>\n",
       "      <td>8.5</td>\n",
       "      <td>2013-05</td>\n",
       "    </tr>\n",
       "  </tbody>\n",
       "</table>\n",
       "</div>"
      ],
      "text/plain": [
       "             area_name area_type  year  month  \\\n",
       "3        Orange County    County  2015      7   \n",
       "5        Gaston County    County  2010      3   \n",
       "6       Madison County    County  2010      3   \n",
       "9   New Hanover County    County  2014     10   \n",
       "14       Onslow County    County  2013      5   \n",
       "\n",
       "                                             variable  value     date  \n",
       "3   Monthly Unemployment Rate (Place of Residence)...    5.2  2015-07  \n",
       "5   Monthly Unemployment Rate (Place of Residence)...   13.4  2010-03  \n",
       "6   Monthly Unemployment Rate (Place of Residence)...   10.6  2010-03  \n",
       "9   Monthly Unemployment Rate (Place of Residence)...    5.2  2014-10  \n",
       "14  Monthly Unemployment Rate (Place of Residence)...    8.5  2013-05  "
      ]
     },
     "execution_count": 5,
     "metadata": {},
     "output_type": "execute_result"
    }
   ],
   "source": [
    "# Filter by specific variable\n",
    "unemployment = df[df['variable'] == 'Monthly Unemployment Rate (Place of Residence)(Percent)']\n",
    "unemployment.head()"
   ]
  },
  {
   "cell_type": "code",
   "execution_count": 6,
   "id": "fbb72ffc-1bb4-4db3-a8ff-a4f47bc2f7c6",
   "metadata": {},
   "outputs": [
    {
     "data": {
      "text/plain": [
       "[<matplotlib.lines.Line2D at 0x137419b50>]"
      ]
     },
     "execution_count": 6,
     "metadata": {},
     "output_type": "execute_result"
    },
    {
     "data": {
      "image/png": "[encoded data removed]",
      "text/plain": [
       "<Figure size 640x480 with 1 Axes>"
      ]
     },
     "metadata": {},
     "output_type": "display_data"
    }
   ],
   "source": [
    "# Find unemployment statistics for Orange County, NC\n",
    "orange_county = unemployment[unemployment['area_name'] == 'Orange County']\n",
    "\n",
    "# Plot\n",
    "dates = pd.to_datetime(orange_county['date'], format=\"%Y-%m\")\n",
    "orange_county.index = dates\n",
    "orange_county = orange_county.sort_index()\n",
    "\n",
    "import matplotlib.pyplot as plt\n",
    "plt.plot(orange_county['value'])"
   ]
  },
  {
   "cell_type": "markdown",
   "id": "4fc8316e-4544-473c-b455-a2164a221001",
   "metadata": {},
   "source": [
    "## URL Parameters\n",
    "\n",
    "We can use **URL parameters** to define more specific requests which can be useful for limiting the data we receive from the response. For example, we an query the data to only return data for Durham County using the RESTful call `where`."
   ]
  },
  {
   "cell_type": "code",
   "execution_count": 7,
   "id": "ea63030c-8fa5-40ad-b394-8443e13d1d2b",
   "metadata": {},
   "outputs": [
    {
     "data": {
      "text/html": [
       "<div>\n",
       "<style scoped>\n",
       "    .dataframe tbody tr th:only-of-type {\n",
       "        vertical-align: middle;\n",
       "    }\n",
       "\n",
       "    .dataframe tbody tr th {\n",
       "        vertical-align: top;\n",
       "    }\n",
       "\n",
       "    .dataframe thead th {\n",
       "        text-align: right;\n",
       "    }\n",
       "</style>\n",
       "<table border=\"1\" class=\"dataframe\">\n",
       "  <thead>\n",
       "    <tr style=\"text-align: right;\">\n",
       "      <th></th>\n",
       "      <th>area_name</th>\n",
       "      <th>area_type</th>\n",
       "      <th>year</th>\n",
       "      <th>month</th>\n",
       "      <th>variable</th>\n",
       "      <th>value</th>\n",
       "      <th>date</th>\n",
       "    </tr>\n",
       "  </thead>\n",
       "  <tbody>\n",
       "    <tr>\n",
       "      <th>0</th>\n",
       "      <td>Durham County</td>\n",
       "      <td>County</td>\n",
       "      <td>2018</td>\n",
       "      <td>6</td>\n",
       "      <td>Monthly Labor Force (Place of Residence)</td>\n",
       "      <td>169439.0</td>\n",
       "      <td>2018-06</td>\n",
       "    </tr>\n",
       "    <tr>\n",
       "      <th>1</th>\n",
       "      <td>Durham County</td>\n",
       "      <td>County</td>\n",
       "      <td>2006</td>\n",
       "      <td>8</td>\n",
       "      <td>Monthly Employment (Place of Residence)</td>\n",
       "      <td>130964.0</td>\n",
       "      <td>2006-08</td>\n",
       "    </tr>\n",
       "    <tr>\n",
       "      <th>2</th>\n",
       "      <td>Durham County</td>\n",
       "      <td>County</td>\n",
       "      <td>2020</td>\n",
       "      <td>2</td>\n",
       "      <td>Monthly Unemployment (Place of Residence)</td>\n",
       "      <td>5448.0</td>\n",
       "      <td>2020-02</td>\n",
       "    </tr>\n",
       "    <tr>\n",
       "      <th>3</th>\n",
       "      <td>Durham County</td>\n",
       "      <td>County</td>\n",
       "      <td>2006</td>\n",
       "      <td>1</td>\n",
       "      <td>Monthly Unemployment Rate (Place of Residence)...</td>\n",
       "      <td>3.8</td>\n",
       "      <td>2006-01</td>\n",
       "    </tr>\n",
       "    <tr>\n",
       "      <th>4</th>\n",
       "      <td>Durham County</td>\n",
       "      <td>County</td>\n",
       "      <td>2009</td>\n",
       "      <td>2</td>\n",
       "      <td>Monthly Employment (Place of Residence)</td>\n",
       "      <td>128301.0</td>\n",
       "      <td>2009-02</td>\n",
       "    </tr>\n",
       "  </tbody>\n",
       "</table>\n",
       "</div>"
      ],
      "text/plain": [
       "       area_name area_type  year  month  \\\n",
       "0  Durham County    County  2018      6   \n",
       "1  Durham County    County  2006      8   \n",
       "2  Durham County    County  2020      2   \n",
       "3  Durham County    County  2006      1   \n",
       "4  Durham County    County  2009      2   \n",
       "\n",
       "                                            variable     value     date  \n",
       "0           Monthly Labor Force (Place of Residence)  169439.0  2018-06  \n",
       "1            Monthly Employment (Place of Residence)  130964.0  2006-08  \n",
       "2          Monthly Unemployment (Place of Residence)    5448.0  2020-02  \n",
       "3  Monthly Unemployment Rate (Place of Residence)...       3.8  2006-01  \n",
       "4            Monthly Employment (Place of Residence)  128301.0  2009-02  "
      ]
     },
     "execution_count": 7,
     "metadata": {},
     "output_type": "execute_result"
    }
   ],
   "source": [
    "# Define new request\n",
    "durham_url = url + \"?where=area_name='Durham County'\"\n",
    "durham_url = durham_url.replace(\" \", \"%20\")\n",
    "response = requests.get(durham_url)\n",
    "\n",
    "# Convert to DataFrame\n",
    "durham_df = pd.read_csv(StringIO(response.text), sep=';')\n",
    "durham_df.head()"
   ]
  },
  {
   "cell_type": "markdown",
   "id": "8c8ec671-886b-465d-881c-24c86f8c3db0",
   "metadata": {},
   "source": [
    "## Census Bureau data\n",
    "\n",
    "The Census Bureau also has an API for accessing data. \n",
    "\n",
    "```{image} images/census-api.png\n",
    ":width: 800px\n",
    ":align: center\n",
    "```\n",
    "\n",
    "We start with defining the host name and dataset that we are interested in.\n",
    "\n",
    "```{note}\n",
    "The American Community Survey (ACS) is a continuous, nationwide survey conducted by the Census Bureau that collects information **every year**.\n",
    "```"
   ]
  },
  {
   "cell_type": "code",
   "execution_count": 8,
   "id": "cf339e98-de63-4e53-9054-f4d62feb9df1",
   "metadata": {},
   "outputs": [],
   "source": [
    "# Define base URL for American Community Survey in 2023)\n",
    "base_url = \"https://api.census.gov/data/2023/acs/acs1\""
   ]
  },
  {
   "cell_type": "markdown",
   "id": "5c064a4b-ec23-46a5-93e6-7d553c3943bb",
   "metadata": {},
   "source": [
    "Next we add `get` to our query, followed by `NAME,` and the variables we are interested in.\n",
    "\n",
    "```{note}\n",
    "**B01003_001E** is just total population variable.\n",
    "```"
   ]
  },
  {
   "cell_type": "code",
   "execution_count": 9,
   "id": "1892e6ec-288c-4c67-a5e5-99b77931f49a",
   "metadata": {},
   "outputs": [],
   "source": [
    "query = 'get=NAME,B01003_001E'"
   ]
  },
  {
   "cell_type": "markdown",
   "id": "e20d6c71-a173-4a3b-86cf-be8ee17c8840",
   "metadata": {},
   "source": [
    "We then define our places of interest, noting that the wildcard (`*`) indicates **all values**. Here we define all counties in North Carolina which has a **Federal Information Processing Standards (FIPS) code = 37**. We also define our API key."
   ]
  },
  {
   "cell_type": "code",
   "execution_count": 10,
   "id": "c1190831-3524-47fc-968b-ee9ae46389b2",
   "metadata": {},
   "outputs": [
    {
     "name": "stdout",
     "output_type": "stream",
     "text": [
      "https://api.census.gov/data/2023/acs/acs1?get=NAME,B01003_001E&for=county:*&in=state:37&key=5f7e25f1ce5f52828e64cc4e5ff5f470759b4e03\n"
     ]
    }
   ],
   "source": [
    "place = 'for=county:*&in=state:37'\n",
    "key = 'key=5f7e25f1ce5f52828e64cc4e5ff5f470759b4e03'\n",
    "\n",
    "url = base_url + '?' + query + '&' + place + '&' + key\n",
    "print(url)"
   ]
  },
  {
   "cell_type": "markdown",
   "id": "f5cec859-466c-4995-902c-5ad066f72c50",
   "metadata": {},
   "source": [
    "We can then send our request and convert the returned data to a DataFrame. "
   ]
  },
  {
   "cell_type": "code",
   "execution_count": 11,
   "id": "b4647622-74c8-4f81-bfac-4bc0a35f06e5",
   "metadata": {},
   "outputs": [
    {
     "ename": "NameError",
     "evalue": "name 'data' is not defined",
     "output_type": "error",
     "traceback": [
      "\u001b[0;31m---------------------------------------------------------------------------\u001b[0m",
      "\u001b[0;31mNameError\u001b[0m                                 Traceback (most recent call last)",
      "Cell \u001b[0;32mIn[11], line 5\u001b[0m\n\u001b[1;32m      2\u001b[0m response \u001b[38;5;241m=\u001b[39m requests\u001b[38;5;241m.\u001b[39mget(url)\n\u001b[1;32m      4\u001b[0m \u001b[38;5;66;03m# Convert to DataFrame\u001b[39;00m\n\u001b[0;32m----> 5\u001b[0m df \u001b[38;5;241m=\u001b[39m pd\u001b[38;5;241m.\u001b[39mDataFrame(response\u001b[38;5;241m.\u001b[39mjson()[\u001b[38;5;241m1\u001b[39m:], columns\u001b[38;5;241m=\u001b[39m\u001b[43mdata\u001b[49m[\u001b[38;5;241m0\u001b[39m])\n\u001b[1;32m      6\u001b[0m df[\u001b[38;5;124m\"\u001b[39m\u001b[38;5;124mB01003_001E\u001b[39m\u001b[38;5;124m\"\u001b[39m] \u001b[38;5;241m=\u001b[39m pd\u001b[38;5;241m.\u001b[39mto_numeric(df[\u001b[38;5;124m\"\u001b[39m\u001b[38;5;124mB01003_001E\u001b[39m\u001b[38;5;124m\"\u001b[39m])\n\u001b[1;32m      7\u001b[0m df\u001b[38;5;241m.\u001b[39mhead()\n",
      "\u001b[0;31mNameError\u001b[0m: name 'data' is not defined"
     ]
    }
   ],
   "source": [
    "# Send request\n",
    "response = requests.get(url)\n",
    "\n",
    "# Convert to DataFrame\n",
    "df = pd.DataFrame(response.json()[1:], columns=data[0])\n",
    "df[\"B01003_001E\"] = pd.to_numeric(df[\"B01003_001E\"])\n",
    "df.head()"
   ]
  },
  {
   "cell_type": "markdown",
   "id": "c1f6a26e",
   "metadata": {
    "slideshow": {
     "slide_type": "subslide"
    }
   },
   "source": [
    "## API wrappers\n",
    "\n",
    "It can sometimes be difficult to manually construct HTTP requests. To overcome this, some APIs have **wrappers** which are a software packages that simplify interactions with an API. \n",
    "\n",
    "We have used an API wrapper already for Census Bureau data called `census`. Conveniently, it returns the data in **`Pandas` Dataframes** for further analysis. \n",
    "\n",
    "The **GitHub repository** is usually the best place to learn about how to use a specific wrapper (or general software package).\n",
    "\n",
    "```{image} images/census-github.png\n",
    ":width: 1000px\n",
    ":align: center\n",
    "```\n",
    "\n",
    "First we should find how to install it, usually either through `conda` or `pip`. \n",
    "\n",
    "```{image} images/census-install.png\n",
    ":width: 800px\n",
    ":align: center\n",
    "```"
   ]
  },
  {
   "cell_type": "code",
   "execution_count": 83,
   "id": "d6789649",
   "metadata": {},
   "outputs": [],
   "source": [
    "# Import package\n",
    "from census import Census"
   ]
  },
  {
   "cell_type": "markdown",
   "id": "2bfffbe6",
   "metadata": {},
   "source": [
    "Then search the documentation for examples...\n",
    "\n",
    "```{image} images/census-examples.png\n",
    ":width: 1000px\n",
    ":align: center\n",
    "```"
   ]
  },
  {
   "cell_type": "code",
   "execution_count": 84,
   "id": "92f7d1c0",
   "metadata": {},
   "outputs": [
    {
     "data": {
      "text/plain": [
       "[{'NAME': 'North Carolina', 'B25034_010E': 152740.0, 'state': '37'}]"
      ]
     },
     "execution_count": 84,
     "metadata": {},
     "output_type": "execute_result"
    }
   ],
   "source": [
    "c = Census(\"5f7e25f1ce5f52828e64cc4e5ff5f470759b4e03\")\n",
    "c.acs5.state(('NAME', 'B25034_010E'), '37')"
   ]
  },
  {
   "cell_type": "markdown",
   "id": "eb2c1286",
   "metadata": {},
   "source": [
    "```{image} images/more-examples.png\n",
    ":width: 1000px\n",
    ":align: center\n",
    "```"
   ]
  },
  {
   "cell_type": "markdown",
   "id": "8003fca7",
   "metadata": {},
   "source": [
    "## Hydrological data from USGS\n",
    "\n",
    "Let's have a look at one last API wrapper called [`dataretrieval`](https://github.com/DOI-USGS/dataretrieval-python) which was developed by USGS to retrieve hydrologic data from the **USGS National Water Information System (NWIS)**.\n",
    "\n",
    "```{image} images/usgs-github.png\n",
    ":width: 1000px\n",
    ":align: center\n",
    "```\n",
    "\n",
    "Again, the documentation makes it clear that we should install it using either `conda` or `pip`. \n",
    "\n",
    "```{image} images/usgs-install.png\n",
    ":width: 800px\n",
    ":align: center\n",
    "```"
   ]
  },
  {
   "cell_type": "code",
   "execution_count": 85,
   "id": "a651a3b1",
   "metadata": {
    "slideshow": {
     "slide_type": "subslide"
    }
   },
   "outputs": [],
   "source": [
    "%%capture\n",
    "!pip install -U dataretrieval"
   ]
  },
  {
   "cell_type": "markdown",
   "id": "46984d73",
   "metadata": {},
   "source": [
    "Now we can look through the documentation to see if the examples function as expected.\n",
    "\n",
    "```{image} images/usgs.png\n",
    ":width: 1000px\n",
    ":align: center\n",
    "```"
   ]
  },
  {
   "cell_type": "code",
   "execution_count": 86,
   "id": "763f3c4e",
   "metadata": {
    "slideshow": {
     "slide_type": "subslide"
    }
   },
   "outputs": [
    {
     "data": {
      "text/html": [
       "<div>\n",
       "<style scoped>\n",
       "    .dataframe tbody tr th:only-of-type {\n",
       "        vertical-align: middle;\n",
       "    }\n",
       "\n",
       "    .dataframe tbody tr th {\n",
       "        vertical-align: top;\n",
       "    }\n",
       "\n",
       "    .dataframe thead th {\n",
       "        text-align: right;\n",
       "    }\n",
       "</style>\n",
       "<table border=\"1\" class=\"dataframe\">\n",
       "  <thead>\n",
       "    <tr style=\"text-align: right;\">\n",
       "      <th></th>\n",
       "      <th>site_no</th>\n",
       "      <th>00010_ysi_Mean</th>\n",
       "      <th>00010_ysi_Mean_cd</th>\n",
       "      <th>00060_Mean</th>\n",
       "      <th>00060_Mean_cd</th>\n",
       "      <th>00065_Mean</th>\n",
       "      <th>00065_Mean_cd</th>\n",
       "      <th>00095_Mean</th>\n",
       "      <th>00095_Mean_cd</th>\n",
       "      <th>00300_Minimum</th>\n",
       "      <th>...</th>\n",
       "      <th>63680_hach-solitax_Mean</th>\n",
       "      <th>63680_hach-solitax_Mean_cd</th>\n",
       "      <th>63680_ysi_Mean</th>\n",
       "      <th>63680_ysi_Mean_cd</th>\n",
       "      <th>99133_Maximum</th>\n",
       "      <th>99133_Maximum_cd</th>\n",
       "      <th>99133_Minimum</th>\n",
       "      <th>99133_Minimum_cd</th>\n",
       "      <th>99133_Mean</th>\n",
       "      <th>99133_Mean_cd</th>\n",
       "    </tr>\n",
       "    <tr>\n",
       "      <th>datetime</th>\n",
       "      <th></th>\n",
       "      <th></th>\n",
       "      <th></th>\n",
       "      <th></th>\n",
       "      <th></th>\n",
       "      <th></th>\n",
       "      <th></th>\n",
       "      <th></th>\n",
       "      <th></th>\n",
       "      <th></th>\n",
       "      <th></th>\n",
       "      <th></th>\n",
       "      <th></th>\n",
       "      <th></th>\n",
       "      <th></th>\n",
       "      <th></th>\n",
       "      <th></th>\n",
       "      <th></th>\n",
       "      <th></th>\n",
       "      <th></th>\n",
       "      <th></th>\n",
       "    </tr>\n",
       "  </thead>\n",
       "  <tbody>\n",
       "    <tr>\n",
       "      <th>2020-10-01 00:00:00+00:00</th>\n",
       "      <td>03339000</td>\n",
       "      <td>14.9</td>\n",
       "      <td>A</td>\n",
       "      <td>75.7</td>\n",
       "      <td>A</td>\n",
       "      <td>2.04</td>\n",
       "      <td>A</td>\n",
       "      <td>672.0</td>\n",
       "      <td>A</td>\n",
       "      <td>8.9</td>\n",
       "      <td>...</td>\n",
       "      <td>5.5</td>\n",
       "      <td>A</td>\n",
       "      <td>3.7</td>\n",
       "      <td>A</td>\n",
       "      <td>4.1</td>\n",
       "      <td>A</td>\n",
       "      <td>3.3</td>\n",
       "      <td>A</td>\n",
       "      <td>3.7</td>\n",
       "      <td>A</td>\n",
       "    </tr>\n",
       "    <tr>\n",
       "      <th>2020-10-02 00:00:00+00:00</th>\n",
       "      <td>03339000</td>\n",
       "      <td>14.5</td>\n",
       "      <td>A</td>\n",
       "      <td>66.0</td>\n",
       "      <td>A</td>\n",
       "      <td>1.99</td>\n",
       "      <td>A</td>\n",
       "      <td>678.0</td>\n",
       "      <td>A</td>\n",
       "      <td>9.2</td>\n",
       "      <td>...</td>\n",
       "      <td>5.4</td>\n",
       "      <td>A</td>\n",
       "      <td>3.6</td>\n",
       "      <td>A</td>\n",
       "      <td>4.2</td>\n",
       "      <td>A</td>\n",
       "      <td>3.8</td>\n",
       "      <td>A</td>\n",
       "      <td>4.1</td>\n",
       "      <td>A</td>\n",
       "    </tr>\n",
       "    <tr>\n",
       "      <th>2020-10-03 00:00:00+00:00</th>\n",
       "      <td>03339000</td>\n",
       "      <td>14.2</td>\n",
       "      <td>A</td>\n",
       "      <td>60.2</td>\n",
       "      <td>A</td>\n",
       "      <td>1.96</td>\n",
       "      <td>A</td>\n",
       "      <td>678.0</td>\n",
       "      <td>A</td>\n",
       "      <td>9.4</td>\n",
       "      <td>...</td>\n",
       "      <td>4.9</td>\n",
       "      <td>A</td>\n",
       "      <td>3.2</td>\n",
       "      <td>A</td>\n",
       "      <td>3.8</td>\n",
       "      <td>A</td>\n",
       "      <td>3.0</td>\n",
       "      <td>A</td>\n",
       "      <td>3.4</td>\n",
       "      <td>A</td>\n",
       "    </tr>\n",
       "    <tr>\n",
       "      <th>2020-10-04 00:00:00+00:00</th>\n",
       "      <td>03339000</td>\n",
       "      <td>14.4</td>\n",
       "      <td>A</td>\n",
       "      <td>68.8</td>\n",
       "      <td>A</td>\n",
       "      <td>2.01</td>\n",
       "      <td>A</td>\n",
       "      <td>705.0</td>\n",
       "      <td>A</td>\n",
       "      <td>9.1</td>\n",
       "      <td>...</td>\n",
       "      <td>4.7</td>\n",
       "      <td>A</td>\n",
       "      <td>3.3</td>\n",
       "      <td>A</td>\n",
       "      <td>3.0</td>\n",
       "      <td>A</td>\n",
       "      <td>2.6</td>\n",
       "      <td>A</td>\n",
       "      <td>2.8</td>\n",
       "      <td>A</td>\n",
       "    </tr>\n",
       "    <tr>\n",
       "      <th>2020-10-05 00:00:00+00:00</th>\n",
       "      <td>03339000</td>\n",
       "      <td>13.4</td>\n",
       "      <td>A</td>\n",
       "      <td>66.8</td>\n",
       "      <td>A</td>\n",
       "      <td>1.99</td>\n",
       "      <td>A</td>\n",
       "      <td>718.0</td>\n",
       "      <td>A</td>\n",
       "      <td>9.6</td>\n",
       "      <td>...</td>\n",
       "      <td>4.4</td>\n",
       "      <td>A</td>\n",
       "      <td>3.1</td>\n",
       "      <td>A</td>\n",
       "      <td>3.4</td>\n",
       "      <td>A</td>\n",
       "      <td>2.7</td>\n",
       "      <td>A</td>\n",
       "      <td>3.0</td>\n",
       "      <td>A</td>\n",
       "    </tr>\n",
       "  </tbody>\n",
       "</table>\n",
       "<p>5 rows × 57 columns</p>\n",
       "</div>"
      ],
      "text/plain": [
       "                            site_no  00010_ysi_Mean 00010_ysi_Mean_cd  \\\n",
       "datetime                                                                \n",
       "2020-10-01 00:00:00+00:00  03339000            14.9                 A   \n",
       "2020-10-02 00:00:00+00:00  03339000            14.5                 A   \n",
       "2020-10-03 00:00:00+00:00  03339000            14.2                 A   \n",
       "2020-10-04 00:00:00+00:00  03339000            14.4                 A   \n",
       "2020-10-05 00:00:00+00:00  03339000            13.4                 A   \n",
       "\n",
       "                           00060_Mean 00060_Mean_cd  00065_Mean 00065_Mean_cd  \\\n",
       "datetime                                                                        \n",
       "2020-10-01 00:00:00+00:00        75.7             A        2.04             A   \n",
       "2020-10-02 00:00:00+00:00        66.0             A        1.99             A   \n",
       "2020-10-03 00:00:00+00:00        60.2             A        1.96             A   \n",
       "2020-10-04 00:00:00+00:00        68.8             A        2.01             A   \n",
       "2020-10-05 00:00:00+00:00        66.8             A        1.99             A   \n",
       "\n",
       "                           00095_Mean 00095_Mean_cd  00300_Minimum  ...  \\\n",
       "datetime                                                            ...   \n",
       "2020-10-01 00:00:00+00:00       672.0             A            8.9  ...   \n",
       "2020-10-02 00:00:00+00:00       678.0             A            9.2  ...   \n",
       "2020-10-03 00:00:00+00:00       678.0             A            9.4  ...   \n",
       "2020-10-04 00:00:00+00:00       705.0             A            9.1  ...   \n",
       "2020-10-05 00:00:00+00:00       718.0             A            9.6  ...   \n",
       "\n",
       "                          63680_hach-solitax_Mean  63680_hach-solitax_Mean_cd  \\\n",
       "datetime                                                                        \n",
       "2020-10-01 00:00:00+00:00                     5.5                           A   \n",
       "2020-10-02 00:00:00+00:00                     5.4                           A   \n",
       "2020-10-03 00:00:00+00:00                     4.9                           A   \n",
       "2020-10-04 00:00:00+00:00                     4.7                           A   \n",
       "2020-10-05 00:00:00+00:00                     4.4                           A   \n",
       "\n",
       "                          63680_ysi_Mean  63680_ysi_Mean_cd 99133_Maximum  \\\n",
       "datetime                                                                    \n",
       "2020-10-01 00:00:00+00:00            3.7                  A           4.1   \n",
       "2020-10-02 00:00:00+00:00            3.6                  A           4.2   \n",
       "2020-10-03 00:00:00+00:00            3.2                  A           3.8   \n",
       "2020-10-04 00:00:00+00:00            3.3                  A           3.0   \n",
       "2020-10-05 00:00:00+00:00            3.1                  A           3.4   \n",
       "\n",
       "                           99133_Maximum_cd 99133_Minimum  99133_Minimum_cd  \\\n",
       "datetime                                                                      \n",
       "2020-10-01 00:00:00+00:00                 A           3.3                 A   \n",
       "2020-10-02 00:00:00+00:00                 A           3.8                 A   \n",
       "2020-10-03 00:00:00+00:00                 A           3.0                 A   \n",
       "2020-10-04 00:00:00+00:00                 A           2.6                 A   \n",
       "2020-10-05 00:00:00+00:00                 A           2.7                 A   \n",
       "\n",
       "                          99133_Mean  99133_Mean_cd  \n",
       "datetime                                             \n",
       "2020-10-01 00:00:00+00:00        3.7              A  \n",
       "2020-10-02 00:00:00+00:00        4.1              A  \n",
       "2020-10-03 00:00:00+00:00        3.4              A  \n",
       "2020-10-04 00:00:00+00:00        2.8              A  \n",
       "2020-10-05 00:00:00+00:00        3.0              A  \n",
       "\n",
       "[5 rows x 57 columns]"
      ]
     },
     "execution_count": 86,
     "metadata": {},
     "output_type": "execute_result"
    }
   ],
   "source": [
    "# Import the functions for downloading data from NWIS\n",
    "import dataretrieval.nwis as nwis\n",
    "\n",
    "# Specify the USGS site code\n",
    "site = '03339000'\n",
    "\n",
    "# Get instantaneous values (iv)\n",
    "df = nwis.get_record(sites=site, service='dv', start='2020-10-01', end='2021-09-30')\n",
    "df.head()"
   ]
  },
  {
   "cell_type": "code",
   "execution_count": 87,
   "id": "403bc607",
   "metadata": {
    "slideshow": {
     "slide_type": "subslide"
    }
   },
   "outputs": [
    {
     "data": {
      "text/plain": [
       "[<matplotlib.lines.Line2D at 0x14b38fd10>]"
      ]
     },
     "execution_count": 87,
     "metadata": {},
     "output_type": "execute_result"
    },
    {
     "data": {
      "image/png": "[encoded data removed]",
      "text/plain": [
       "<Figure size 1000x400 with 1 Axes>"
      ]
     },
     "metadata": {},
     "output_type": "display_data"
    }
   ],
   "source": [
    "# Plot\n",
    "f, ax = plt.subplots(1, 1, figsize=(10,4))\n",
    "ax.plot(df['00060_Mean'])"
   ]
  },
  {
   "cell_type": "markdown",
   "id": "76fd0a76",
   "metadata": {
    "slideshow": {
     "slide_type": "subslide"
    }
   },
   "source": [
    "## Tips for APIs\n",
    "\n",
    "* Take a minute to familiarize yourself with the syntax for API calls using official website\n",
    "\n",
    "\n",
    "* Be aware that API wrappers are often easier to use, just make sure that the wrapper is up-to-date (e.g. last commit in GitHub)\n",
    "\n",
    "\n",
    "* Read the `docs`, `demos`, `examples` to find what we're looking for (sometimes they are not that comprehensive)\n",
    "\n",
    "\n",
    "* If you can't find what you're looking for, inspect the source code (`.py` files)"
   ]
  },
  {
   "cell_type": "markdown",
   "id": "54c8b6fd-deea-40ad-bcd1-87150bce7a3e",
   "metadata": {},
   "source": [
    "## Climate and satellite data\n",
    "\n",
    "Data from climate models and satellite remote sensing can also be downloaded programmatically. These datasets usually have large file sizes so its not advisable to download climate and satellite data locally. Instead there are several **catalogs** that host the data in the cloud. Examples include:\n",
    "\n",
    "* [Google's Earth Engine Data Catalog](https://developers.google.com/earth-engine/datasets)\n",
    "\n",
    "* [AWS Earth Search](https://element84.com/earth-search/)\n",
    "\n",
    "* [Microsoft's Planetary Computer](https://planetarycomputer.microsoft.com/)\n",
    "\n",
    "All three of these catalogs are now published as **SpatioTemporal Asset Catalogs (STAC)** which is open metadata standard that provides a **common structure** for describing geospatial information, so it can more easily be worked with, indexed, and discovered. \n",
    "\n",
    "We can query STAC catalogs using the `pystac-client` Python package."
   ]
  },
  {
   "cell_type": "code",
   "execution_count": 31,
   "id": "50cf15c3-16b8-433c-91d2-5e5252016310",
   "metadata": {},
   "outputs": [],
   "source": [
    "%%capture\n",
    "!pip install pystac-client"
   ]
  },
  {
   "cell_type": "code",
   "execution_count": null,
   "id": "d9b807d6-4bf3-4b94-b34f-0dcb485ae4d6",
   "metadata": {},
   "outputs": [],
   "source": [
    "from pystac_client import Client"
   ]
  },
  {
   "cell_type": "markdown",
   "id": "7c1e7a01-be9e-4d90-a73c-ba0e99cd6e56",
   "metadata": {},
   "source": [
    "In this demo, we will search for satellite imagery using Microsoft's Planetary Computer. \n",
    "\n",
    "```{image} images/mpc.png\n",
    ":width: 800px\n",
    ":align: center\n",
    "```"
   ]
  },
  {
   "cell_type": "code",
   "execution_count": 32,
   "id": "5ed08ff2-9dcd-423d-bb09-1a246ff00a79",
   "metadata": {},
   "outputs": [],
   "source": [
    "%%capture\n",
    "pip install planetary-computer"
   ]
  },
  {
   "cell_type": "markdown",
   "id": "ce9ecfec-b4a5-4273-8366-fed59e2e1cac",
   "metadata": {},
   "source": [
    "We can import `planetary_computer` as a package. Since actual data assets are in **private** Azure Blob Storage containers, we use the `modifier=planetary_computer.sign_inplace` to automatically generate a token granting access to the file is included in the URL."
   ]
  },
  {
   "cell_type": "code",
   "execution_count": 33,
   "id": "f7ad327f-1204-4d64-94b0-e426338c3bd7",
   "metadata": {},
   "outputs": [],
   "source": [
    "import planetary_computer, requests\n",
    "\n",
    "catalog = Client.open(\n",
    "    \"https://planetarycomputer.microsoft.com/api/stac/v1\",\n",
    "    modifier=planetary_computer.sign_inplace,\n",
    ")"
   ]
  },
  {
   "cell_type": "markdown",
   "id": "aee8ddbb-4fc2-4138-9fa8-3bb59f300e6a",
   "metadata": {},
   "source": [
    "## Search catalog\n",
    "\n",
    "A list of collections in the catalog can be found at [https://planetarycomputer.microsoft.com/catalog](https://planetarycomputer.microsoft.com/catalog). In this demo, we will be produce a nice image of Store Glacier, Greenland in 2025 using Landsat imagery.\n",
    "\n",
    "```{image} images/landsat-collection.png\n",
    ":width: 800px\n",
    ":align: center\n",
    "```\n",
    "\n",
    "We can search the catalog using spatial information (e.g. a point of bounding box) and/or dates. We find that 76 images match our search criteria. \n",
    "\n",
    "```{note}\n",
    "The `items` objects contain the image metadata as GeoJSON features so it can easily be converted to a DataFrame.\n",
    "```"
   ]
  },
  {
   "cell_type": "code",
   "execution_count": 59,
   "id": "2afbbd5f-67f0-470d-b40e-c2a59f433a7e",
   "metadata": {},
   "outputs": [
    {
     "data": {
      "text/plain": [
       "76"
      ]
     },
     "execution_count": 59,
     "metadata": {},
     "output_type": "execute_result"
    }
   ],
   "source": [
    "# Define point of interest\n",
    "from shapely.geometry import Point\n",
    "point = Point(-50.57,70.40)\n",
    "time_range = \"2025-05-01/2025-08-31\"\n",
    "\n",
    "search = catalog.search(collections=[\"landsat-c2-l2\"], intersects=point, datetime=time_range)\n",
    "items = search.item_collection()\n",
    "len(items)"
   ]
  },
  {
   "cell_type": "code",
   "execution_count": 81,
   "id": "865078b5-6168-48b6-97a8-6c0cd1499747",
   "metadata": {},
   "outputs": [
    {
     "data": {
      "text/html": [
       "<div>\n",
       "<style scoped>\n",
       "    .dataframe tbody tr th:only-of-type {\n",
       "        vertical-align: middle;\n",
       "    }\n",
       "\n",
       "    .dataframe tbody tr th {\n",
       "        vertical-align: top;\n",
       "    }\n",
       "\n",
       "    .dataframe thead th {\n",
       "        text-align: right;\n",
       "    }\n",
       "</style>\n",
       "<table border=\"1\" class=\"dataframe\">\n",
       "  <thead>\n",
       "    <tr style=\"text-align: right;\">\n",
       "      <th></th>\n",
       "      <th>geometry</th>\n",
       "      <th>gsd</th>\n",
       "      <th>created</th>\n",
       "      <th>sci:doi</th>\n",
       "      <th>datetime</th>\n",
       "      <th>platform</th>\n",
       "      <th>proj:shape</th>\n",
       "      <th>description</th>\n",
       "      <th>instruments</th>\n",
       "      <th>eo:cloud_cover</th>\n",
       "      <th>...</th>\n",
       "      <th>landsat:scene_id</th>\n",
       "      <th>landsat:wrs_path</th>\n",
       "      <th>landsat:wrs_type</th>\n",
       "      <th>view:sun_azimuth</th>\n",
       "      <th>landsat:correction</th>\n",
       "      <th>view:sun_elevation</th>\n",
       "      <th>landsat:cloud_cover_land</th>\n",
       "      <th>landsat:collection_number</th>\n",
       "      <th>landsat:collection_category</th>\n",
       "      <th>proj:code</th>\n",
       "    </tr>\n",
       "  </thead>\n",
       "  <tbody>\n",
       "    <tr>\n",
       "      <th>0</th>\n",
       "      <td>POLYGON ((-53.25933 72.07025, -55.53393 70.484...</td>\n",
       "      <td>30</td>\n",
       "      <td>2025-09-03T09:19:49.891054Z</td>\n",
       "      <td>10.5066/P9OGBGM6</td>\n",
       "      <td>2025-08-31T15:18:53.992896Z</td>\n",
       "      <td>landsat-9</td>\n",
       "      <td>[8771, 8741]</td>\n",
       "      <td>Landsat Collection 2 Level-2</td>\n",
       "      <td>[oli, tirs]</td>\n",
       "      <td>99.30</td>\n",
       "      <td>...</td>\n",
       "      <td>LC90120102025243LGN00</td>\n",
       "      <td>012</td>\n",
       "      <td>2</td>\n",
       "      <td>177.300261</td>\n",
       "      <td>L2SP</td>\n",
       "      <td>27.452730</td>\n",
       "      <td>100.00</td>\n",
       "      <td>02</td>\n",
       "      <td>T2</td>\n",
       "      <td>EPSG:32622</td>\n",
       "    </tr>\n",
       "    <tr>\n",
       "      <th>1</th>\n",
       "      <td>POLYGON ((-50.54113 70.74943, -52.5527 69.1447...</td>\n",
       "      <td>30</td>\n",
       "      <td>2025-09-04T09:20:01.419954Z</td>\n",
       "      <td>10.5066/P9OGBGM6</td>\n",
       "      <td>2025-08-26T15:00:43.927501Z</td>\n",
       "      <td>landsat-9</td>\n",
       "      <td>[8561, 8521]</td>\n",
       "      <td>Landsat Collection 2 Level-2</td>\n",
       "      <td>[oli, tirs]</td>\n",
       "      <td>62.78</td>\n",
       "      <td>...</td>\n",
       "      <td>LC90090112025238LGN00</td>\n",
       "      <td>009</td>\n",
       "      <td>2</td>\n",
       "      <td>174.738517</td>\n",
       "      <td>L2SP</td>\n",
       "      <td>30.492094</td>\n",
       "      <td>67.76</td>\n",
       "      <td>02</td>\n",
       "      <td>T1</td>\n",
       "      <td>EPSG:32622</td>\n",
       "    </tr>\n",
       "    <tr>\n",
       "      <th>2</th>\n",
       "      <td>POLYGON ((-52.06021 70.7526, -54.07254 69.1477...</td>\n",
       "      <td>30</td>\n",
       "      <td>2025-09-05T09:25:17.621826Z</td>\n",
       "      <td>10.5066/P9OGBGM6</td>\n",
       "      <td>2025-08-25T15:06:50.457317Z</td>\n",
       "      <td>landsat-8</td>\n",
       "      <td>[8641, 8591]</td>\n",
       "      <td>Landsat Collection 2 Level-2</td>\n",
       "      <td>[oli, tirs]</td>\n",
       "      <td>72.40</td>\n",
       "      <td>...</td>\n",
       "      <td>LC80100112025237LGN00</td>\n",
       "      <td>010</td>\n",
       "      <td>2</td>\n",
       "      <td>174.666137</td>\n",
       "      <td>L2SP</td>\n",
       "      <td>30.837089</td>\n",
       "      <td>72.12</td>\n",
       "      <td>02</td>\n",
       "      <td>T1</td>\n",
       "      <td>EPSG:32622</td>\n",
       "    </tr>\n",
       "    <tr>\n",
       "      <th>3</th>\n",
       "      <td>POLYGON ((-50.12952 72.07276, -52.40935 70.487...</td>\n",
       "      <td>30</td>\n",
       "      <td>2025-09-05T09:25:15.555221Z</td>\n",
       "      <td>10.5066/P9OGBGM6</td>\n",
       "      <td>2025-08-25T15:06:26.562040Z</td>\n",
       "      <td>landsat-8</td>\n",
       "      <td>[8631, 8591]</td>\n",
       "      <td>Landsat Collection 2 Level-2</td>\n",
       "      <td>[oli, tirs]</td>\n",
       "      <td>48.42</td>\n",
       "      <td>...</td>\n",
       "      <td>LC80100102025237LGN00</td>\n",
       "      <td>010</td>\n",
       "      <td>2</td>\n",
       "      <td>176.775680</td>\n",
       "      <td>L2SP</td>\n",
       "      <td>29.575889</td>\n",
       "      <td>51.28</td>\n",
       "      <td>02</td>\n",
       "      <td>T1</td>\n",
       "      <td>EPSG:32622</td>\n",
       "    </tr>\n",
       "    <tr>\n",
       "      <th>4</th>\n",
       "      <td>POLYGON ((-51.70736 72.06993, -53.98724 70.484...</td>\n",
       "      <td>30</td>\n",
       "      <td>2025-08-27T09:14:59.378558Z</td>\n",
       "      <td>10.5066/P9OGBGM6</td>\n",
       "      <td>2025-08-24T15:12:41.610383Z</td>\n",
       "      <td>landsat-9</td>\n",
       "      <td>[8691, 8671]</td>\n",
       "      <td>Landsat Collection 2 Level-2</td>\n",
       "      <td>[oli, tirs]</td>\n",
       "      <td>9.86</td>\n",
       "      <td>...</td>\n",
       "      <td>LC90110102025236LGN00</td>\n",
       "      <td>011</td>\n",
       "      <td>2</td>\n",
       "      <td>176.666162</td>\n",
       "      <td>L2SP</td>\n",
       "      <td>29.918190</td>\n",
       "      <td>8.65</td>\n",
       "      <td>02</td>\n",
       "      <td>T1</td>\n",
       "      <td>EPSG:32622</td>\n",
       "    </tr>\n",
       "  </tbody>\n",
       "</table>\n",
       "<p>5 rows × 23 columns</p>\n",
       "</div>"
      ],
      "text/plain": [
       "                                            geometry  gsd  \\\n",
       "0  POLYGON ((-53.25933 72.07025, -55.53393 70.484...   30   \n",
       "1  POLYGON ((-50.54113 70.74943, -52.5527 69.1447...   30   \n",
       "2  POLYGON ((-52.06021 70.7526, -54.07254 69.1477...   30   \n",
       "3  POLYGON ((-50.12952 72.07276, -52.40935 70.487...   30   \n",
       "4  POLYGON ((-51.70736 72.06993, -53.98724 70.484...   30   \n",
       "\n",
       "                       created           sci:doi                     datetime  \\\n",
       "0  2025-09-03T09:19:49.891054Z  10.5066/P9OGBGM6  2025-08-31T15:18:53.992896Z   \n",
       "1  2025-09-04T09:20:01.419954Z  10.5066/P9OGBGM6  2025-08-26T15:00:43.927501Z   \n",
       "2  2025-09-05T09:25:17.621826Z  10.5066/P9OGBGM6  2025-08-25T15:06:50.457317Z   \n",
       "3  2025-09-05T09:25:15.555221Z  10.5066/P9OGBGM6  2025-08-25T15:06:26.562040Z   \n",
       "4  2025-08-27T09:14:59.378558Z  10.5066/P9OGBGM6  2025-08-24T15:12:41.610383Z   \n",
       "\n",
       "    platform    proj:shape                   description  instruments  \\\n",
       "0  landsat-9  [8771, 8741]  Landsat Collection 2 Level-2  [oli, tirs]   \n",
       "1  landsat-9  [8561, 8521]  Landsat Collection 2 Level-2  [oli, tirs]   \n",
       "2  landsat-8  [8641, 8591]  Landsat Collection 2 Level-2  [oli, tirs]   \n",
       "3  landsat-8  [8631, 8591]  Landsat Collection 2 Level-2  [oli, tirs]   \n",
       "4  landsat-9  [8691, 8671]  Landsat Collection 2 Level-2  [oli, tirs]   \n",
       "\n",
       "   eo:cloud_cover  ...       landsat:scene_id  landsat:wrs_path  \\\n",
       "0           99.30  ...  LC90120102025243LGN00               012   \n",
       "1           62.78  ...  LC90090112025238LGN00               009   \n",
       "2           72.40  ...  LC80100112025237LGN00               010   \n",
       "3           48.42  ...  LC80100102025237LGN00               010   \n",
       "4            9.86  ...  LC90110102025236LGN00               011   \n",
       "\n",
       "  landsat:wrs_type view:sun_azimuth landsat:correction view:sun_elevation  \\\n",
       "0                2       177.300261               L2SP          27.452730   \n",
       "1                2       174.738517               L2SP          30.492094   \n",
       "2                2       174.666137               L2SP          30.837089   \n",
       "3                2       176.775680               L2SP          29.575889   \n",
       "4                2       176.666162               L2SP          29.918190   \n",
       "\n",
       "   landsat:cloud_cover_land landsat:collection_number  \\\n",
       "0                    100.00                        02   \n",
       "1                     67.76                        02   \n",
       "2                     72.12                        02   \n",
       "3                     51.28                        02   \n",
       "4                      8.65                        02   \n",
       "\n",
       "   landsat:collection_category   proj:code  \n",
       "0                           T2  EPSG:32622  \n",
       "1                           T1  EPSG:32622  \n",
       "2                           T1  EPSG:32622  \n",
       "3                           T1  EPSG:32622  \n",
       "4                           T1  EPSG:32622  \n",
       "\n",
       "[5 rows x 23 columns]"
      ]
     },
     "execution_count": 81,
     "metadata": {},
     "output_type": "execute_result"
    }
   ],
   "source": [
    "import geopandas as gpd\n",
    "df = gpd.GeoDataFrame.from_features(items.to_dict(), crs=\"epsg:4326\")\n",
    "df.head()"
   ]
  },
  {
   "cell_type": "markdown",
   "id": "80f33c75-56e7-4a4c-bc20-b49ee696b33c",
   "metadata": {},
   "source": [
    "## Find least cloudy image\n",
    "\n",
    "The `eo:cloud_cover` columns provides the amount of cloud cover as a percentage of the image. We will find the least cloudy image. "
   ]
  },
  {
   "cell_type": "code",
   "execution_count": 61,
   "id": "5f5ef556-ae76-41b5-a830-d6c4fa30841f",
   "metadata": {},
   "outputs": [
    {
     "name": "stdout",
     "output_type": "stream",
     "text": [
      "<Item id=LC08_L2SP_009011_20250530_02_T1>\n"
     ]
    }
   ],
   "source": [
    "selected_item = min(items, key=lambda item: item.properties[\"eo:cloud_cover\"])\n",
    "print(selected_item)"
   ]
  },
  {
   "cell_type": "markdown",
   "id": "82176d13-cd7f-43e7-97c5-3459b87a6493",
   "metadata": {},
   "source": [
    "Each STAC item has one or more **assets**."
   ]
  },
  {
   "cell_type": "code",
   "execution_count": 62,
   "id": "9144084a-a08e-476e-a390-d2bd1b857430",
   "metadata": {},
   "outputs": [
    {
     "name": "stdout",
     "output_type": "stream",
     "text": [
      "qa: Surface Temperature Quality Assessment Band\n",
      "ang: Angle Coefficients File\n",
      "red: Red Band\n",
      "blue: Blue Band\n",
      "drad: Downwelled Radiance Band\n",
      "emis: Emissivity Band\n",
      "emsd: Emissivity Standard Deviation Band\n",
      "trad: Thermal Radiance Band\n",
      "urad: Upwelled Radiance Band\n",
      "atran: Atmospheric Transmittance Band\n",
      "cdist: Cloud Distance Band\n",
      "green: Green Band\n",
      "nir08: Near Infrared Band 0.8\n",
      "lwir11: Surface Temperature Band\n",
      "swir16: Short-wave Infrared Band 1.6\n",
      "swir22: Short-wave Infrared Band 2.2\n",
      "coastal: Coastal/Aerosol Band\n",
      "mtl.txt: Product Metadata File (txt)\n",
      "mtl.xml: Product Metadata File (xml)\n",
      "mtl.json: Product Metadata File (json)\n",
      "qa_pixel: Pixel Quality Assessment Band\n",
      "qa_radsat: Radiometric Saturation and Terrain Occlusion Quality Assessment Band\n",
      "qa_aerosol: Aerosol Quality Assessment Band\n",
      "tilejson: TileJSON with default rendering\n",
      "rendered_preview: Rendered preview\n"
     ]
    }
   ],
   "source": [
    "assets = selected_item.assets\n",
    "for key, asset in assets.items():\n",
    "    print(f\"{key}: {asset.title}\")"
   ]
  },
  {
   "cell_type": "markdown",
   "id": "c5ed55b8-6924-424f-8a1f-63a4a08b511c",
   "metadata": {},
   "source": [
    "## Show rendered image\n",
    "\n",
    "Each asset contains metadata including a **Hypertext Reference** or `href` that provides the destination URL to the actual data.  "
   ]
  },
  {
   "cell_type": "code",
   "execution_count": 63,
   "id": "4cf8ede4-6f6d-4f04-b2b1-47ef3ba652f7",
   "metadata": {},
   "outputs": [
    {
     "data": {
      "text/plain": [
       "{'href': 'https://planetarycomputer.microsoft.com/api/data/v1/item/preview.png?collection=landsat-c2-l2&item=LC08_L2SP_009011_20250530_02_T1&assets=red&assets=green&assets=blue&color_formula=gamma+RGB+2.7%2C+saturation+1.5%2C+sigmoidal+RGB+15+0.55&format=png',\n",
       " 'type': 'image/png',\n",
       " 'title': 'Rendered preview',\n",
       " 'rel': 'preview',\n",
       " 'roles': ['overview']}"
      ]
     },
     "execution_count": 63,
     "metadata": {},
     "output_type": "execute_result"
    }
   ],
   "source": [
    "selected_item.assets[\"rendered_preview\"].to_dict()"
   ]
  },
  {
   "cell_type": "markdown",
   "id": "78eeedc2-3b4d-4527-82b1-0ac061409c99",
   "metadata": {},
   "source": [
    "We can display the `rendered_preview` to check that our search returned the imagery we were expecting."
   ]
  },
  {
   "cell_type": "code",
   "execution_count": 64,
   "id": "d7212596-9cf9-4efb-a081-4ae57a0e6e74",
   "metadata": {},
   "outputs": [
    {
     "data": {
      "text/html": [
       "<img src=\"https://planetarycomputer.microsoft.com/api/data/v1/item/preview.png?collection=landsat-c2-l2&item=LC08_L2SP_009011_20250530_02_T1&assets=red&assets=green&assets=blue&color_formula=gamma+RGB+2.7%2C+saturation+1.5%2C+sigmoidal+RGB+15+0.55&format=png\" width=\"500\"/>"
      ],
      "text/plain": [
       "<IPython.core.display.Image object>"
      ]
     },
     "execution_count": 64,
     "metadata": {},
     "output_type": "execute_result"
    }
   ],
   "source": [
    "from IPython.display import Image\n",
    "Image(url=selected_item.assets[\"rendered_preview\"].href, width=500)"
   ]
  },
  {
   "cell_type": "markdown",
   "id": "f685e1a5-e81a-41ee-958d-6d3c8287d09a",
   "metadata": {},
   "source": [
    "## Import image\n",
    "\n",
    "We can load the image directly into memory using `rioxarray`. The file is quite large but, since it is formatted as a **Cloud-Optimized GeoTIFF (COG)** we can specify an `overview_level` to resample the data before loading. "
   ]
  },
  {
   "cell_type": "code",
   "execution_count": 71,
   "id": "107e75e3-3b4e-4ff2-ade7-2f935ecb429d",
   "metadata": {},
   "outputs": [
    {
     "data": {
      "image/png": "[encoded data removed]",
      "text/plain": [
       "<Figure size 640x480 with 1 Axes>"
      ]
     },
     "metadata": {},
     "output_type": "display_data"
    }
   ],
   "source": [
    "import rioxarray as rio\n",
    "\n",
    "ds = rio.open_rasterio(selected_item.assets[\"blue\"].href, overview_level=4).squeeze()\n",
    "img = ds.plot(cmap=\"Blues\", add_colorbar=False)\n",
    "img.axes.set_axis_off();"
   ]
  },
  {
   "cell_type": "markdown",
   "id": "7052ea04-a991-479d-83cb-8d527d6d8113",
   "metadata": {},
   "source": [
    "## Plot time-series\n",
    "\n",
    "We can plot a time-series of cloud cover for our image collection. Not a particularly fascinating plot but quite impressive that we were able to do that without downloading an image. "
   ]
  },
  {
   "cell_type": "code",
   "execution_count": 87,
   "id": "43efe4a0-c8df-42a0-97e9-6d3208894130",
   "metadata": {},
   "outputs": [
    {
     "data": {
      "text/plain": [
       "Text(0, 0.5, 'Cloud cover (%)')"
      ]
     },
     "execution_count": 87,
     "metadata": {},
     "output_type": "execute_result"
    },
    {
     "data": {
      "image/png": "[encoded data removed]",
      "text/plain": [
       "<Figure size 640x480 with 1 Axes>"
      ]
     },
     "metadata": {},
     "output_type": "display_data"
    }
   ],
   "source": [
    "import matplotlib.pyplot as plt\n",
    "import matplotlib.dates as mdates\n",
    "\n",
    "df[\"datetime\"] = pd.to_datetime(df[\"datetime\"])\n",
    "ts = df.set_index(\"datetime\").sort_index()[\"eo:cloud_cover\"]\n",
    "\n",
    "fig, ax = plt.subplots()\n",
    "ax.plot(ts.index, ts)\n",
    "ax.xaxis.set_major_formatter(mdates.DateFormatter(\"%m-%d\"))\n",
    "plt.ylabel(\"Cloud cover (%)\")"
   ]
  },
  {
   "cell_type": "markdown",
   "id": "82cfcbcb",
   "metadata": {
    "slideshow": {
     "slide_type": "slide"
    }
   },
   "source": [
    "## API limits\n",
    "\n",
    "So can access any data hosted on the internet using APIs? \n",
    "\n",
    "Often APIs are not freely available or have limitations. Tech companies (e.g. Zillow, Facebook, X) limit access to their APIs or provide APIs that have limited functionality with the argument that people would use the data for nefarious purposes. This is a problem because, by guarding data, they are also preventing it being used for good causes. Without access to their data it is difficult to tell whether they are in **compliance**. \n",
    "\n",
    "Either presented with subscription-based API\n",
    "\n",
    "```{image} images/airbnb.png\n",
    ":width: 1000px\n",
    ":align: center\n",
    "```\n",
    "\n",
    "Or an API with limited functionality \n",
    "\n",
    "```{image} images/zestimate.png\n",
    ":width: 1000px\n",
    ":align: center\n",
    "```\n",
    "\n",
    "## Web scraping\n",
    "\n",
    "* Since web pages are usually organized in a specfic way, we can sometimes still download data from them. \n",
    "\n",
    "\n",
    "* Web scraping (also known as crawling or harvesting) is the practice of **automatically** gathering data from the internet without the use of an **API**\n",
    "\n",
    "\n",
    "* Most commonly accomplished by writing a program that **queries** a web server, **requests** data (usually in the form of HTML), and **parses** that data to extract information"
   ]
  },
  {
   "cell_type": "markdown",
   "id": "28aa4bc1",
   "metadata": {
    "slideshow": {
     "slide_type": "slide"
    }
   },
   "source": [
    "```{image} images/inside_airbnb.png\n",
    ":width: 1000px\n",
    ":align: center\n",
    "```"
   ]
  },
  {
   "cell_type": "markdown",
   "id": "f3a52f03",
   "metadata": {
    "slideshow": {
     "slide_type": "slide"
    }
   },
   "source": [
    "## Suppose a friend wanted to do this?\n",
    "\n",
    "* `BeautifulSoup`: parses HTML, the format that web pages are written in\n",
    "\n",
    "\n",
    "* `selenium`: launches and controls a web browser. The package is able to fill in forms and simulate mouse clicks in this browser."
   ]
  },
  {
   "cell_type": "markdown",
   "id": "b4b5d723",
   "metadata": {
    "slideshow": {
     "slide_type": "slide"
    }
   },
   "source": [
    "## Selenium\n",
    "\n",
    "* Sometimes we want even more control...\n",
    "\n",
    "\n",
    "* Selenium is a package for performing **web browser automation**\n",
    "\n",
    "\n",
    "* We can use Selenium to enter text in search boxes, click buttons etc. \n",
    "\n",
    "\n",
    "```{image} images/selenium.png\n",
    ":width: 200px\n",
    ":align: center\n",
    "```"
   ]
  },
  {
   "cell_type": "code",
   "execution_count": 88,
   "id": "0b10e9f2",
   "metadata": {
    "slideshow": {
     "slide_type": "skip"
    }
   },
   "outputs": [],
   "source": [
    "%%capture\n",
    "# Install webdriver_manager: https://github.com/SergeyPirogov/webdriver_manager\n",
    "!pip3 install webdriver_manager"
   ]
  },
  {
   "cell_type": "code",
   "execution_count": 89,
   "id": "9fcf7512",
   "metadata": {
    "slideshow": {
     "slide_type": "subslide"
    }
   },
   "outputs": [],
   "source": [
    "# Import packages\n",
    "from selenium import webdriver\n",
    "from selenium.webdriver.chrome.service import Service\n",
    "from selenium.webdriver.common.by import By\n",
    "from webdriver_manager.chrome import ChromeDriverManager"
   ]
  },
  {
   "cell_type": "code",
   "execution_count": 90,
   "id": "8cf1d5dd",
   "metadata": {
    "slideshow": {
     "slide_type": "subslide"
    }
   },
   "outputs": [],
   "source": [
    "# Install Chrome webdriver\n",
    "driver = webdriver.Chrome(service=Service(ChromeDriverManager().install()))\n",
    "\n",
    "# Open a web browser at the following page\n",
    "driver.get(\"https://www.google.com/maps\")"
   ]
  },
  {
   "cell_type": "markdown",
   "id": "8e2cf8d4",
   "metadata": {
    "slideshow": {
     "slide_type": "subslide"
    }
   },
   "source": [
    "```{image} images/google_maps.png\n",
    ":width: 1000px\n",
    ":align: center\n",
    "```"
   ]
  },
  {
   "cell_type": "markdown",
   "id": "d804d956",
   "metadata": {
    "slideshow": {
     "slide_type": "subslide"
    }
   },
   "source": [
    "```{image} images/inspect.png\n",
    ":width: 1000px\n",
    ":align: center\n",
    "```\n"
   ]
  },
  {
   "cell_type": "code",
   "execution_count": 91,
   "id": "2bf0ced3",
   "metadata": {
    "slideshow": {
     "slide_type": "subslide"
    }
   },
   "outputs": [],
   "source": [
    "# Enter some text in the search box\n",
    "inputElement = driver.find_element(By.ID, \"searchboxinput\")\n",
    "inputElement.send_keys('South Sister Oregon')"
   ]
  },
  {
   "cell_type": "markdown",
   "id": "89ce62cd",
   "metadata": {
    "slideshow": {
     "slide_type": "subslide"
    }
   },
   "source": [
    "```{image} images/enter_text.png\n",
    ":width: 1000px\n",
    ":align: center\n",
    "```\n"
   ]
  },
  {
   "cell_type": "code",
   "execution_count": 92,
   "id": "3092fad8",
   "metadata": {
    "slideshow": {
     "slide_type": "subslide"
    }
   },
   "outputs": [],
   "source": [
    "# Click search button\n",
    "element = driver.find_element(By.ID, \"searchbox-searchbutton\")\n",
    "element.click()"
   ]
  },
  {
   "cell_type": "markdown",
   "id": "b28c9438",
   "metadata": {
    "slideshow": {
     "slide_type": "subslide"
    }
   },
   "source": [
    "```{image} images/search.png\n",
    ":width: 900px\n",
    ":align: center\n",
    "```\n"
   ]
  },
  {
   "cell_type": "markdown",
   "id": "4d899ea8",
   "metadata": {},
   "source": [
    "## Acknowledgements\n",
    "\n",
    "[Earth Data Analytics Online Certificate Chapter 15: APIs](https://earthdatascience.org/courses/use-data-open-source-python/intro-to-apis/apis-in-python/)\n",
    "\n",
    "[Reading Data from the STAC API](https://planetarycomputer.microsoft.com/docs/quickstarts/reading-stac/)\n",
    "\n",
    "[Tutorial for Searching a STAC Catalog](https://hamedalemo.github.io/advanced-geo-python/lectures/11_earth_search_tutorial.html)"
   ]
  },
  {
   "cell_type": "code",
   "execution_count": null,
   "id": "5d8bae92-d738-4bfb-867b-f7ad7650e0ef",
   "metadata": {},
   "outputs": [],
   "source": []
  }
 ],
 "metadata": {
  "celltoolbar": "Edit Metadata",
  "kernelspec": {
   "display_name": "Python 3 (ipykernel)",
   "language": "python",
   "name": "python3"
  },
  "language_info": {
   "codemirror_mode": {
    "name": "ipython",
    "version": 3
   },
   "file_extension": ".py",
   "mimetype": "text/x-python",
   "name": "python",
   "nbconvert_exporter": "python",
   "pygments_lexer": "ipython3",
   "version": "3.12.8"
  },
  "vscode": {
   "interpreter": {
    "hash": "916dbcbb3f70747c44a77c7bcd40155683ae19c65e1c03b4aa3499c5328201f1"
   }
  }
 },
 "nbformat": 4,
 "nbformat_minor": 5
}