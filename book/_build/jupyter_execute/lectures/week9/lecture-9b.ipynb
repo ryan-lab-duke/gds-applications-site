{
 "cells": [
  {
   "cell_type": "markdown",
   "id": "de101fde",
   "metadata": {},
   "source": [
    "# Maps with data\n",
    "\n",
    "In the second part of this lecture, we will use Python to produce another type of thematic map. But this instead of representing elevation data, we will visualize Census Bureau data.\n",
    "\n",
    "We can automatically download Census Bureau data from the 2019 American Community Survey using `CenPy`. "
   ]
  },
  {
   "cell_type": "code",
   "execution_count": 1,
   "id": "2377bb15",
   "metadata": {},
   "outputs": [],
   "source": [
    "from cenpy import products\n",
    "acs = products.ACS(2019)"
   ]
  },
  {
   "cell_type": "markdown",
   "id": "eb187774",
   "metadata": {},
   "source": [
    "## Search for data\n",
    "\n",
    "Inspired by the article \"[Plumbing Poverty: Mapping Hot Spots of Racial and Geographic Inequality in U.S. Household Water Insecurity](https://www.tandfonline.com/doi/abs/10.1080/24694452.2018.1530587)\" by Shiloh Deitz and Katie Meehan (2019), we will search for data that determines whether household have adequate plumbing facilities. \n",
    "\n",
    "The Census Bureau defines \"complete plumbing facilities\" as (1) piped hot and cold water, (2) a flush toilet, and (3) a bathtub or shower, all located within the housing unit and used only by occupants. We can find the variable **code** in the data tables by searching for the word \"**plumbing**\"."
   ]
  },
  {
   "cell_type": "code",
   "execution_count": 2,
   "id": "78e64f88",
   "metadata": {},
   "outputs": [
    {
     "data": {
      "text/html": [
       "<div>\n",
       "<style scoped>\n",
       "    .dataframe tbody tr th:only-of-type {\n",
       "        vertical-align: middle;\n",
       "    }\n",
       "\n",
       "    .dataframe tbody tr th {\n",
       "        vertical-align: top;\n",
       "    }\n",
       "\n",
       "    .dataframe thead th {\n",
       "        text-align: right;\n",
       "    }\n",
       "</style>\n",
       "<table border=\"1\" class=\"dataframe\">\n",
       "  <thead>\n",
       "    <tr style=\"text-align: right;\">\n",
       "      <th></th>\n",
       "      <th>description</th>\n",
       "      <th>columns</th>\n",
       "    </tr>\n",
       "    <tr>\n",
       "      <th>table_name</th>\n",
       "      <th></th>\n",
       "      <th></th>\n",
       "    </tr>\n",
       "  </thead>\n",
       "  <tbody>\n",
       "    <tr>\n",
       "      <th>B25016</th>\n",
       "      <td>TENURE BY PLUMBING FACILITIES BY OCCUPANTS PER...</td>\n",
       "      <td>[B25016_001E, B25016_002E, B25016_003E, B25016...</td>\n",
       "    </tr>\n",
       "    <tr>\n",
       "      <th>B25047</th>\n",
       "      <td>PLUMBING FACILITIES FOR ALL HOUSING UNITS</td>\n",
       "      <td>[B25047_001E, B25047_002E, B25047_003E]</td>\n",
       "    </tr>\n",
       "    <tr>\n",
       "      <th>B25048</th>\n",
       "      <td>PLUMBING FACILITIES FOR OCCUPIED HOUSING UNITS</td>\n",
       "      <td>[B25048_001E, B25048_002E, B25048_003E]</td>\n",
       "    </tr>\n",
       "    <tr>\n",
       "      <th>B25049</th>\n",
       "      <td>TENURE BY PLUMBING FACILITIES</td>\n",
       "      <td>[B25049_001E, B25049_002E, B25049_003E, B25049...</td>\n",
       "    </tr>\n",
       "    <tr>\n",
       "      <th>B25050</th>\n",
       "      <td>PLUMBING FACILITIES BY OCCUPANTS PER ROOM BY Y...</td>\n",
       "      <td>[B25050_001E, B25050_002E, B25050_003E, B25050...</td>\n",
       "    </tr>\n",
       "    <tr>\n",
       "      <th>B99259</th>\n",
       "      <td>ALLOCATION OF PLUMBING FACILITIES</td>\n",
       "      <td>[B99259_001E, B99259_002E, B99259_003E]</td>\n",
       "    </tr>\n",
       "  </tbody>\n",
       "</table>\n",
       "</div>"
      ],
      "text/plain": [
       "                                                  description  \\\n",
       "table_name                                                      \n",
       "B25016      TENURE BY PLUMBING FACILITIES BY OCCUPANTS PER...   \n",
       "B25047              PLUMBING FACILITIES FOR ALL HOUSING UNITS   \n",
       "B25048         PLUMBING FACILITIES FOR OCCUPIED HOUSING UNITS   \n",
       "B25049                          TENURE BY PLUMBING FACILITIES   \n",
       "B25050      PLUMBING FACILITIES BY OCCUPANTS PER ROOM BY Y...   \n",
       "B99259                      ALLOCATION OF PLUMBING FACILITIES   \n",
       "\n",
       "                                                      columns  \n",
       "table_name                                                     \n",
       "B25016      [B25016_001E, B25016_002E, B25016_003E, B25016...  \n",
       "B25047                [B25047_001E, B25047_002E, B25047_003E]  \n",
       "B25048                [B25048_001E, B25048_002E, B25048_003E]  \n",
       "B25049      [B25049_001E, B25049_002E, B25049_003E, B25049...  \n",
       "B25050      [B25050_001E, B25050_002E, B25050_003E, B25050...  \n",
       "B99259                [B99259_001E, B99259_002E, B99259_003E]  "
      ]
     },
     "execution_count": 2,
     "metadata": {},
     "output_type": "execute_result"
    }
   ],
   "source": [
    "acs.filter_tables('PLUMBING', by='description')"
   ]
  },
  {
   "cell_type": "code",
   "execution_count": 3,
   "id": "db309af6",
   "metadata": {},
   "outputs": [
    {
     "data": {
      "text/html": [
       "<div>\n",
       "<style scoped>\n",
       "    .dataframe tbody tr th:only-of-type {\n",
       "        vertical-align: middle;\n",
       "    }\n",
       "\n",
       "    .dataframe tbody tr th {\n",
       "        vertical-align: top;\n",
       "    }\n",
       "\n",
       "    .dataframe thead th {\n",
       "        text-align: right;\n",
       "    }\n",
       "</style>\n",
       "<table border=\"1\" class=\"dataframe\">\n",
       "  <thead>\n",
       "    <tr style=\"text-align: right;\">\n",
       "      <th></th>\n",
       "      <th>label</th>\n",
       "      <th>concept</th>\n",
       "      <th>predicateType</th>\n",
       "      <th>group</th>\n",
       "      <th>limit</th>\n",
       "      <th>predicateOnly</th>\n",
       "      <th>hasGeoCollectionSupport</th>\n",
       "      <th>attributes</th>\n",
       "      <th>required</th>\n",
       "    </tr>\n",
       "  </thead>\n",
       "  <tbody>\n",
       "    <tr>\n",
       "      <th>B25047_003E</th>\n",
       "      <td>Estimate!!Total:!!Lacking complete plumbing fa...</td>\n",
       "      <td>PLUMBING FACILITIES FOR ALL HOUSING UNITS</td>\n",
       "      <td>int</td>\n",
       "      <td>B25047</td>\n",
       "      <td>0</td>\n",
       "      <td>NaN</td>\n",
       "      <td>NaN</td>\n",
       "      <td>B25047_003EA,B25047_003M,B25047_003MA</td>\n",
       "      <td>NaN</td>\n",
       "    </tr>\n",
       "    <tr>\n",
       "      <th>B25047_002E</th>\n",
       "      <td>Estimate!!Total:!!Complete plumbing facilities</td>\n",
       "      <td>PLUMBING FACILITIES FOR ALL HOUSING UNITS</td>\n",
       "      <td>int</td>\n",
       "      <td>B25047</td>\n",
       "      <td>0</td>\n",
       "      <td>NaN</td>\n",
       "      <td>NaN</td>\n",
       "      <td>B25047_002EA,B25047_002M,B25047_002MA</td>\n",
       "      <td>NaN</td>\n",
       "    </tr>\n",
       "    <tr>\n",
       "      <th>B25047_001E</th>\n",
       "      <td>Estimate!!Total:</td>\n",
       "      <td>PLUMBING FACILITIES FOR ALL HOUSING UNITS</td>\n",
       "      <td>int</td>\n",
       "      <td>B25047</td>\n",
       "      <td>0</td>\n",
       "      <td>NaN</td>\n",
       "      <td>NaN</td>\n",
       "      <td>B25047_001EA,B25047_001M,B25047_001MA</td>\n",
       "      <td>NaN</td>\n",
       "    </tr>\n",
       "  </tbody>\n",
       "</table>\n",
       "</div>"
      ],
      "text/plain": [
       "                                                         label  \\\n",
       "B25047_003E  Estimate!!Total:!!Lacking complete plumbing fa...   \n",
       "B25047_002E     Estimate!!Total:!!Complete plumbing facilities   \n",
       "B25047_001E                                   Estimate!!Total:   \n",
       "\n",
       "                                               concept predicateType   group  \\\n",
       "B25047_003E  PLUMBING FACILITIES FOR ALL HOUSING UNITS           int  B25047   \n",
       "B25047_002E  PLUMBING FACILITIES FOR ALL HOUSING UNITS           int  B25047   \n",
       "B25047_001E  PLUMBING FACILITIES FOR ALL HOUSING UNITS           int  B25047   \n",
       "\n",
       "            limit predicateOnly hasGeoCollectionSupport  \\\n",
       "B25047_003E     0           NaN                     NaN   \n",
       "B25047_002E     0           NaN                     NaN   \n",
       "B25047_001E     0           NaN                     NaN   \n",
       "\n",
       "                                        attributes required  \n",
       "B25047_003E  B25047_003EA,B25047_003M,B25047_003MA      NaN  \n",
       "B25047_002E  B25047_002EA,B25047_002M,B25047_002MA      NaN  \n",
       "B25047_001E  B25047_001EA,B25047_001M,B25047_001MA      NaN  "
      ]
     },
     "execution_count": 3,
     "metadata": {},
     "output_type": "execute_result"
    }
   ],
   "source": [
    "# Print list of tables\n",
    "acs.filter_variables('B25047')"
   ]
  },
  {
   "cell_type": "markdown",
   "id": "d0c511f9",
   "metadata": {},
   "source": [
    "## Download data\n",
    "\n",
    "We will focus our analysis on western United States and download data at the **county** level. Of course, a more local analysis could look at smaller spatial scales such as the tract or block group level. "
   ]
  },
  {
   "cell_type": "code",
   "execution_count": 4,
   "id": "4d0e783c",
   "metadata": {},
   "outputs": [
    {
     "ename": "TypeError",
     "evalue": "sjoin() got an unexpected keyword argument 'op'",
     "output_type": "error",
     "traceback": [
      "\u001b[0;31m---------------------------------------------------------------------------\u001b[0m",
      "\u001b[0;31mTypeError\u001b[0m                                 Traceback (most recent call last)",
      "Cell \u001b[0;32mIn[4], line 2\u001b[0m\n\u001b[1;32m      1\u001b[0m \u001b[38;5;66;03m# Download data\u001b[39;00m\n\u001b[0;32m----> 2\u001b[0m wa_plumbing \u001b[38;5;241m=\u001b[39m \u001b[43mproducts\u001b[49m\u001b[38;5;241;43m.\u001b[39;49m\u001b[43mACS\u001b[49m\u001b[43m(\u001b[49m\u001b[38;5;241;43m2019\u001b[39;49m\u001b[43m)\u001b[49m\u001b[38;5;241;43m.\u001b[39;49m\u001b[43mfrom_state\u001b[49m\u001b[43m(\u001b[49m\u001b[38;5;124;43m'\u001b[39;49m\u001b[38;5;124;43mWashington\u001b[39;49m\u001b[38;5;124;43m'\u001b[39;49m\u001b[43m,\u001b[49m\u001b[43m \u001b[49m\n\u001b[1;32m      3\u001b[0m \u001b[43m                                          \u001b[49m\u001b[43mlevel\u001b[49m\u001b[38;5;241;43m=\u001b[39;49m\u001b[38;5;124;43m'\u001b[39;49m\u001b[38;5;124;43mcounty\u001b[39;49m\u001b[38;5;124;43m'\u001b[39;49m\u001b[43m,\u001b[49m\n\u001b[1;32m      4\u001b[0m \u001b[43m                                          \u001b[49m\u001b[43mvariables\u001b[49m\u001b[38;5;241;43m=\u001b[39;49m\u001b[43m[\u001b[49m\u001b[38;5;124;43m'\u001b[39;49m\u001b[38;5;124;43mB25047_001E\u001b[39;49m\u001b[38;5;124;43m'\u001b[39;49m\u001b[43m,\u001b[49m\u001b[43m \u001b[49m\u001b[38;5;124;43m'\u001b[39;49m\u001b[38;5;124;43mB25047_002E\u001b[39;49m\u001b[38;5;124;43m'\u001b[39;49m\u001b[43m,\u001b[49m\u001b[43m \u001b[49m\u001b[38;5;124;43m'\u001b[39;49m\u001b[38;5;124;43mB25047_003E\u001b[39;49m\u001b[38;5;124;43m'\u001b[39;49m\u001b[43m]\u001b[49m\u001b[43m)\u001b[49m\n\u001b[1;32m      5\u001b[0m or_plumbing \u001b[38;5;241m=\u001b[39m products\u001b[38;5;241m.\u001b[39mACS(\u001b[38;5;241m2019\u001b[39m)\u001b[38;5;241m.\u001b[39mfrom_state(\u001b[38;5;124m'\u001b[39m\u001b[38;5;124mOregon\u001b[39m\u001b[38;5;124m'\u001b[39m, \n\u001b[1;32m      6\u001b[0m                                           level\u001b[38;5;241m=\u001b[39m\u001b[38;5;124m'\u001b[39m\u001b[38;5;124mcounty\u001b[39m\u001b[38;5;124m'\u001b[39m,\n\u001b[1;32m      7\u001b[0m                                           variables\u001b[38;5;241m=\u001b[39m[\u001b[38;5;124m'\u001b[39m\u001b[38;5;124mB25047_001E\u001b[39m\u001b[38;5;124m'\u001b[39m, \u001b[38;5;124m'\u001b[39m\u001b[38;5;124mB25047_002E\u001b[39m\u001b[38;5;124m'\u001b[39m, \u001b[38;5;124m'\u001b[39m\u001b[38;5;124mB25047_003E\u001b[39m\u001b[38;5;124m'\u001b[39m])\n\u001b[1;32m      8\u001b[0m ca_plumbing \u001b[38;5;241m=\u001b[39m products\u001b[38;5;241m.\u001b[39mACS(\u001b[38;5;241m2019\u001b[39m)\u001b[38;5;241m.\u001b[39mfrom_state(\u001b[38;5;124m'\u001b[39m\u001b[38;5;124mCalifornia\u001b[39m\u001b[38;5;124m'\u001b[39m, \n\u001b[1;32m      9\u001b[0m                                           level\u001b[38;5;241m=\u001b[39m\u001b[38;5;124m'\u001b[39m\u001b[38;5;124mcounty\u001b[39m\u001b[38;5;124m'\u001b[39m,\n\u001b[1;32m     10\u001b[0m                                           variables\u001b[38;5;241m=\u001b[39m[\u001b[38;5;124m'\u001b[39m\u001b[38;5;124mB25047_001E\u001b[39m\u001b[38;5;124m'\u001b[39m, \u001b[38;5;124m'\u001b[39m\u001b[38;5;124mB25047_002E\u001b[39m\u001b[38;5;124m'\u001b[39m, \u001b[38;5;124m'\u001b[39m\u001b[38;5;124mB25047_003E\u001b[39m\u001b[38;5;124m'\u001b[39m])\n",
      "File \u001b[0;32m/opt/miniconda3/envs/book/lib/python3.12/site-packages/cenpy/products.py:767\u001b[0m, in \u001b[0;36mACS.from_state\u001b[0;34m(self, state, variables, level, **kwargs)\u001b[0m\n\u001b[1;32m    766\u001b[0m \u001b[38;5;28;01mdef\u001b[39;00m \u001b[38;5;21mfrom_state\u001b[39m(\u001b[38;5;28mself\u001b[39m, state, variables\u001b[38;5;241m=\u001b[39m\u001b[38;5;28;01mNone\u001b[39;00m, level\u001b[38;5;241m=\u001b[39m\u001b[38;5;124m\"\u001b[39m\u001b[38;5;124mtract\u001b[39m\u001b[38;5;124m\"\u001b[39m, \u001b[38;5;241m*\u001b[39m\u001b[38;5;241m*\u001b[39mkwargs):\n\u001b[0;32m--> 767\u001b[0m     \u001b[38;5;28;01mreturn\u001b[39;00m \u001b[38;5;28;43mself\u001b[39;49m\u001b[38;5;241;43m.\u001b[39;49m\u001b[43m_from_name\u001b[49m\u001b[43m(\u001b[49m\u001b[43mstate\u001b[49m\u001b[43m,\u001b[49m\u001b[43m \u001b[49m\u001b[43mvariables\u001b[49m\u001b[43m,\u001b[49m\u001b[43m \u001b[49m\u001b[43mlevel\u001b[49m\u001b[43m,\u001b[49m\u001b[43m \u001b[49m\u001b[38;5;124;43m\"\u001b[39;49m\u001b[38;5;124;43mStates\u001b[39;49m\u001b[38;5;124;43m\"\u001b[39;49m\u001b[43m,\u001b[49m\u001b[43m \u001b[49m\u001b[38;5;241;43m*\u001b[39;49m\u001b[38;5;241;43m*\u001b[39;49m\u001b[43mkwargs\u001b[49m\u001b[43m)\u001b[49m\n",
      "File \u001b[0;32m/opt/miniconda3/envs/book/lib/python3.12/site-packages/cenpy/products.py:723\u001b[0m, in \u001b[0;36mACS._from_name\u001b[0;34m(self, place, variables, level, layername, return_geometry, cache_name, strict_within, return_bounds, geometry_precision)\u001b[0m\n\u001b[1;32m    720\u001b[0m variables\u001b[38;5;241m.\u001b[39mappend(\u001b[38;5;124m\"\u001b[39m\u001b[38;5;124mGEO_ID\u001b[39m\u001b[38;5;124m\"\u001b[39m)\n\u001b[1;32m    722\u001b[0m caller \u001b[38;5;241m=\u001b[39m \u001b[38;5;28msuper\u001b[39m(ACS, \u001b[38;5;28mself\u001b[39m)\u001b[38;5;241m.\u001b[39m_from_name\n\u001b[0;32m--> 723\u001b[0m geoms, variables, \u001b[38;5;241m*\u001b[39mrest \u001b[38;5;241m=\u001b[39m \u001b[43mcaller\u001b[49m\u001b[43m(\u001b[49m\n\u001b[1;32m    724\u001b[0m \u001b[43m    \u001b[49m\u001b[43mplace\u001b[49m\u001b[43m,\u001b[49m\n\u001b[1;32m    725\u001b[0m \u001b[43m    \u001b[49m\u001b[43mvariables\u001b[49m\u001b[43m,\u001b[49m\n\u001b[1;32m    726\u001b[0m \u001b[43m    \u001b[49m\u001b[43mlevel\u001b[49m\u001b[43m,\u001b[49m\n\u001b[1;32m    727\u001b[0m \u001b[43m    \u001b[49m\u001b[43mlayername\u001b[49m\u001b[43m,\u001b[49m\n\u001b[1;32m    728\u001b[0m \u001b[43m    \u001b[49m\u001b[43mreturn_geometry\u001b[49m\u001b[38;5;241;43m=\u001b[39;49m\u001b[43mreturn_geometry\u001b[49m\u001b[43m,\u001b[49m\n\u001b[1;32m    729\u001b[0m \u001b[43m    \u001b[49m\u001b[43mcache_name\u001b[49m\u001b[38;5;241;43m=\u001b[39;49m\u001b[43mcache_name\u001b[49m\u001b[43m,\u001b[49m\n\u001b[1;32m    730\u001b[0m \u001b[43m    \u001b[49m\u001b[43mstrict_within\u001b[49m\u001b[38;5;241;43m=\u001b[39;49m\u001b[43mstrict_within\u001b[49m\u001b[43m,\u001b[49m\n\u001b[1;32m    731\u001b[0m \u001b[43m    \u001b[49m\u001b[43mreturn_bounds\u001b[49m\u001b[38;5;241;43m=\u001b[39;49m\u001b[43mreturn_bounds\u001b[49m\u001b[43m,\u001b[49m\n\u001b[1;32m    732\u001b[0m \u001b[43m    \u001b[49m\u001b[43mgeometry_precision\u001b[49m\u001b[38;5;241;43m=\u001b[39;49m\u001b[43mgeometry_precision\u001b[49m\u001b[43m,\u001b[49m\n\u001b[1;32m    733\u001b[0m \u001b[43m\u001b[49m\u001b[43m)\u001b[49m\n\u001b[1;32m    734\u001b[0m variables[\u001b[38;5;124m\"\u001b[39m\u001b[38;5;124mGEOID\u001b[39m\u001b[38;5;124m\"\u001b[39m] \u001b[38;5;241m=\u001b[39m variables\u001b[38;5;241m.\u001b[39mGEO_ID\u001b[38;5;241m.\u001b[39mstr\u001b[38;5;241m.\u001b[39msplit(\u001b[38;5;124m\"\u001b[39m\u001b[38;5;124mUS\u001b[39m\u001b[38;5;124m\"\u001b[39m)\u001b[38;5;241m.\u001b[39mapply(\u001b[38;5;28;01mlambda\u001b[39;00m x: x[\u001b[38;5;241m1\u001b[39m])\n\u001b[1;32m    735\u001b[0m return_table \u001b[38;5;241m=\u001b[39m geoms[[\u001b[38;5;124m\"\u001b[39m\u001b[38;5;124mGEOID\u001b[39m\u001b[38;5;124m\"\u001b[39m, \u001b[38;5;124m\"\u001b[39m\u001b[38;5;124mgeometry\u001b[39m\u001b[38;5;124m\"\u001b[39m]]\u001b[38;5;241m.\u001b[39mmerge(\n\u001b[1;32m    736\u001b[0m     variables\u001b[38;5;241m.\u001b[39mdrop(\u001b[38;5;124m\"\u001b[39m\u001b[38;5;124mGEO_ID\u001b[39m\u001b[38;5;124m\"\u001b[39m, axis\u001b[38;5;241m=\u001b[39m\u001b[38;5;241m1\u001b[39m), how\u001b[38;5;241m=\u001b[39m\u001b[38;5;124m\"\u001b[39m\u001b[38;5;124mleft\u001b[39m\u001b[38;5;124m\"\u001b[39m, on\u001b[38;5;241m=\u001b[39m\u001b[38;5;124m\"\u001b[39m\u001b[38;5;124mGEOID\u001b[39m\u001b[38;5;124m\"\u001b[39m\n\u001b[1;32m    737\u001b[0m )\n",
      "File \u001b[0;32m/opt/miniconda3/envs/book/lib/python3.12/site-packages/cenpy/products.py:389\u001b[0m, in \u001b[0;36m_Product._from_name\u001b[0;34m(self, place, variables, level, layername, strict_within, return_bounds, geometry_precision, cache_name, replace_missing, return_geometry)\u001b[0m\n\u001b[1;32m    380\u001b[0m geoms, data \u001b[38;5;241m=\u001b[39m \u001b[38;5;28mself\u001b[39m\u001b[38;5;241m.\u001b[39m_from_bbox(\n\u001b[1;32m    381\u001b[0m     env\u001b[38;5;241m.\u001b[39mto_crs(epsg\u001b[38;5;241m=\u001b[39m\u001b[38;5;241m4326\u001b[39m)\u001b[38;5;241m.\u001b[39mtotal_bounds,\n\u001b[1;32m    382\u001b[0m     variables\u001b[38;5;241m=\u001b[39mvariables,\n\u001b[0;32m   (...)\u001b[0m\n\u001b[1;32m    386\u001b[0m     replace_missing\u001b[38;5;241m=\u001b[39mreplace_missing,\n\u001b[1;32m    387\u001b[0m )\n\u001b[1;32m    388\u001b[0m \u001b[38;5;28;01mif\u001b[39;00m strict_within:\n\u001b[0;32m--> 389\u001b[0m     geoms \u001b[38;5;241m=\u001b[39m \u001b[43mgeopandas\u001b[49m\u001b[38;5;241;43m.\u001b[39;49m\u001b[43msjoin\u001b[49m\u001b[43m(\u001b[49m\u001b[43mgeoms\u001b[49m\u001b[43m,\u001b[49m\u001b[43m \u001b[49m\u001b[43menv\u001b[49m\u001b[43m[\u001b[49m\u001b[43m[\u001b[49m\u001b[38;5;124;43m\"\u001b[39;49m\u001b[38;5;124;43mgeometry\u001b[39;49m\u001b[38;5;124;43m\"\u001b[39;49m\u001b[43m]\u001b[49m\u001b[43m]\u001b[49m\u001b[43m,\u001b[49m\u001b[43m \u001b[49m\u001b[43mhow\u001b[49m\u001b[38;5;241;43m=\u001b[39;49m\u001b[38;5;124;43m\"\u001b[39;49m\u001b[38;5;124;43minner\u001b[39;49m\u001b[38;5;124;43m\"\u001b[39;49m\u001b[43m,\u001b[49m\u001b[43m \u001b[49m\u001b[43mop\u001b[49m\u001b[38;5;241;43m=\u001b[39;49m\u001b[38;5;124;43m\"\u001b[39;49m\u001b[38;5;124;43mwithin\u001b[39;49m\u001b[38;5;124;43m\"\u001b[39;49m\u001b[43m)\u001b[49m\n\u001b[1;32m    390\u001b[0m \u001b[38;5;28;01mif\u001b[39;00m return_bounds:\n\u001b[1;32m    391\u001b[0m     \u001b[38;5;28;01mreturn\u001b[39;00m geoms, data, env\n",
      "File \u001b[0;32m/opt/miniconda3/envs/book/lib/python3.12/site-packages/geopandas/tools/sjoin.py:110\u001b[0m, in \u001b[0;36msjoin\u001b[0;34m(left_df, right_df, how, predicate, lsuffix, rsuffix, distance, on_attribute, **kwargs)\u001b[0m\n\u001b[1;32m    108\u001b[0m \u001b[38;5;28;01mif\u001b[39;00m kwargs:\n\u001b[1;32m    109\u001b[0m     first \u001b[38;5;241m=\u001b[39m \u001b[38;5;28mnext\u001b[39m(\u001b[38;5;28miter\u001b[39m(kwargs\u001b[38;5;241m.\u001b[39mkeys()))\n\u001b[0;32m--> 110\u001b[0m     \u001b[38;5;28;01mraise\u001b[39;00m \u001b[38;5;167;01mTypeError\u001b[39;00m(\u001b[38;5;124mf\u001b[39m\u001b[38;5;124m\"\u001b[39m\u001b[38;5;124msjoin() got an unexpected keyword argument \u001b[39m\u001b[38;5;124m'\u001b[39m\u001b[38;5;132;01m{\u001b[39;00mfirst\u001b[38;5;132;01m}\u001b[39;00m\u001b[38;5;124m'\u001b[39m\u001b[38;5;124m\"\u001b[39m)\n\u001b[1;32m    112\u001b[0m on_attribute \u001b[38;5;241m=\u001b[39m _maybe_make_list(on_attribute)\n\u001b[1;32m    114\u001b[0m _basic_checks(left_df, right_df, how, lsuffix, rsuffix, on_attribute\u001b[38;5;241m=\u001b[39mon_attribute),\n",
      "\u001b[0;31mTypeError\u001b[0m: sjoin() got an unexpected keyword argument 'op'"
     ]
    }
   ],
   "source": [
    "# Download data\n",
    "wa_plumbing = products.ACS(2019).from_state('Washington', \n",
    "                                          level='county',\n",
    "                                          variables=['B25047_001E', 'B25047_002E', 'B25047_003E'])\n",
    "or_plumbing = products.ACS(2019).from_state('Oregon', \n",
    "                                          level='county',\n",
    "                                          variables=['B25047_001E', 'B25047_002E', 'B25047_003E'])\n",
    "ca_plumbing = products.ACS(2019).from_state('California', \n",
    "                                          level='county',\n",
    "                                          variables=['B25047_001E', 'B25047_002E', 'B25047_003E'])\n",
    "az_plumbing = products.ACS(2019).from_state('Arizona', \n",
    "                                          level='county',\n",
    "                                          variables=['B25047_001E', 'B25047_002E', 'B25047_003E'])\n",
    "nm_plumbing = products.ACS(2019).from_state('New Mexico', \n",
    "                                          level='county',\n",
    "                                          variables=['B25047_001E', 'B25047_002E', 'B25047_003E'])\n",
    "id_plumbing = products.ACS(2019).from_state('Idaho', \n",
    "                                          level='county',\n",
    "                                          variables=['B25047_001E', 'B25047_002E', 'B25047_003E'])\n",
    "az_plumbing = products.ACS(2019).from_state('Arizona', \n",
    "                                          level='county',\n",
    "                                          variables=['B25047_001E', 'B25047_002E', 'B25047_003E'])\n",
    "ut_plumbing = products.ACS(2019).from_state('Utah', \n",
    "                                          level='county',\n",
    "                                          variables=['B25047_001E', 'B25047_002E', 'B25047_003E'])\n",
    "id_plumbing = products.ACS(2019).from_state('Idaho', \n",
    "                                          level='county',\n",
    "                                          variables=['B25047_001E', 'B25047_002E', 'B25047_003E'])\n",
    "nv_plumbing = products.ACS(2019).from_state('Nevada', \n",
    "                                          level='county',\n",
    "                                          variables=['B25047_001E', 'B25047_002E', 'B25047_003E'])"
   ]
  },
  {
   "cell_type": "code",
   "execution_count": null,
   "id": "4a98e876",
   "metadata": {},
   "outputs": [],
   "source": [
    "wa_plumbing.head()"
   ]
  },
  {
   "cell_type": "code",
   "execution_count": null,
   "id": "088e8d57",
   "metadata": {},
   "outputs": [],
   "source": [
    "plumbing = pd.concat([wa_plumbing, or_plumbing, ca_plumbing, \n",
    "                      az_plumbing, ut_plumbing, id_plumbing, \n",
    "                      nv_plumbing])\n",
    "\n",
    "# Compute proportion of household with inadequate plumbing\n",
    "plumbing['lack_plumbing_percent'] = plumbing['B25047_003E'] / plumbing['B25047_001E']"
   ]
  },
  {
   "cell_type": "markdown",
   "id": "c7f52ce0",
   "metadata": {},
   "source": [
    "## Simple choropleth map\n",
    "\n",
    "`GeoPandas` provides a high-level interface to the `Matplotlib` library for making maps. It is as easy as using the `plot()` method on a `GeoDataFrame`. "
   ]
  },
  {
   "cell_type": "code",
   "execution_count": null,
   "id": "9e994081",
   "metadata": {},
   "outputs": [],
   "source": [
    "plumbing.plot('lack_plumbing_percent')"
   ]
  },
  {
   "cell_type": "markdown",
   "id": "f145d8ab",
   "metadata": {},
   "source": [
    "## Improving the choropleth map\n",
    "\n",
    "This is useful for a quick look over the data but we would prefer to customize our plot. For instance, we should add a title, colorbar, and nicer colormap. "
   ]
  },
  {
   "cell_type": "code",
   "execution_count": null,
   "id": "1fe386ff",
   "metadata": {},
   "outputs": [],
   "source": [
    "fig, ax = plt.subplots(figsize=(8,5))\n",
    "\n",
    "plt.title('Lack of plumbing in the western United States', fontsize=10)\n",
    "ax.set_axis_off()\n",
    "divider = make_axes_locatable(ax)\n",
    "cax = divider.append_axes(\"right\", size=\"3%\", pad=0.5,alpha=0.5)\n",
    "plumbing.plot('lack_plumbing_percent', ax=ax, alpha=0.5, cmap='Greens', \n",
    "              edgecolor='k', legend=True, cax=cax, linewidth=0.1)\n",
    "plt.ylabel('Proportion of households', fontsize=10)\n",
    "plt.show()"
   ]
  },
  {
   "cell_type": "markdown",
   "id": "02f378b8",
   "metadata": {},
   "source": [
    "## Interactive plots\n",
    "\n",
    "Alongside static plots, `GeoPandas` can produce [interactive maps](https://geopandas.org/en/stable/docs/user_guide/interactive_mapping.html) based on the [`Folium`](https://github.com/python-visualization/folium) library, which is itself based on [`Leaflet`](https://leafletjs.com/). "
   ]
  },
  {
   "cell_type": "code",
   "execution_count": null,
   "id": "4714e5ec",
   "metadata": {},
   "outputs": [],
   "source": [
    "m = plumbing.explore(\n",
    "     column=\"lack_plumbing_percent\", # make choropleth based on column\n",
    "     scheme=\"naturalbreaks\",         # use mapclassify's natural breaks scheme\n",
    "     tooltip=\"lack_plumbing_percent\",# show column value in tooltip (on hover)\n",
    "     popup=True,                     # show all values in popup (on click)\n",
    "     tiles=\"CartoDB positron\",       # use \"CartoDB positron\" tiles\n",
    "     cmap=\"Greens\",                  # use \"Greens\" matplotlib colormap\n",
    "     style_kwds=dict(color=\"black\", weight=0.5) # use black outline with weight of 1\n",
    "    )\n",
    "m"
   ]
  },
  {
   "cell_type": "markdown",
   "id": "d5a7707b",
   "metadata": {},
   "source": [
    "## Conclusions\n",
    "\n",
    "Maps made using programming don't have to be terrible - it is possible to produce visually appealing maps in Python. They may never be quite as good as what professional cartographers can produce in Adobe Illustrator but they have other advantages. Once the code is written, we can quickly make edits or add another dataset. I hope this demo has inspired you to improve the quality of your Python plots! "
   ]
  },
  {
   "cell_type": "markdown",
   "id": "c0c6cb0a",
   "metadata": {},
   "source": [
    "Content in this lecture was inspired by [Adam Symington](https://www.pythonmaps.com/) and this [tutorial](https://towardsdatascience.com/creating-beautiful-topography-maps-with-python-efced5507aa3). "
   ]
  }
 ],
 "metadata": {
  "kernelspec": {
   "display_name": "Python 3 (ipykernel)",
   "language": "python",
   "name": "python3"
  },
  "language_info": {
   "codemirror_mode": {
    "name": "ipython",
    "version": 3
   },
   "file_extension": ".py",
   "mimetype": "text/x-python",
   "name": "python",
   "nbconvert_exporter": "python",
   "pygments_lexer": "ipython3",
   "version": "3.12.8"
  }
 },
 "nbformat": 4,
 "nbformat_minor": 5
}