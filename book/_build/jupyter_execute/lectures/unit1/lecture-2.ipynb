{
 "cells": [
  {
   "cell_type": "markdown",
   "id": "bd6b3c21",
   "metadata": {
    "slideshow": {
     "slide_type": "slide"
    }
   },
   "source": [
    "# Vector data analysis\n",
    "\n",
    "The vector data model represents space as a series of discrete entities such as such as borders, buildings, streets, and roads. There are three different types of vector data: points, lines and polygons. Online mapping applications, such as **Google Maps** and **OpenStreetMap**, use this format to display data. \n",
    "\n",
    "```{image} images/vector-data.png\n",
    ":alt: vector\n",
    ":width: 700px\n",
    ":align: center\n",
    "```\n",
    "\n",
    "The Python library `GeoPandas` provides somes great tools for working with vector data. As the name suggests, `GeoPandas` extends the popular data science library `Pandas` by adding support for geospatial data. The core data structure in `GeoPandas` is the `GeoDataFrame`. The key difference between the two is that a `GeoDataFrame` can store geometry data and perform spatial operations.\n",
    "\n",
    "```{image} images/dataframe.png\n",
    ":alt: geodataframe\n",
    ":width: 700px\n",
    ":align: center\n",
    "```\n",
    "\n",
    "The `geometry` column can contain any geometry type (e.g. points, lines, polygons) or even a mixture."
   ]
  },
  {
   "cell_type": "markdown",
   "id": "c7984e9d",
   "metadata": {
    "slideshow": {
     "slide_type": "slide"
    }
   },
   "source": [
    "## Reading files\n",
    "\n",
    "Assuming we have a file containing both data and geometry (e.g. GeoPackage, GeoJSON, Shapefile), we can read it using `read_file`, which automatically detects the filetype and creates a `GeoDataFrame`. In the this demo, we will be working with two shapefiles containing 1) cities and towns (as points), and 2) counties (as polygons) in Oregon. "
   ]
  },
  {
   "cell_type": "code",
   "execution_count": 1,
   "id": "33a64bc9",
   "metadata": {
    "slideshow": {
     "slide_type": "fragment"
    }
   },
   "outputs": [
    {
     "data": {
      "text/html": [
       "<div>\n",
       "<style scoped>\n",
       "    .dataframe tbody tr th:only-of-type {\n",
       "        vertical-align: middle;\n",
       "    }\n",
       "\n",
       "    .dataframe tbody tr th {\n",
       "        vertical-align: top;\n",
       "    }\n",
       "\n",
       "    .dataframe thead th {\n",
       "        text-align: right;\n",
       "    }\n",
       "</style>\n",
       "<table border=\"1\" class=\"dataframe\">\n",
       "  <thead>\n",
       "    <tr style=\"text-align: right;\">\n",
       "      <th></th>\n",
       "      <th>name</th>\n",
       "      <th>lat</th>\n",
       "      <th>lon</th>\n",
       "      <th>geometry</th>\n",
       "    </tr>\n",
       "  </thead>\n",
       "  <tbody>\n",
       "    <tr>\n",
       "      <th>0</th>\n",
       "      <td>Adair Village city</td>\n",
       "      <td>44.67</td>\n",
       "      <td>-123.22</td>\n",
       "      <td>POINT (-123.22 44.67)</td>\n",
       "    </tr>\n",
       "    <tr>\n",
       "      <th>1</th>\n",
       "      <td>Adams</td>\n",
       "      <td>45.77</td>\n",
       "      <td>-118.56</td>\n",
       "      <td>POINT (-118.56 45.77)</td>\n",
       "    </tr>\n",
       "    <tr>\n",
       "      <th>2</th>\n",
       "      <td>Adrian</td>\n",
       "      <td>43.74</td>\n",
       "      <td>-117.07</td>\n",
       "      <td>POINT (-117.07 43.74)</td>\n",
       "    </tr>\n",
       "    <tr>\n",
       "      <th>3</th>\n",
       "      <td>Albany</td>\n",
       "      <td>44.63</td>\n",
       "      <td>-123.10</td>\n",
       "      <td>POINT (-123.1 44.63)</td>\n",
       "    </tr>\n",
       "    <tr>\n",
       "      <th>4</th>\n",
       "      <td>Aloha</td>\n",
       "      <td>45.49</td>\n",
       "      <td>-122.87</td>\n",
       "      <td>POINT (-122.87 45.49)</td>\n",
       "    </tr>\n",
       "  </tbody>\n",
       "</table>\n",
       "</div>"
      ],
      "text/plain": [
       "                 name    lat     lon               geometry\n",
       "0  Adair Village city  44.67 -123.22  POINT (-123.22 44.67)\n",
       "1               Adams  45.77 -118.56  POINT (-118.56 45.77)\n",
       "2              Adrian  43.74 -117.07  POINT (-117.07 43.74)\n",
       "3              Albany  44.63 -123.10   POINT (-123.1 44.63)\n",
       "4               Aloha  45.49 -122.87  POINT (-122.87 45.49)"
      ]
     },
     "execution_count": 1,
     "metadata": {},
     "output_type": "execute_result"
    }
   ],
   "source": [
    "import os\n",
    "os.environ['USE_PYGEOS'] = '0'\n",
    "import geopandas as gpd\n",
    "\n",
    "cities = gpd.read_file('data/oregon_cities.shp')\n",
    "cities.head()"
   ]
  },
  {
   "cell_type": "markdown",
   "id": "6847ee58",
   "metadata": {
    "slideshow": {
     "slide_type": "slide"
    }
   },
   "source": [
    "## DataFrame properties\n",
    "\n",
    "We can analyze our `GeoDataFrame` using standard `Pandas` functions."
   ]
  },
  {
   "cell_type": "code",
   "execution_count": 2,
   "id": "63e6104f",
   "metadata": {
    "slideshow": {
     "slide_type": "fragment"
    }
   },
   "outputs": [
    {
     "data": {
      "text/plain": [
       "name          object\n",
       "lat          float64\n",
       "lon          float64\n",
       "geometry    geometry\n",
       "dtype: object"
      ]
     },
     "execution_count": 2,
     "metadata": {},
     "output_type": "execute_result"
    }
   ],
   "source": [
    "# Data types of each column\n",
    "cities.dtypes"
   ]
  },
  {
   "cell_type": "code",
   "execution_count": 3,
   "id": "7e1d50b1",
   "metadata": {
    "slideshow": {
     "slide_type": "subslide"
    }
   },
   "outputs": [
    {
     "data": {
      "text/plain": [
       "(377, 4)"
      ]
     },
     "execution_count": 3,
     "metadata": {},
     "output_type": "execute_result"
    }
   ],
   "source": [
    "# Number of rows and columns\n",
    "cities.shape"
   ]
  },
  {
   "cell_type": "code",
   "execution_count": 4,
   "id": "cfae1ea7",
   "metadata": {
    "slideshow": {
     "slide_type": "subslide"
    }
   },
   "outputs": [
    {
     "data": {
      "text/plain": [
       "Index(['name', 'lat', 'lon', 'geometry'], dtype='object')"
      ]
     },
     "execution_count": 4,
     "metadata": {},
     "output_type": "execute_result"
    }
   ],
   "source": [
    "# Name of columns\n",
    "cities.columns"
   ]
  },
  {
   "cell_type": "markdown",
   "id": "68143433",
   "metadata": {
    "slideshow": {
     "slide_type": "slide"
    }
   },
   "source": [
    "## Indexing\n",
    "\n",
    "We can select specific columns based on the column values. The basic syntax is `dataframe[value]`, where `value` can be a single column name, or a list of column names."
   ]
  },
  {
   "cell_type": "code",
   "execution_count": 5,
   "id": "55b45cec",
   "metadata": {
    "slideshow": {
     "slide_type": "fragment"
    }
   },
   "outputs": [
    {
     "data": {
      "text/plain": [
       "0      Adair Village city\n",
       "1                   Adams\n",
       "2                  Adrian\n",
       "3                  Albany\n",
       "4                   Aloha\n",
       "              ...        \n",
       "372          Wood Village\n",
       "373              Woodburn\n",
       "374               Yachats\n",
       "375               Yamhill\n",
       "376              Yoncalla\n",
       "Name: name, Length: 377, dtype: object"
      ]
     },
     "execution_count": 5,
     "metadata": {},
     "output_type": "execute_result"
    }
   ],
   "source": [
    "# List the city names\n",
    "cities['name']"
   ]
  },
  {
   "cell_type": "code",
   "execution_count": 6,
   "id": "ee5dc120",
   "metadata": {
    "slideshow": {
     "slide_type": "subslide"
    }
   },
   "outputs": [
    {
     "data": {
      "text/html": [
       "<div>\n",
       "<style scoped>\n",
       "    .dataframe tbody tr th:only-of-type {\n",
       "        vertical-align: middle;\n",
       "    }\n",
       "\n",
       "    .dataframe tbody tr th {\n",
       "        vertical-align: top;\n",
       "    }\n",
       "\n",
       "    .dataframe thead th {\n",
       "        text-align: right;\n",
       "    }\n",
       "</style>\n",
       "<table border=\"1\" class=\"dataframe\">\n",
       "  <thead>\n",
       "    <tr style=\"text-align: right;\">\n",
       "      <th></th>\n",
       "      <th>lat</th>\n",
       "      <th>lon</th>\n",
       "    </tr>\n",
       "  </thead>\n",
       "  <tbody>\n",
       "    <tr>\n",
       "      <th>0</th>\n",
       "      <td>44.67</td>\n",
       "      <td>-123.22</td>\n",
       "    </tr>\n",
       "    <tr>\n",
       "      <th>1</th>\n",
       "      <td>45.77</td>\n",
       "      <td>-118.56</td>\n",
       "    </tr>\n",
       "    <tr>\n",
       "      <th>2</th>\n",
       "      <td>43.74</td>\n",
       "      <td>-117.07</td>\n",
       "    </tr>\n",
       "    <tr>\n",
       "      <th>3</th>\n",
       "      <td>44.63</td>\n",
       "      <td>-123.10</td>\n",
       "    </tr>\n",
       "    <tr>\n",
       "      <th>4</th>\n",
       "      <td>45.49</td>\n",
       "      <td>-122.87</td>\n",
       "    </tr>\n",
       "    <tr>\n",
       "      <th>...</th>\n",
       "      <td>...</td>\n",
       "      <td>...</td>\n",
       "    </tr>\n",
       "    <tr>\n",
       "      <th>372</th>\n",
       "      <td>45.54</td>\n",
       "      <td>-122.42</td>\n",
       "    </tr>\n",
       "    <tr>\n",
       "      <th>373</th>\n",
       "      <td>45.15</td>\n",
       "      <td>-122.86</td>\n",
       "    </tr>\n",
       "    <tr>\n",
       "      <th>374</th>\n",
       "      <td>44.31</td>\n",
       "      <td>-124.10</td>\n",
       "    </tr>\n",
       "    <tr>\n",
       "      <th>375</th>\n",
       "      <td>45.34</td>\n",
       "      <td>-123.19</td>\n",
       "    </tr>\n",
       "    <tr>\n",
       "      <th>376</th>\n",
       "      <td>43.60</td>\n",
       "      <td>-123.29</td>\n",
       "    </tr>\n",
       "  </tbody>\n",
       "</table>\n",
       "<p>377 rows × 2 columns</p>\n",
       "</div>"
      ],
      "text/plain": [
       "       lat     lon\n",
       "0    44.67 -123.22\n",
       "1    45.77 -118.56\n",
       "2    43.74 -117.07\n",
       "3    44.63 -123.10\n",
       "4    45.49 -122.87\n",
       "..     ...     ...\n",
       "372  45.54 -122.42\n",
       "373  45.15 -122.86\n",
       "374  44.31 -124.10\n",
       "375  45.34 -123.19\n",
       "376  43.60 -123.29\n",
       "\n",
       "[377 rows x 2 columns]"
      ]
     },
     "execution_count": 6,
     "metadata": {},
     "output_type": "execute_result"
    }
   ],
   "source": [
    "# List the latitudes and longitudes\n",
    "cities[['lat','lon']]"
   ]
  },
  {
   "cell_type": "markdown",
   "id": "94b126a0",
   "metadata": {
    "slideshow": {
     "slide_type": "slide"
    }
   },
   "source": [
    "We can select specific rows using the `.iloc` method."
   ]
  },
  {
   "cell_type": "code",
   "execution_count": 7,
   "id": "a579dc7a",
   "metadata": {
    "slideshow": {
     "slide_type": "fragment"
    }
   },
   "outputs": [
    {
     "data": {
      "text/plain": [
       "name                        Adams\n",
       "lat                         45.77\n",
       "lon                       -118.56\n",
       "geometry    POINT (-118.56 45.77)\n",
       "Name: 1, dtype: object"
      ]
     },
     "execution_count": 7,
     "metadata": {},
     "output_type": "execute_result"
    }
   ],
   "source": [
    "# Second row\n",
    "cities.iloc[1]"
   ]
  },
  {
   "cell_type": "code",
   "execution_count": 8,
   "id": "f002a651",
   "metadata": {
    "slideshow": {
     "slide_type": "subslide"
    }
   },
   "outputs": [
    {
     "data": {
      "text/html": [
       "<div>\n",
       "<style scoped>\n",
       "    .dataframe tbody tr th:only-of-type {\n",
       "        vertical-align: middle;\n",
       "    }\n",
       "\n",
       "    .dataframe tbody tr th {\n",
       "        vertical-align: top;\n",
       "    }\n",
       "\n",
       "    .dataframe thead th {\n",
       "        text-align: right;\n",
       "    }\n",
       "</style>\n",
       "<table border=\"1\" class=\"dataframe\">\n",
       "  <thead>\n",
       "    <tr style=\"text-align: right;\">\n",
       "      <th></th>\n",
       "      <th>name</th>\n",
       "      <th>lat</th>\n",
       "      <th>lon</th>\n",
       "      <th>geometry</th>\n",
       "    </tr>\n",
       "  </thead>\n",
       "  <tbody>\n",
       "    <tr>\n",
       "      <th>5</th>\n",
       "      <td>Alpine</td>\n",
       "      <td>44.33</td>\n",
       "      <td>-123.36</td>\n",
       "      <td>POINT (-123.36 44.33)</td>\n",
       "    </tr>\n",
       "    <tr>\n",
       "      <th>6</th>\n",
       "      <td>Alsea</td>\n",
       "      <td>44.38</td>\n",
       "      <td>-123.60</td>\n",
       "      <td>POINT (-123.6 44.38)</td>\n",
       "    </tr>\n",
       "    <tr>\n",
       "      <th>7</th>\n",
       "      <td>Altamont</td>\n",
       "      <td>42.20</td>\n",
       "      <td>-121.72</td>\n",
       "      <td>POINT (-121.72 42.2)</td>\n",
       "    </tr>\n",
       "    <tr>\n",
       "      <th>8</th>\n",
       "      <td>Amity</td>\n",
       "      <td>45.12</td>\n",
       "      <td>-123.20</td>\n",
       "      <td>POINT (-123.2 45.12)</td>\n",
       "    </tr>\n",
       "    <tr>\n",
       "      <th>9</th>\n",
       "      <td>Annex</td>\n",
       "      <td>44.23</td>\n",
       "      <td>-116.99</td>\n",
       "      <td>POINT (-116.99 44.23)</td>\n",
       "    </tr>\n",
       "  </tbody>\n",
       "</table>\n",
       "</div>"
      ],
      "text/plain": [
       "       name    lat     lon               geometry\n",
       "5    Alpine  44.33 -123.36  POINT (-123.36 44.33)\n",
       "6     Alsea  44.38 -123.60   POINT (-123.6 44.38)\n",
       "7  Altamont  42.20 -121.72   POINT (-121.72 42.2)\n",
       "8     Amity  45.12 -123.20   POINT (-123.2 45.12)\n",
       "9     Annex  44.23 -116.99  POINT (-116.99 44.23)"
      ]
     },
     "execution_count": 8,
     "metadata": {},
     "output_type": "execute_result"
    }
   ],
   "source": [
    "# Sixth to tenth rows\n",
    "cities.iloc[5:10]"
   ]
  },
  {
   "cell_type": "markdown",
   "id": "237c5253",
   "metadata": {
    "slideshow": {
     "slide_type": "slide"
    }
   },
   "source": [
    "## Masking\n",
    "\n",
    "We can sample of our `DataFrame` based on specific values by producing a **Boolean mask** (i.e. a list of values equal to `True` or `False`). To find cities that are East of -117.5 degrees longitude, we could write:"
   ]
  },
  {
   "cell_type": "code",
   "execution_count": 9,
   "id": "3a348d5c",
   "metadata": {
    "slideshow": {
     "slide_type": "fragment"
    }
   },
   "outputs": [
    {
     "data": {
      "text/html": [
       "<div>\n",
       "<style scoped>\n",
       "    .dataframe tbody tr th:only-of-type {\n",
       "        vertical-align: middle;\n",
       "    }\n",
       "\n",
       "    .dataframe tbody tr th {\n",
       "        vertical-align: top;\n",
       "    }\n",
       "\n",
       "    .dataframe thead th {\n",
       "        text-align: right;\n",
       "    }\n",
       "</style>\n",
       "<table border=\"1\" class=\"dataframe\">\n",
       "  <thead>\n",
       "    <tr style=\"text-align: right;\">\n",
       "      <th></th>\n",
       "      <th>name</th>\n",
       "      <th>lat</th>\n",
       "      <th>lon</th>\n",
       "      <th>geometry</th>\n",
       "    </tr>\n",
       "  </thead>\n",
       "  <tbody>\n",
       "    <tr>\n",
       "      <th>2</th>\n",
       "      <td>Adrian</td>\n",
       "      <td>43.74</td>\n",
       "      <td>-117.07</td>\n",
       "      <td>POINT (-117.07 43.74)</td>\n",
       "    </tr>\n",
       "    <tr>\n",
       "      <th>9</th>\n",
       "      <td>Annex</td>\n",
       "      <td>44.23</td>\n",
       "      <td>-116.99</td>\n",
       "      <td>POINT (-116.99 44.23)</td>\n",
       "    </tr>\n",
       "    <tr>\n",
       "      <th>97</th>\n",
       "      <td>Enterprise</td>\n",
       "      <td>45.43</td>\n",
       "      <td>-117.28</td>\n",
       "      <td>POINT (-117.28 45.43)</td>\n",
       "    </tr>\n",
       "    <tr>\n",
       "      <th>134</th>\n",
       "      <td>Halfway</td>\n",
       "      <td>44.88</td>\n",
       "      <td>-117.11</td>\n",
       "      <td>POINT (-117.11 44.88)</td>\n",
       "    </tr>\n",
       "    <tr>\n",
       "      <th>150</th>\n",
       "      <td>Huntington</td>\n",
       "      <td>44.35</td>\n",
       "      <td>-117.27</td>\n",
       "      <td>POINT (-117.27 44.35)</td>\n",
       "    </tr>\n",
       "    <tr>\n",
       "      <th>164</th>\n",
       "      <td>Jordan Valley</td>\n",
       "      <td>42.98</td>\n",
       "      <td>-117.06</td>\n",
       "      <td>POINT (-117.06 42.98)</td>\n",
       "    </tr>\n",
       "    <tr>\n",
       "      <th>165</th>\n",
       "      <td>Joseph</td>\n",
       "      <td>45.35</td>\n",
       "      <td>-117.23</td>\n",
       "      <td>POINT (-117.23 45.35)</td>\n",
       "    </tr>\n",
       "    <tr>\n",
       "      <th>190</th>\n",
       "      <td>Lostine</td>\n",
       "      <td>45.49</td>\n",
       "      <td>-117.43</td>\n",
       "      <td>POINT (-117.43 45.49)</td>\n",
       "    </tr>\n",
       "    <tr>\n",
       "      <th>238</th>\n",
       "      <td>Nyssa</td>\n",
       "      <td>43.88</td>\n",
       "      <td>-117.00</td>\n",
       "      <td>POINT (-117 43.88)</td>\n",
       "    </tr>\n",
       "    <tr>\n",
       "      <th>247</th>\n",
       "      <td>Ontario</td>\n",
       "      <td>44.03</td>\n",
       "      <td>-116.98</td>\n",
       "      <td>POINT (-116.98 44.03)</td>\n",
       "    </tr>\n",
       "    <tr>\n",
       "      <th>274</th>\n",
       "      <td>Richland</td>\n",
       "      <td>44.77</td>\n",
       "      <td>-117.17</td>\n",
       "      <td>POINT (-117.17 44.77)</td>\n",
       "    </tr>\n",
       "    <tr>\n",
       "      <th>345</th>\n",
       "      <td>Vale</td>\n",
       "      <td>43.98</td>\n",
       "      <td>-117.24</td>\n",
       "      <td>POINT (-117.24 43.98)</td>\n",
       "    </tr>\n",
       "    <tr>\n",
       "      <th>350</th>\n",
       "      <td>Wallowa Lake</td>\n",
       "      <td>45.30</td>\n",
       "      <td>-117.21</td>\n",
       "      <td>POINT (-117.21 45.3)</td>\n",
       "    </tr>\n",
       "  </tbody>\n",
       "</table>\n",
       "</div>"
      ],
      "text/plain": [
       "              name    lat     lon               geometry\n",
       "2           Adrian  43.74 -117.07  POINT (-117.07 43.74)\n",
       "9            Annex  44.23 -116.99  POINT (-116.99 44.23)\n",
       "97      Enterprise  45.43 -117.28  POINT (-117.28 45.43)\n",
       "134        Halfway  44.88 -117.11  POINT (-117.11 44.88)\n",
       "150     Huntington  44.35 -117.27  POINT (-117.27 44.35)\n",
       "164  Jordan Valley  42.98 -117.06  POINT (-117.06 42.98)\n",
       "165         Joseph  45.35 -117.23  POINT (-117.23 45.35)\n",
       "190        Lostine  45.49 -117.43  POINT (-117.43 45.49)\n",
       "238          Nyssa  43.88 -117.00     POINT (-117 43.88)\n",
       "247        Ontario  44.03 -116.98  POINT (-116.98 44.03)\n",
       "274       Richland  44.77 -117.17  POINT (-117.17 44.77)\n",
       "345           Vale  43.98 -117.24  POINT (-117.24 43.98)\n",
       "350   Wallowa Lake  45.30 -117.21   POINT (-117.21 45.3)"
      ]
     },
     "execution_count": 9,
     "metadata": {},
     "output_type": "execute_result"
    }
   ],
   "source": [
    "mask = cities['lon'] > -117.5\n",
    "cities[mask]"
   ]
  },
  {
   "cell_type": "markdown",
   "id": "919a9d18",
   "metadata": {
    "slideshow": {
     "slide_type": "subslide"
    }
   },
   "source": [
    "It's more concise to just add the Boolean mask between square brackets. Here we find a specific city."
   ]
  },
  {
   "cell_type": "code",
   "execution_count": 10,
   "id": "3df50c02",
   "metadata": {
    "slideshow": {
     "slide_type": "fragment"
    }
   },
   "outputs": [
    {
     "data": {
      "text/html": [
       "<div>\n",
       "<style scoped>\n",
       "    .dataframe tbody tr th:only-of-type {\n",
       "        vertical-align: middle;\n",
       "    }\n",
       "\n",
       "    .dataframe tbody tr th {\n",
       "        vertical-align: top;\n",
       "    }\n",
       "\n",
       "    .dataframe thead th {\n",
       "        text-align: right;\n",
       "    }\n",
       "</style>\n",
       "<table border=\"1\" class=\"dataframe\">\n",
       "  <thead>\n",
       "    <tr style=\"text-align: right;\">\n",
       "      <th></th>\n",
       "      <th>name</th>\n",
       "      <th>lat</th>\n",
       "      <th>lon</th>\n",
       "      <th>geometry</th>\n",
       "    </tr>\n",
       "  </thead>\n",
       "  <tbody>\n",
       "    <tr>\n",
       "      <th>100</th>\n",
       "      <td>Eugene</td>\n",
       "      <td>44.06</td>\n",
       "      <td>-123.12</td>\n",
       "      <td>POINT (-123.12 44.06)</td>\n",
       "    </tr>\n",
       "  </tbody>\n",
       "</table>\n",
       "</div>"
      ],
      "text/plain": [
       "       name    lat     lon               geometry\n",
       "100  Eugene  44.06 -123.12  POINT (-123.12 44.06)"
      ]
     },
     "execution_count": 10,
     "metadata": {},
     "output_type": "execute_result"
    }
   ],
   "source": [
    "cities[cities['name'] == 'Eugene']"
   ]
  },
  {
   "cell_type": "markdown",
   "id": "201af1fb",
   "metadata": {
    "slideshow": {
     "slide_type": "subslide"
    }
   },
   "source": [
    "Or cities that contain a `z` in their name. "
   ]
  },
  {
   "cell_type": "code",
   "execution_count": 11,
   "id": "dfda958d",
   "metadata": {
    "slideshow": {
     "slide_type": "fragment"
    }
   },
   "outputs": [
    {
     "data": {
      "text/html": [
       "<div>\n",
       "<style scoped>\n",
       "    .dataframe tbody tr th:only-of-type {\n",
       "        vertical-align: middle;\n",
       "    }\n",
       "\n",
       "    .dataframe tbody tr th {\n",
       "        vertical-align: top;\n",
       "    }\n",
       "\n",
       "    .dataframe thead th {\n",
       "        text-align: right;\n",
       "    }\n",
       "</style>\n",
       "<table border=\"1\" class=\"dataframe\">\n",
       "  <thead>\n",
       "    <tr style=\"text-align: right;\">\n",
       "      <th></th>\n",
       "      <th>name</th>\n",
       "      <th>lat</th>\n",
       "      <th>lon</th>\n",
       "      <th>geometry</th>\n",
       "    </tr>\n",
       "  </thead>\n",
       "  <tbody>\n",
       "    <tr>\n",
       "      <th>34</th>\n",
       "      <td>Bonanza</td>\n",
       "      <td>42.20</td>\n",
       "      <td>-121.41</td>\n",
       "      <td>POINT (-121.41 42.2)</td>\n",
       "    </tr>\n",
       "    <tr>\n",
       "      <th>168</th>\n",
       "      <td>Keizer</td>\n",
       "      <td>45.00</td>\n",
       "      <td>-123.02</td>\n",
       "      <td>POINT (-123.02 45)</td>\n",
       "    </tr>\n",
       "    <tr>\n",
       "      <th>195</th>\n",
       "      <td>Manzanita</td>\n",
       "      <td>45.72</td>\n",
       "      <td>-123.94</td>\n",
       "      <td>POINT (-123.94 45.72)</td>\n",
       "    </tr>\n",
       "    <tr>\n",
       "      <th>206</th>\n",
       "      <td>Metzger</td>\n",
       "      <td>45.45</td>\n",
       "      <td>-122.76</td>\n",
       "      <td>POINT (-122.76 45.45)</td>\n",
       "    </tr>\n",
       "    <tr>\n",
       "      <th>302</th>\n",
       "      <td>Siletz</td>\n",
       "      <td>44.72</td>\n",
       "      <td>-123.92</td>\n",
       "      <td>POINT (-123.92 44.72)</td>\n",
       "    </tr>\n",
       "  </tbody>\n",
       "</table>\n",
       "</div>"
      ],
      "text/plain": [
       "          name    lat     lon               geometry\n",
       "34     Bonanza  42.20 -121.41   POINT (-121.41 42.2)\n",
       "168     Keizer  45.00 -123.02     POINT (-123.02 45)\n",
       "195  Manzanita  45.72 -123.94  POINT (-123.94 45.72)\n",
       "206    Metzger  45.45 -122.76  POINT (-122.76 45.45)\n",
       "302     Siletz  44.72 -123.92  POINT (-123.92 44.72)"
      ]
     },
     "execution_count": 11,
     "metadata": {},
     "output_type": "execute_result"
    }
   ],
   "source": [
    "cities[cities['name'].str.contains('z')]"
   ]
  },
  {
   "cell_type": "markdown",
   "id": "de891f30",
   "metadata": {
    "slideshow": {
     "slide_type": "slide"
    }
   },
   "source": [
    "## Descriptive statistics\n",
    "\n",
    "`Pandas` provides basic functions to calculate descriptive statistics."
   ]
  },
  {
   "cell_type": "code",
   "execution_count": 12,
   "id": "245470bd",
   "metadata": {
    "slideshow": {
     "slide_type": "fragment"
    }
   },
   "outputs": [
    {
     "data": {
      "text/plain": [
       "np.float64(42.0)"
      ]
     },
     "execution_count": 12,
     "metadata": {},
     "output_type": "execute_result"
    }
   ],
   "source": [
    "# Minimum latitude value\n",
    "cities['lat'].min()"
   ]
  },
  {
   "cell_type": "code",
   "execution_count": 13,
   "id": "a015959a",
   "metadata": {
    "slideshow": {
     "slide_type": "fragment"
    }
   },
   "outputs": [
    {
     "data": {
      "text/plain": [
       "np.float64(-122.02392572944296)"
      ]
     },
     "execution_count": 13,
     "metadata": {},
     "output_type": "execute_result"
    }
   ],
   "source": [
    "# Mean longitude value\n",
    "cities['lon'].mean()"
   ]
  },
  {
   "cell_type": "markdown",
   "id": "d8bb2b2a",
   "metadata": {
    "slideshow": {
     "slide_type": "subslide"
    }
   },
   "source": [
    "A full list of descriptive statistics (including some very useful ones such as `sum` and `count`) can be found [here](https://pandas.pydata.org/docs/user_guide/basics.html#descriptive-statistics).\n",
    "\n",
    "Sometimes we want to know which row contains the specific value which we can do using `idxmax`/`idxmin`."
   ]
  },
  {
   "cell_type": "code",
   "execution_count": 14,
   "id": "deeede5d",
   "metadata": {
    "slideshow": {
     "slide_type": "fragment"
    }
   },
   "outputs": [
    {
     "data": {
      "text/plain": [
       "232"
      ]
     },
     "execution_count": 14,
     "metadata": {},
     "output_type": "execute_result"
    }
   ],
   "source": [
    "cities['lat'].idxmin()"
   ]
  },
  {
   "cell_type": "code",
   "execution_count": 15,
   "id": "05e749da",
   "metadata": {
    "slideshow": {
     "slide_type": "fragment"
    }
   },
   "outputs": [
    {
     "data": {
      "text/plain": [
       "name           New Pine Creek\n",
       "lat                      42.0\n",
       "lon                    -120.3\n",
       "geometry    POINT (-120.3 42)\n",
       "Name: 232, dtype: object"
      ]
     },
     "execution_count": 15,
     "metadata": {},
     "output_type": "execute_result"
    }
   ],
   "source": [
    "cities.iloc[232]"
   ]
  },
  {
   "cell_type": "markdown",
   "id": "0ce49265",
   "metadata": {
    "slideshow": {
     "slide_type": "slide"
    }
   },
   "source": [
    "## Sorting\n",
    "\n",
    "We can sort `DataFrames` using the `sort_values` function. This function takes two arguments, `by` and `ascending` which determine which column and which order we would like to sort by. "
   ]
  },
  {
   "cell_type": "code",
   "execution_count": 16,
   "id": "c5a14800",
   "metadata": {
    "slideshow": {
     "slide_type": "fragment"
    }
   },
   "outputs": [
    {
     "data": {
      "text/html": [
       "<div>\n",
       "<style scoped>\n",
       "    .dataframe tbody tr th:only-of-type {\n",
       "        vertical-align: middle;\n",
       "    }\n",
       "\n",
       "    .dataframe tbody tr th {\n",
       "        vertical-align: top;\n",
       "    }\n",
       "\n",
       "    .dataframe thead th {\n",
       "        text-align: right;\n",
       "    }\n",
       "</style>\n",
       "<table border=\"1\" class=\"dataframe\">\n",
       "  <thead>\n",
       "    <tr style=\"text-align: right;\">\n",
       "      <th></th>\n",
       "      <th>name</th>\n",
       "      <th>lat</th>\n",
       "      <th>lon</th>\n",
       "      <th>geometry</th>\n",
       "    </tr>\n",
       "  </thead>\n",
       "  <tbody>\n",
       "    <tr>\n",
       "      <th>13</th>\n",
       "      <td>Astoria</td>\n",
       "      <td>46.19</td>\n",
       "      <td>-123.81</td>\n",
       "      <td>POINT (-123.81 46.19)</td>\n",
       "    </tr>\n",
       "    <tr>\n",
       "      <th>354</th>\n",
       "      <td>Warrenton</td>\n",
       "      <td>46.17</td>\n",
       "      <td>-123.92</td>\n",
       "      <td>POINT (-123.92 46.17)</td>\n",
       "    </tr>\n",
       "    <tr>\n",
       "      <th>159</th>\n",
       "      <td>Jeffers Gardens</td>\n",
       "      <td>46.15</td>\n",
       "      <td>-123.85</td>\n",
       "      <td>POINT (-123.85 46.15)</td>\n",
       "    </tr>\n",
       "    <tr>\n",
       "      <th>363</th>\n",
       "      <td>Westport</td>\n",
       "      <td>46.13</td>\n",
       "      <td>-123.37</td>\n",
       "      <td>POINT (-123.37 46.13)</td>\n",
       "    </tr>\n",
       "    <tr>\n",
       "      <th>60</th>\n",
       "      <td>Clatskanie</td>\n",
       "      <td>46.10</td>\n",
       "      <td>-123.21</td>\n",
       "      <td>POINT (-123.21 46.1)</td>\n",
       "    </tr>\n",
       "    <tr>\n",
       "      <th>269</th>\n",
       "      <td>Rainier</td>\n",
       "      <td>46.09</td>\n",
       "      <td>-122.95</td>\n",
       "      <td>POINT (-122.95 46.09)</td>\n",
       "    </tr>\n",
       "    <tr>\n",
       "      <th>265</th>\n",
       "      <td>Prescott</td>\n",
       "      <td>46.05</td>\n",
       "      <td>-122.89</td>\n",
       "      <td>POINT (-122.89 46.05)</td>\n",
       "    </tr>\n",
       "    <tr>\n",
       "      <th>116</th>\n",
       "      <td>Gearhart</td>\n",
       "      <td>46.03</td>\n",
       "      <td>-123.92</td>\n",
       "      <td>POINT (-123.92 46.03)</td>\n",
       "    </tr>\n",
       "    <tr>\n",
       "      <th>293</th>\n",
       "      <td>Seaside</td>\n",
       "      <td>45.99</td>\n",
       "      <td>-123.92</td>\n",
       "      <td>POINT (-123.92 45.99)</td>\n",
       "    </tr>\n",
       "    <tr>\n",
       "      <th>341</th>\n",
       "      <td>Umapine</td>\n",
       "      <td>45.98</td>\n",
       "      <td>-118.50</td>\n",
       "      <td>POINT (-118.5 45.98)</td>\n",
       "    </tr>\n",
       "  </tbody>\n",
       "</table>\n",
       "</div>"
      ],
      "text/plain": [
       "                name    lat     lon               geometry\n",
       "13           Astoria  46.19 -123.81  POINT (-123.81 46.19)\n",
       "354        Warrenton  46.17 -123.92  POINT (-123.92 46.17)\n",
       "159  Jeffers Gardens  46.15 -123.85  POINT (-123.85 46.15)\n",
       "363         Westport  46.13 -123.37  POINT (-123.37 46.13)\n",
       "60        Clatskanie  46.10 -123.21   POINT (-123.21 46.1)\n",
       "269          Rainier  46.09 -122.95  POINT (-122.95 46.09)\n",
       "265         Prescott  46.05 -122.89  POINT (-122.89 46.05)\n",
       "116         Gearhart  46.03 -123.92  POINT (-123.92 46.03)\n",
       "293          Seaside  45.99 -123.92  POINT (-123.92 45.99)\n",
       "341          Umapine  45.98 -118.50   POINT (-118.5 45.98)"
      ]
     },
     "execution_count": 16,
     "metadata": {},
     "output_type": "execute_result"
    }
   ],
   "source": [
    "# Find the ten most northerly cities in Oregon\n",
    "cities.sort_values(by='lat', ascending=False).head(10)"
   ]
  },
  {
   "cell_type": "markdown",
   "id": "f2672f06",
   "metadata": {
    "slideshow": {
     "slide_type": "subslide"
    }
   },
   "source": [
    "An alternative way of doing this would be to use the `nlargest/nsmallest` functions."
   ]
  },
  {
   "cell_type": "code",
   "execution_count": 17,
   "id": "a0a667ab",
   "metadata": {
    "slideshow": {
     "slide_type": "fragment"
    }
   },
   "outputs": [
    {
     "data": {
      "text/html": [
       "<div>\n",
       "<style scoped>\n",
       "    .dataframe tbody tr th:only-of-type {\n",
       "        vertical-align: middle;\n",
       "    }\n",
       "\n",
       "    .dataframe tbody tr th {\n",
       "        vertical-align: top;\n",
       "    }\n",
       "\n",
       "    .dataframe thead th {\n",
       "        text-align: right;\n",
       "    }\n",
       "</style>\n",
       "<table border=\"1\" class=\"dataframe\">\n",
       "  <thead>\n",
       "    <tr style=\"text-align: right;\">\n",
       "      <th></th>\n",
       "      <th>name</th>\n",
       "      <th>lat</th>\n",
       "      <th>lon</th>\n",
       "      <th>geometry</th>\n",
       "    </tr>\n",
       "  </thead>\n",
       "  <tbody>\n",
       "    <tr>\n",
       "      <th>13</th>\n",
       "      <td>Astoria</td>\n",
       "      <td>46.19</td>\n",
       "      <td>-123.81</td>\n",
       "      <td>POINT (-123.81 46.19)</td>\n",
       "    </tr>\n",
       "    <tr>\n",
       "      <th>354</th>\n",
       "      <td>Warrenton</td>\n",
       "      <td>46.17</td>\n",
       "      <td>-123.92</td>\n",
       "      <td>POINT (-123.92 46.17)</td>\n",
       "    </tr>\n",
       "    <tr>\n",
       "      <th>159</th>\n",
       "      <td>Jeffers Gardens</td>\n",
       "      <td>46.15</td>\n",
       "      <td>-123.85</td>\n",
       "      <td>POINT (-123.85 46.15)</td>\n",
       "    </tr>\n",
       "    <tr>\n",
       "      <th>363</th>\n",
       "      <td>Westport</td>\n",
       "      <td>46.13</td>\n",
       "      <td>-123.37</td>\n",
       "      <td>POINT (-123.37 46.13)</td>\n",
       "    </tr>\n",
       "    <tr>\n",
       "      <th>60</th>\n",
       "      <td>Clatskanie</td>\n",
       "      <td>46.10</td>\n",
       "      <td>-123.21</td>\n",
       "      <td>POINT (-123.21 46.1)</td>\n",
       "    </tr>\n",
       "    <tr>\n",
       "      <th>269</th>\n",
       "      <td>Rainier</td>\n",
       "      <td>46.09</td>\n",
       "      <td>-122.95</td>\n",
       "      <td>POINT (-122.95 46.09)</td>\n",
       "    </tr>\n",
       "    <tr>\n",
       "      <th>265</th>\n",
       "      <td>Prescott</td>\n",
       "      <td>46.05</td>\n",
       "      <td>-122.89</td>\n",
       "      <td>POINT (-122.89 46.05)</td>\n",
       "    </tr>\n",
       "    <tr>\n",
       "      <th>116</th>\n",
       "      <td>Gearhart</td>\n",
       "      <td>46.03</td>\n",
       "      <td>-123.92</td>\n",
       "      <td>POINT (-123.92 46.03)</td>\n",
       "    </tr>\n",
       "    <tr>\n",
       "      <th>293</th>\n",
       "      <td>Seaside</td>\n",
       "      <td>45.99</td>\n",
       "      <td>-123.92</td>\n",
       "      <td>POINT (-123.92 45.99)</td>\n",
       "    </tr>\n",
       "    <tr>\n",
       "      <th>341</th>\n",
       "      <td>Umapine</td>\n",
       "      <td>45.98</td>\n",
       "      <td>-118.50</td>\n",
       "      <td>POINT (-118.5 45.98)</td>\n",
       "    </tr>\n",
       "  </tbody>\n",
       "</table>\n",
       "</div>"
      ],
      "text/plain": [
       "                name    lat     lon               geometry\n",
       "13           Astoria  46.19 -123.81  POINT (-123.81 46.19)\n",
       "354        Warrenton  46.17 -123.92  POINT (-123.92 46.17)\n",
       "159  Jeffers Gardens  46.15 -123.85  POINT (-123.85 46.15)\n",
       "363         Westport  46.13 -123.37  POINT (-123.37 46.13)\n",
       "60        Clatskanie  46.10 -123.21   POINT (-123.21 46.1)\n",
       "269          Rainier  46.09 -122.95  POINT (-122.95 46.09)\n",
       "265         Prescott  46.05 -122.89  POINT (-122.89 46.05)\n",
       "116         Gearhart  46.03 -123.92  POINT (-123.92 46.03)\n",
       "293          Seaside  45.99 -123.92  POINT (-123.92 45.99)\n",
       "341          Umapine  45.98 -118.50   POINT (-118.5 45.98)"
      ]
     },
     "execution_count": 17,
     "metadata": {},
     "output_type": "execute_result"
    }
   ],
   "source": [
    "cities.nlargest(n=10, columns='lat')"
   ]
  },
  {
   "cell_type": "markdown",
   "id": "05a49e62",
   "metadata": {
    "slideshow": {
     "slide_type": "slide"
    }
   },
   "source": [
    "## Geometric properties\n",
    "\n",
    "The special thing about a `GeoDataFrame` is that it contains a `geometry` column. We can therefore apply spatial methods to these data. To demonstrate we will use our Oregon county shapefile. "
   ]
  },
  {
   "cell_type": "code",
   "execution_count": 18,
   "id": "b02cbce7",
   "metadata": {
    "slideshow": {
     "slide_type": "fragment"
    }
   },
   "outputs": [
    {
     "data": {
      "text/plain": [
       "<Axes: >"
      ]
     },
     "execution_count": 18,
     "metadata": {},
     "output_type": "execute_result"
    },
    {
     "data": {
      "image/png": "[encoded data removed]",
      "text/plain": [
       "<Figure size 640x480 with 1 Axes>"
      ]
     },
     "metadata": {},
     "output_type": "display_data"
    }
   ],
   "source": [
    "# Read shapefile\n",
    "counties = gpd.read_file('data/orcntypoly.shp')\n",
    "counties.plot()"
   ]
  },
  {
   "cell_type": "markdown",
   "id": "abb56814",
   "metadata": {
    "slideshow": {
     "slide_type": "slide"
    }
   },
   "source": [
    "## Projections\n",
    "\n",
    "`GeoDataFrames` have their own **CRS** which can be accessed using the [`crs`](https://geopandas.org/en/stable/docs/user_guide/projections.html) method. The CRS tells `GeoPandas` where the coordinates of the geometries are located on the Earth's surface. "
   ]
  },
  {
   "cell_type": "code",
   "execution_count": 19,
   "id": "f8aaa91e",
   "metadata": {
    "slideshow": {
     "slide_type": "fragment"
    }
   },
   "outputs": [
    {
     "data": {
      "text/plain": [
       "<Geographic 2D CRS: EPSG:4269>\n",
       "Name: NAD83\n",
       "Axis Info [ellipsoidal]:\n",
       "- Lat[north]: Geodetic latitude (degree)\n",
       "- Lon[east]: Geodetic longitude (degree)\n",
       "Area of Use:\n",
       "- name: North America - onshore and offshore: Canada - Alberta; British Columbia; Manitoba; New Brunswick; Newfoundland and Labrador; Northwest Territories; Nova Scotia; Nunavut; Ontario; Prince Edward Island; Quebec; Saskatchewan; Yukon. Puerto Rico. United States (USA) - Alabama; Alaska; Arizona; Arkansas; California; Colorado; Connecticut; Delaware; Florida; Georgia; Hawaii; Idaho; Illinois; Indiana; Iowa; Kansas; Kentucky; Louisiana; Maine; Maryland; Massachusetts; Michigan; Minnesota; Mississippi; Missouri; Montana; Nebraska; Nevada; New Hampshire; New Jersey; New Mexico; New York; North Carolina; North Dakota; Ohio; Oklahoma; Oregon; Pennsylvania; Rhode Island; South Carolina; South Dakota; Tennessee; Texas; Utah; Vermont; Virginia; Washington; West Virginia; Wisconsin; Wyoming. US Virgin Islands. British Virgin Islands.\n",
       "- bounds: (167.65, 14.92, -40.73, 86.45)\n",
       "Datum: North American Datum 1983\n",
       "- Ellipsoid: GRS 1980\n",
       "- Prime Meridian: Greenwich"
      ]
     },
     "execution_count": 19,
     "metadata": {},
     "output_type": "execute_result"
    }
   ],
   "source": [
    "counties.crs"
   ]
  },
  {
   "cell_type": "code",
   "execution_count": 20,
   "id": "b586344b-8828-4efe-99d8-914b44a1c953",
   "metadata": {},
   "outputs": [
    {
     "name": "stderr",
     "output_type": "stream",
     "text": [
      "/var/folders/6m/lbbbs2n90xq6lk5v5902brkc0000gq/T/ipykernel_293/945249447.py:1: UserWarning: Geometry is in a geographic CRS. Results from 'area' are likely incorrect. Use 'GeoSeries.to_crs()' to re-project geometries to a projected CRS before this operation.\n",
      "\n",
      "  counties['area'] = counties['geometry'].area\n"
     ]
    },
    {
     "data": {
      "text/html": [
       "<div>\n",
       "<style scoped>\n",
       "    .dataframe tbody tr th:only-of-type {\n",
       "        vertical-align: middle;\n",
       "    }\n",
       "\n",
       "    .dataframe tbody tr th {\n",
       "        vertical-align: top;\n",
       "    }\n",
       "\n",
       "    .dataframe thead th {\n",
       "        text-align: right;\n",
       "    }\n",
       "</style>\n",
       "<table border=\"1\" class=\"dataframe\">\n",
       "  <thead>\n",
       "    <tr style=\"text-align: right;\">\n",
       "      <th></th>\n",
       "      <th>county</th>\n",
       "      <th>geometry</th>\n",
       "      <th>area</th>\n",
       "    </tr>\n",
       "  </thead>\n",
       "  <tbody>\n",
       "    <tr>\n",
       "      <th>0</th>\n",
       "      <td>Josephine County</td>\n",
       "      <td>POLYGON ((-123.22962 42.70261, -123.2296 42.69...</td>\n",
       "      <td>0.464440</td>\n",
       "    </tr>\n",
       "    <tr>\n",
       "      <th>1</th>\n",
       "      <td>Curry County</td>\n",
       "      <td>POLYGON ((-123.81155 42.78884, -123.81155 42.7...</td>\n",
       "      <td>0.565393</td>\n",
       "    </tr>\n",
       "    <tr>\n",
       "      <th>2</th>\n",
       "      <td>Jackson County</td>\n",
       "      <td>POLYGON ((-122.28273 42.9965, -122.28273 42.99...</td>\n",
       "      <td>0.793753</td>\n",
       "    </tr>\n",
       "    <tr>\n",
       "      <th>3</th>\n",
       "      <td>Coos County</td>\n",
       "      <td>POLYGON ((-123.81155 42.78884, -123.81638 42.7...</td>\n",
       "      <td>0.518952</td>\n",
       "    </tr>\n",
       "    <tr>\n",
       "      <th>4</th>\n",
       "      <td>Klamath County</td>\n",
       "      <td>POLYGON ((-121.33297 43.61665, -121.33296 43.6...</td>\n",
       "      <td>1.746031</td>\n",
       "    </tr>\n",
       "  </tbody>\n",
       "</table>\n",
       "</div>"
      ],
      "text/plain": [
       "             county                                           geometry  \\\n",
       "0  Josephine County  POLYGON ((-123.22962 42.70261, -123.2296 42.69...   \n",
       "1      Curry County  POLYGON ((-123.81155 42.78884, -123.81155 42.7...   \n",
       "2    Jackson County  POLYGON ((-122.28273 42.9965, -122.28273 42.99...   \n",
       "3       Coos County  POLYGON ((-123.81155 42.78884, -123.81638 42.7...   \n",
       "4    Klamath County  POLYGON ((-121.33297 43.61665, -121.33296 43.6...   \n",
       "\n",
       "       area  \n",
       "0  0.464440  \n",
       "1  0.565393  \n",
       "2  0.793753  \n",
       "3  0.518952  \n",
       "4  1.746031  "
      ]
     },
     "execution_count": 20,
     "metadata": {},
     "output_type": "execute_result"
    }
   ],
   "source": [
    "counties['area'] = counties['geometry'].area\n",
    "counties.head()"
   ]
  },
  {
   "cell_type": "markdown",
   "id": "f69a2acd",
   "metadata": {
    "slideshow": {
     "slide_type": "subslide"
    }
   },
   "source": [
    "We produced an `area` column but we were warned that our areas are likely to be incorrect. The reason is because the units of the county boundaries are in **degrees** (i.e. angular units). Since degrees vary in actual ground distance depending on location (for example, 1° longitude is ~111 km at the equator but almost 0 km at the poles), areas calculated directly from lat/lon values are meaningless. \n",
    "\n",
    "```{image} images/meridians.png\n",
    ":alt: vector\n",
    ":width: 700px\n",
    ":align: center\n",
    "```\n",
    "\n",
    "To measure area correctly, we must reproject data into a **Projected** Coordinate System (PCS) with **linear units** (i.e. meters). We can reproject a our data using the `to_crs` method."
   ]
  },
  {
   "cell_type": "code",
   "execution_count": 21,
   "id": "1731642e",
   "metadata": {
    "slideshow": {
     "slide_type": "fragment"
    }
   },
   "outputs": [
    {
     "data": {
      "text/plain": [
       "<Projected CRS: EPSG:32610>\n",
       "Name: WGS 84 / UTM zone 10N\n",
       "Axis Info [cartesian]:\n",
       "- E[east]: Easting (metre)\n",
       "- N[north]: Northing (metre)\n",
       "Area of Use:\n",
       "- name: Between 126°W and 120°W, northern hemisphere between equator and 84°N, onshore and offshore. Canada - British Columbia (BC); Northwest Territories (NWT); Nunavut; Yukon. United States (USA) - Alaska (AK).\n",
       "- bounds: (-126.0, 0.0, -120.0, 84.0)\n",
       "Coordinate Operation:\n",
       "- name: UTM zone 10N\n",
       "- method: Transverse Mercator\n",
       "Datum: World Geodetic System 1984 ensemble\n",
       "- Ellipsoid: WGS 84\n",
       "- Prime Meridian: Greenwich"
      ]
     },
     "execution_count": 21,
     "metadata": {},
     "output_type": "execute_result"
    }
   ],
   "source": [
    "counties_reproject = counties.to_crs('EPSG:32610')\n",
    "counties_reproject.crs"
   ]
  },
  {
   "cell_type": "markdown",
   "id": "96f10f87",
   "metadata": {
    "slideshow": {
     "slide_type": "subslide"
    }
   },
   "source": [
    "```{image} images/utm.png\n",
    ":alt: vector\n",
    ":width: 700px\n",
    ":align: center\n",
    "```\n",
    "\n",
    "Now our data has a **projected CRS**, we can calculate the area of each county with no warnings."
   ]
  },
  {
   "cell_type": "code",
   "execution_count": 22,
   "id": "03c22c51",
   "metadata": {
    "slideshow": {
     "slide_type": "fragment"
    }
   },
   "outputs": [
    {
     "data": {
      "text/html": [
       "<div>\n",
       "<style scoped>\n",
       "    .dataframe tbody tr th:only-of-type {\n",
       "        vertical-align: middle;\n",
       "    }\n",
       "\n",
       "    .dataframe tbody tr th {\n",
       "        vertical-align: top;\n",
       "    }\n",
       "\n",
       "    .dataframe thead th {\n",
       "        text-align: right;\n",
       "    }\n",
       "</style>\n",
       "<table border=\"1\" class=\"dataframe\">\n",
       "  <thead>\n",
       "    <tr style=\"text-align: right;\">\n",
       "      <th></th>\n",
       "      <th>county</th>\n",
       "      <th>geometry</th>\n",
       "      <th>area</th>\n",
       "    </tr>\n",
       "  </thead>\n",
       "  <tbody>\n",
       "    <tr>\n",
       "      <th>0</th>\n",
       "      <td>Josephine County</td>\n",
       "      <td>POLYGON ((481194.491 4727816.88, 481194.958 47...</td>\n",
       "      <td>4.246560e+09</td>\n",
       "    </tr>\n",
       "    <tr>\n",
       "      <th>1</th>\n",
       "      <td>Curry County</td>\n",
       "      <td>POLYGON ((433625.945 4737685.67, 433625.841 47...</td>\n",
       "      <td>5.162413e+09</td>\n",
       "    </tr>\n",
       "    <tr>\n",
       "      <th>2</th>\n",
       "      <td>Jackson County</td>\n",
       "      <td>POLYGON ((558467.407 4760675.759, 558469.593 4...</td>\n",
       "      <td>7.249715e+09</td>\n",
       "    </tr>\n",
       "    <tr>\n",
       "      <th>3</th>\n",
       "      <td>Coos County</td>\n",
       "      <td>POLYGON ((433625.945 4737685.67, 433231.393 47...</td>\n",
       "      <td>4.684074e+09</td>\n",
       "    </tr>\n",
       "    <tr>\n",
       "      <th>4</th>\n",
       "      <td>Klamath County</td>\n",
       "      <td>POLYGON ((634511.459 4830645.879, 634517.742 4...</td>\n",
       "      <td>1.588783e+10</td>\n",
       "    </tr>\n",
       "  </tbody>\n",
       "</table>\n",
       "</div>"
      ],
      "text/plain": [
       "             county                                           geometry  \\\n",
       "0  Josephine County  POLYGON ((481194.491 4727816.88, 481194.958 47...   \n",
       "1      Curry County  POLYGON ((433625.945 4737685.67, 433625.841 47...   \n",
       "2    Jackson County  POLYGON ((558467.407 4760675.759, 558469.593 4...   \n",
       "3       Coos County  POLYGON ((433625.945 4737685.67, 433231.393 47...   \n",
       "4    Klamath County  POLYGON ((634511.459 4830645.879, 634517.742 4...   \n",
       "\n",
       "           area  \n",
       "0  4.246560e+09  \n",
       "1  5.162413e+09  \n",
       "2  7.249715e+09  \n",
       "3  4.684074e+09  \n",
       "4  1.588783e+10  "
      ]
     },
     "execution_count": 22,
     "metadata": {},
     "output_type": "execute_result"
    }
   ],
   "source": [
    "counties_reproject['area'] = counties_reproject['geometry'].area\n",
    "counties_reproject.head()"
   ]
  },
  {
   "cell_type": "code",
   "execution_count": 23,
   "id": "95932202",
   "metadata": {
    "slideshow": {
     "slide_type": "subslide"
    }
   },
   "outputs": [
    {
     "data": {
      "text/html": [
       "<div>\n",
       "<style scoped>\n",
       "    .dataframe tbody tr th:only-of-type {\n",
       "        vertical-align: middle;\n",
       "    }\n",
       "\n",
       "    .dataframe tbody tr th {\n",
       "        vertical-align: top;\n",
       "    }\n",
       "\n",
       "    .dataframe thead th {\n",
       "        text-align: right;\n",
       "    }\n",
       "</style>\n",
       "<table border=\"1\" class=\"dataframe\">\n",
       "  <thead>\n",
       "    <tr style=\"text-align: right;\">\n",
       "      <th></th>\n",
       "      <th>county</th>\n",
       "      <th>geometry</th>\n",
       "      <th>area</th>\n",
       "    </tr>\n",
       "  </thead>\n",
       "  <tbody>\n",
       "    <tr>\n",
       "      <th>7</th>\n",
       "      <td>Harney County</td>\n",
       "      <td>POLYGON ((882378.079 4887383.57, 882399.149 48...</td>\n",
       "      <td>2.653973e+10</td>\n",
       "    </tr>\n",
       "    <tr>\n",
       "      <th>10</th>\n",
       "      <td>Malheur County</td>\n",
       "      <td>POLYGON ((961062.868 4921620.315, 961060.411 4...</td>\n",
       "      <td>2.581882e+10</td>\n",
       "    </tr>\n",
       "    <tr>\n",
       "      <th>5</th>\n",
       "      <td>Lake County</td>\n",
       "      <td>POLYGON ((750439.186 4833367.767, 750479.131 4...</td>\n",
       "      <td>2.165555e+10</td>\n",
       "    </tr>\n",
       "    <tr>\n",
       "      <th>4</th>\n",
       "      <td>Klamath County</td>\n",
       "      <td>POLYGON ((634511.459 4830645.879, 634517.742 4...</td>\n",
       "      <td>1.588783e+10</td>\n",
       "    </tr>\n",
       "    <tr>\n",
       "      <th>6</th>\n",
       "      <td>Douglas County</td>\n",
       "      <td>POLYGON ((570239.73 4810068.418, 570239.824 48...</td>\n",
       "      <td>1.328787e+10</td>\n",
       "    </tr>\n",
       "    <tr>\n",
       "      <th>8</th>\n",
       "      <td>Lane County</td>\n",
       "      <td>POLYGON ((594233.362 4901694.354, 594237.353 4...</td>\n",
       "      <td>1.222697e+10</td>\n",
       "    </tr>\n",
       "    <tr>\n",
       "      <th>15</th>\n",
       "      <td>Grant County</td>\n",
       "      <td>POLYGON ((853221.257 4992269.09, 853253.647 49...</td>\n",
       "      <td>1.174878e+10</td>\n",
       "    </tr>\n",
       "    <tr>\n",
       "      <th>33</th>\n",
       "      <td>Umatilla County</td>\n",
       "      <td>POLYGON ((887375.271 5106291.097, 887517.231 5...</td>\n",
       "      <td>8.385718e+09</td>\n",
       "    </tr>\n",
       "    <tr>\n",
       "      <th>32</th>\n",
       "      <td>Wallowa County</td>\n",
       "      <td>POLYGON ((917855.824 5108106.858, 918248.122 5...</td>\n",
       "      <td>8.197782e+09</td>\n",
       "    </tr>\n",
       "    <tr>\n",
       "      <th>19</th>\n",
       "      <td>Baker County</td>\n",
       "      <td>POLYGON ((989277.799 5010475.028, 989270.732 5...</td>\n",
       "      <td>8.026761e+09</td>\n",
       "    </tr>\n",
       "  </tbody>\n",
       "</table>\n",
       "</div>"
      ],
      "text/plain": [
       "             county                                           geometry  \\\n",
       "7     Harney County  POLYGON ((882378.079 4887383.57, 882399.149 48...   \n",
       "10   Malheur County  POLYGON ((961062.868 4921620.315, 961060.411 4...   \n",
       "5       Lake County  POLYGON ((750439.186 4833367.767, 750479.131 4...   \n",
       "4    Klamath County  POLYGON ((634511.459 4830645.879, 634517.742 4...   \n",
       "6    Douglas County  POLYGON ((570239.73 4810068.418, 570239.824 48...   \n",
       "8       Lane County  POLYGON ((594233.362 4901694.354, 594237.353 4...   \n",
       "15     Grant County  POLYGON ((853221.257 4992269.09, 853253.647 49...   \n",
       "33  Umatilla County  POLYGON ((887375.271 5106291.097, 887517.231 5...   \n",
       "32   Wallowa County  POLYGON ((917855.824 5108106.858, 918248.122 5...   \n",
       "19     Baker County  POLYGON ((989277.799 5010475.028, 989270.732 5...   \n",
       "\n",
       "            area  \n",
       "7   2.653973e+10  \n",
       "10  2.581882e+10  \n",
       "5   2.165555e+10  \n",
       "4   1.588783e+10  \n",
       "6   1.328787e+10  \n",
       "8   1.222697e+10  \n",
       "15  1.174878e+10  \n",
       "33  8.385718e+09  \n",
       "32  8.197782e+09  \n",
       "19  8.026761e+09  "
      ]
     },
     "execution_count": 23,
     "metadata": {},
     "output_type": "execute_result"
    }
   ],
   "source": [
    "counties_reproject.nlargest(n=10, columns='area')"
   ]
  },
  {
   "cell_type": "markdown",
   "id": "4aaab06e",
   "metadata": {
    "slideshow": {
     "slide_type": "slide"
    }
   },
   "source": [
    "## More geometric properties\n",
    "\n",
    "There are other spatial methods we can apply to polygons such as the length of the outer edge (i.e. perimeter). "
   ]
  },
  {
   "cell_type": "code",
   "execution_count": 24,
   "id": "cd56f578",
   "metadata": {
    "slideshow": {
     "slide_type": "fragment"
    }
   },
   "outputs": [
    {
     "data": {
      "text/html": [
       "<div>\n",
       "<style scoped>\n",
       "    .dataframe tbody tr th:only-of-type {\n",
       "        vertical-align: middle;\n",
       "    }\n",
       "\n",
       "    .dataframe tbody tr th {\n",
       "        vertical-align: top;\n",
       "    }\n",
       "\n",
       "    .dataframe thead th {\n",
       "        text-align: right;\n",
       "    }\n",
       "</style>\n",
       "<table border=\"1\" class=\"dataframe\">\n",
       "  <thead>\n",
       "    <tr style=\"text-align: right;\">\n",
       "      <th></th>\n",
       "      <th>county</th>\n",
       "      <th>geometry</th>\n",
       "      <th>area</th>\n",
       "      <th>perimeter</th>\n",
       "    </tr>\n",
       "  </thead>\n",
       "  <tbody>\n",
       "    <tr>\n",
       "      <th>0</th>\n",
       "      <td>Josephine County</td>\n",
       "      <td>POLYGON ((481194.491 4727816.88, 481194.958 47...</td>\n",
       "      <td>4.246560e+09</td>\n",
       "      <td>331219.590167</td>\n",
       "    </tr>\n",
       "    <tr>\n",
       "      <th>1</th>\n",
       "      <td>Curry County</td>\n",
       "      <td>POLYGON ((433625.945 4737685.67, 433625.841 47...</td>\n",
       "      <td>5.162413e+09</td>\n",
       "      <td>438569.197122</td>\n",
       "    </tr>\n",
       "    <tr>\n",
       "      <th>2</th>\n",
       "      <td>Jackson County</td>\n",
       "      <td>POLYGON ((558467.407 4760675.759, 558469.593 4...</td>\n",
       "      <td>7.249715e+09</td>\n",
       "      <td>378774.026028</td>\n",
       "    </tr>\n",
       "    <tr>\n",
       "      <th>3</th>\n",
       "      <td>Coos County</td>\n",
       "      <td>POLYGON ((433625.945 4737685.67, 433231.393 47...</td>\n",
       "      <td>4.684074e+09</td>\n",
       "      <td>341177.939179</td>\n",
       "    </tr>\n",
       "    <tr>\n",
       "      <th>4</th>\n",
       "      <td>Klamath County</td>\n",
       "      <td>POLYGON ((634511.459 4830645.879, 634517.742 4...</td>\n",
       "      <td>1.588783e+10</td>\n",
       "      <td>619485.829095</td>\n",
       "    </tr>\n",
       "  </tbody>\n",
       "</table>\n",
       "</div>"
      ],
      "text/plain": [
       "             county                                           geometry  \\\n",
       "0  Josephine County  POLYGON ((481194.491 4727816.88, 481194.958 47...   \n",
       "1      Curry County  POLYGON ((433625.945 4737685.67, 433625.841 47...   \n",
       "2    Jackson County  POLYGON ((558467.407 4760675.759, 558469.593 4...   \n",
       "3       Coos County  POLYGON ((433625.945 4737685.67, 433231.393 47...   \n",
       "4    Klamath County  POLYGON ((634511.459 4830645.879, 634517.742 4...   \n",
       "\n",
       "           area      perimeter  \n",
       "0  4.246560e+09  331219.590167  \n",
       "1  5.162413e+09  438569.197122  \n",
       "2  7.249715e+09  378774.026028  \n",
       "3  4.684074e+09  341177.939179  \n",
       "4  1.588783e+10  619485.829095  "
      ]
     },
     "execution_count": 24,
     "metadata": {},
     "output_type": "execute_result"
    }
   ],
   "source": [
    "counties_reproject['perimeter'] = counties_reproject['geometry'].length\n",
    "counties_reproject.head()"
   ]
  },
  {
   "cell_type": "markdown",
   "id": "0f2babed",
   "metadata": {
    "slideshow": {
     "slide_type": "subslide"
    }
   },
   "source": [
    "Our `cities` `GeoDataFrame` also has geometric properties. We can access the latitude and longitude using the `x` and `y` methods."
   ]
  },
  {
   "cell_type": "code",
   "execution_count": 25,
   "id": "07aaa3a7",
   "metadata": {
    "slideshow": {
     "slide_type": "fragment"
    }
   },
   "outputs": [
    {
     "data": {
      "text/plain": [
       "0     -123.22\n",
       "1     -118.56\n",
       "2     -117.07\n",
       "3     -123.10\n",
       "4     -122.87\n",
       "        ...  \n",
       "372   -122.42\n",
       "373   -122.86\n",
       "374   -124.10\n",
       "375   -123.19\n",
       "376   -123.29\n",
       "Length: 377, dtype: float64"
      ]
     },
     "execution_count": 25,
     "metadata": {},
     "output_type": "execute_result"
    }
   ],
   "source": [
    "cities['geometry'].x"
   ]
  },
  {
   "cell_type": "code",
   "execution_count": 26,
   "id": "a99dd8b9",
   "metadata": {
    "slideshow": {
     "slide_type": "subslide"
    }
   },
   "outputs": [
    {
     "data": {
      "text/plain": [
       "0      44.67\n",
       "1      45.77\n",
       "2      43.74\n",
       "3      44.63\n",
       "4      45.49\n",
       "       ...  \n",
       "372    45.54\n",
       "373    45.15\n",
       "374    44.31\n",
       "375    45.34\n",
       "376    43.60\n",
       "Length: 377, dtype: float64"
      ]
     },
     "execution_count": 26,
     "metadata": {},
     "output_type": "execute_result"
    }
   ],
   "source": [
    "cities['geometry'].y"
   ]
  },
  {
   "cell_type": "markdown",
   "id": "1ed77fcc",
   "metadata": {
    "slideshow": {
     "slide_type": "slide"
    }
   },
   "source": [
    "## Measure distance\n",
    "\n",
    "We can measure the distance between two points, provided they have a projected CRS."
   ]
  },
  {
   "cell_type": "code",
   "execution_count": 27,
   "id": "f4605fdc",
   "metadata": {
    "slideshow": {
     "slide_type": "fragment"
    }
   },
   "outputs": [],
   "source": [
    "cities_reproject = cities.to_crs('EPSG:32610')"
   ]
  },
  {
   "cell_type": "code",
   "execution_count": 28,
   "id": "49e5fcaa",
   "metadata": {
    "slideshow": {
     "slide_type": "subslide"
    }
   },
   "outputs": [],
   "source": [
    "eugene = cities_reproject[cities_reproject['name'] == 'Eugene'].reset_index()\n",
    "bend = cities_reproject[cities_reproject['name'] == 'Bend'].reset_index()"
   ]
  },
  {
   "cell_type": "code",
   "execution_count": 29,
   "id": "962e7cde",
   "metadata": {
    "slideshow": {
     "slide_type": "fragment"
    }
   },
   "outputs": [
    {
     "data": {
      "text/plain": [
       "np.float64(144.97607871968486)"
      ]
     },
     "execution_count": 29,
     "metadata": {},
     "output_type": "execute_result"
    }
   ],
   "source": [
    "eugene.distance(bend).values[0] / 1000"
   ]
  },
  {
   "cell_type": "markdown",
   "id": "af0d5b1a",
   "metadata": {
    "slideshow": {
     "slide_type": "subslide"
    }
   },
   "source": [
    "We can even compute the distance from Eugene to all cities in Oregon. We just have to convert our Eugene `GeoDataFrame` to a `shapely` `Point` object."
   ]
  },
  {
   "cell_type": "code",
   "execution_count": 30,
   "id": "351bbdd4",
   "metadata": {
    "slideshow": {
     "slide_type": "fragment"
    }
   },
   "outputs": [
    {
     "data": {
      "text/plain": [
       "shapely.geometry.point.Point"
      ]
     },
     "execution_count": 30,
     "metadata": {},
     "output_type": "execute_result"
    }
   ],
   "source": [
    "from shapely.geometry import Point\n",
    "point = Point(eugene['geometry'].x, eugene['geometry'].y)\n",
    "type(point)"
   ]
  },
  {
   "cell_type": "code",
   "execution_count": 31,
   "id": "31eb3844",
   "metadata": {
    "slideshow": {
     "slide_type": "subslide"
    }
   },
   "outputs": [
    {
     "data": {
      "text/plain": [
       "0       68222.760516\n",
       "1      407083.677355\n",
       "2      487501.149310\n",
       "3       63332.609637\n",
       "4      160075.276651\n",
       "           ...      \n",
       "372    173473.943528\n",
       "373    122821.981564\n",
       "374     83104.796535\n",
       "375    142292.638317\n",
       "376     52886.634459\n",
       "Length: 377, dtype: float64"
      ]
     },
     "execution_count": 31,
     "metadata": {},
     "output_type": "execute_result"
    }
   ],
   "source": [
    "cities_reproject.distance(point)"
   ]
  },
  {
   "cell_type": "code",
   "execution_count": 32,
   "id": "5b6d347f",
   "metadata": {
    "slideshow": {
     "slide_type": "subslide"
    }
   },
   "outputs": [],
   "source": [
    "cities_reproject['dist_from_eugene'] = cities_reproject.distance(point) / 1000 "
   ]
  },
  {
   "cell_type": "code",
   "execution_count": 33,
   "id": "6f42a8f2",
   "metadata": {
    "slideshow": {
     "slide_type": "subslide"
    }
   },
   "outputs": [
    {
     "data": {
      "text/html": [
       "<div>\n",
       "<style scoped>\n",
       "    .dataframe tbody tr th:only-of-type {\n",
       "        vertical-align: middle;\n",
       "    }\n",
       "\n",
       "    .dataframe tbody tr th {\n",
       "        vertical-align: top;\n",
       "    }\n",
       "\n",
       "    .dataframe thead th {\n",
       "        text-align: right;\n",
       "    }\n",
       "</style>\n",
       "<table border=\"1\" class=\"dataframe\">\n",
       "  <thead>\n",
       "    <tr style=\"text-align: right;\">\n",
       "      <th></th>\n",
       "      <th>name</th>\n",
       "      <th>lat</th>\n",
       "      <th>lon</th>\n",
       "      <th>geometry</th>\n",
       "      <th>dist_from_eugene</th>\n",
       "    </tr>\n",
       "  </thead>\n",
       "  <tbody>\n",
       "    <tr>\n",
       "      <th>100</th>\n",
       "      <td>Eugene</td>\n",
       "      <td>44.06</td>\n",
       "      <td>-123.12</td>\n",
       "      <td>POINT (490388.807 4878543.943)</td>\n",
       "      <td>0.000000</td>\n",
       "    </tr>\n",
       "    <tr>\n",
       "      <th>62</th>\n",
       "      <td>Coburg</td>\n",
       "      <td>44.14</td>\n",
       "      <td>-123.06</td>\n",
       "      <td>POINT (495200.879 4887424.274)</td>\n",
       "      <td>10.100312</td>\n",
       "    </tr>\n",
       "    <tr>\n",
       "      <th>309</th>\n",
       "      <td>Springfield</td>\n",
       "      <td>44.05</td>\n",
       "      <td>-122.98</td>\n",
       "      <td>POINT (501602.135 4877426.449)</td>\n",
       "      <td>11.268874</td>\n",
       "    </tr>\n",
       "    <tr>\n",
       "      <th>74</th>\n",
       "      <td>Creswell</td>\n",
       "      <td>43.92</td>\n",
       "      <td>-123.02</td>\n",
       "      <td>POINT (498394.365 4862987.674)</td>\n",
       "      <td>17.495327</td>\n",
       "    </tr>\n",
       "    <tr>\n",
       "      <th>346</th>\n",
       "      <td>Veneta</td>\n",
       "      <td>44.05</td>\n",
       "      <td>-123.35</td>\n",
       "      <td>POINT (471962.631 4877485.796)</td>\n",
       "      <td>18.456534</td>\n",
       "    </tr>\n",
       "    <tr>\n",
       "      <th>166</th>\n",
       "      <td>Junction City</td>\n",
       "      <td>44.22</td>\n",
       "      <td>-123.21</td>\n",
       "      <td>POINT (483225.773 4896329.667)</td>\n",
       "      <td>19.173968</td>\n",
       "    </tr>\n",
       "    <tr>\n",
       "      <th>139</th>\n",
       "      <td>Harrisburg</td>\n",
       "      <td>44.27</td>\n",
       "      <td>-123.17</td>\n",
       "      <td>POINT (486432.361 4901875.908)</td>\n",
       "      <td>23.665038</td>\n",
       "    </tr>\n",
       "    <tr>\n",
       "      <th>69</th>\n",
       "      <td>Cottage Grove</td>\n",
       "      <td>43.80</td>\n",
       "      <td>-123.06</td>\n",
       "      <td>POINT (495173.424 4849661.421)</td>\n",
       "      <td>29.276145</td>\n",
       "    </tr>\n",
       "    <tr>\n",
       "      <th>191</th>\n",
       "      <td>Lowell</td>\n",
       "      <td>43.92</td>\n",
       "      <td>-122.78</td>\n",
       "      <td>POINT (517661.989 4863011)</td>\n",
       "      <td>31.386283</td>\n",
       "    </tr>\n",
       "    <tr>\n",
       "      <th>215</th>\n",
       "      <td>Monroe</td>\n",
       "      <td>44.32</td>\n",
       "      <td>-123.30</td>\n",
       "      <td>POINT (476077.414 4907459.292)</td>\n",
       "      <td>32.263190</td>\n",
       "    </tr>\n",
       "  </tbody>\n",
       "</table>\n",
       "</div>"
      ],
      "text/plain": [
       "              name    lat     lon                        geometry  \\\n",
       "100         Eugene  44.06 -123.12  POINT (490388.807 4878543.943)   \n",
       "62          Coburg  44.14 -123.06  POINT (495200.879 4887424.274)   \n",
       "309    Springfield  44.05 -122.98  POINT (501602.135 4877426.449)   \n",
       "74        Creswell  43.92 -123.02  POINT (498394.365 4862987.674)   \n",
       "346         Veneta  44.05 -123.35  POINT (471962.631 4877485.796)   \n",
       "166  Junction City  44.22 -123.21  POINT (483225.773 4896329.667)   \n",
       "139     Harrisburg  44.27 -123.17  POINT (486432.361 4901875.908)   \n",
       "69   Cottage Grove  43.80 -123.06  POINT (495173.424 4849661.421)   \n",
       "191         Lowell  43.92 -122.78      POINT (517661.989 4863011)   \n",
       "215         Monroe  44.32 -123.30  POINT (476077.414 4907459.292)   \n",
       "\n",
       "     dist_from_eugene  \n",
       "100          0.000000  \n",
       "62          10.100312  \n",
       "309         11.268874  \n",
       "74          17.495327  \n",
       "346         18.456534  \n",
       "166         19.173968  \n",
       "139         23.665038  \n",
       "69          29.276145  \n",
       "191         31.386283  \n",
       "215         32.263190  "
      ]
     },
     "execution_count": 33,
     "metadata": {},
     "output_type": "execute_result"
    }
   ],
   "source": [
    "cities_reproject.nsmallest(n=10, columns='dist_from_eugene')"
   ]
  },
  {
   "cell_type": "markdown",
   "id": "1cd00dc2",
   "metadata": {
    "slideshow": {
     "slide_type": "slide"
    }
   },
   "source": [
    "## Plot\n",
    "\n",
    "If our data are in the same projection system, we can plot them together."
   ]
  },
  {
   "cell_type": "code",
   "execution_count": 34,
   "id": "61250f40",
   "metadata": {
    "slideshow": {
     "slide_type": "fragment"
    }
   },
   "outputs": [
    {
     "data": {
      "text/plain": [
       "<Axes: >"
      ]
     },
     "execution_count": 34,
     "metadata": {},
     "output_type": "execute_result"
    },
    {
     "data": {
      "image/png": "[encoded data removed]",
      "text/plain": [
       "<Figure size 1000x1000 with 1 Axes>"
      ]
     },
     "metadata": {},
     "output_type": "display_data"
    }
   ],
   "source": [
    "ax = counties_reproject.plot(figsize=(10, 10), alpha=0.5, edgecolor='k')\n",
    "cities_reproject.plot(ax=ax, color='black', markersize=5)"
   ]
  },
  {
   "cell_type": "markdown",
   "id": "f62ddb05",
   "metadata": {
    "slideshow": {
     "slide_type": "slide"
    }
   },
   "source": [
    "## Spatial joins\n",
    "\n",
    "One of the most useful things about `GeoPandas` is that it contains functions to perform **spatial joins** to combine two `GeoDataFrames` based on the **spatial relationships** between their geometries.\n",
    "\n",
    "The order of the two `GeoDataFrames` is quite important here, as well as the `how` argument. A **left** outer join implies that we are interested in **retaining the geometries** of the `GeoDataFrame` on the left, i.e. the **point** locations of the cities. We then retain attributes of the **right** `GeoDataFrame` if they intersect and drop them if they don't.\n",
    "\n",
    "The following would provide the county attributes for all our cities based on a spatial intersection. "
   ]
  },
  {
   "cell_type": "code",
   "execution_count": 35,
   "id": "0037a0bf",
   "metadata": {
    "slideshow": {
     "slide_type": "subslide"
    }
   },
   "outputs": [
    {
     "data": {
      "text/html": [
       "<div>\n",
       "<style scoped>\n",
       "    .dataframe tbody tr th:only-of-type {\n",
       "        vertical-align: middle;\n",
       "    }\n",
       "\n",
       "    .dataframe tbody tr th {\n",
       "        vertical-align: top;\n",
       "    }\n",
       "\n",
       "    .dataframe thead th {\n",
       "        text-align: right;\n",
       "    }\n",
       "</style>\n",
       "<table border=\"1\" class=\"dataframe\">\n",
       "  <thead>\n",
       "    <tr style=\"text-align: right;\">\n",
       "      <th></th>\n",
       "      <th>name</th>\n",
       "      <th>lat</th>\n",
       "      <th>lon</th>\n",
       "      <th>geometry</th>\n",
       "      <th>dist_from_eugene</th>\n",
       "      <th>index_right</th>\n",
       "      <th>county</th>\n",
       "      <th>area</th>\n",
       "      <th>perimeter</th>\n",
       "    </tr>\n",
       "  </thead>\n",
       "  <tbody>\n",
       "    <tr>\n",
       "      <th>0</th>\n",
       "      <td>Adair Village city</td>\n",
       "      <td>44.67</td>\n",
       "      <td>-123.22</td>\n",
       "      <td>POINT (482561.392 4946316.184)</td>\n",
       "      <td>68.222761</td>\n",
       "      <td>12</td>\n",
       "      <td>Benton County</td>\n",
       "      <td>1.755206e+09</td>\n",
       "      <td>235146.207283</td>\n",
       "    </tr>\n",
       "    <tr>\n",
       "      <th>1</th>\n",
       "      <td>Adams</td>\n",
       "      <td>45.77</td>\n",
       "      <td>-118.56</td>\n",
       "      <td>POINT (845212.127 5078087.252)</td>\n",
       "      <td>407.083677</td>\n",
       "      <td>33</td>\n",
       "      <td>Umatilla County</td>\n",
       "      <td>8.385718e+09</td>\n",
       "      <td>481237.919385</td>\n",
       "    </tr>\n",
       "    <tr>\n",
       "      <th>2</th>\n",
       "      <td>Adrian</td>\n",
       "      <td>43.74</td>\n",
       "      <td>-117.07</td>\n",
       "      <td>POINT (977541.425 4860113.062)</td>\n",
       "      <td>487.501149</td>\n",
       "      <td>10</td>\n",
       "      <td>Malheur County</td>\n",
       "      <td>2.581882e+10</td>\n",
       "      <td>768932.749866</td>\n",
       "    </tr>\n",
       "    <tr>\n",
       "      <th>3</th>\n",
       "      <td>Albany</td>\n",
       "      <td>44.63</td>\n",
       "      <td>-123.10</td>\n",
       "      <td>POINT (492067.91 4941854.29)</td>\n",
       "      <td>63.332610</td>\n",
       "      <td>13</td>\n",
       "      <td>Linn County</td>\n",
       "      <td>5.969370e+09</td>\n",
       "      <td>426799.857671</td>\n",
       "    </tr>\n",
       "    <tr>\n",
       "      <th>4</th>\n",
       "      <td>Aloha</td>\n",
       "      <td>45.49</td>\n",
       "      <td>-122.87</td>\n",
       "      <td>POINT (510158.282 5037393.753)</td>\n",
       "      <td>160.075277</td>\n",
       "      <td>27</td>\n",
       "      <td>Washington County</td>\n",
       "      <td>1.880526e+09</td>\n",
       "      <td>250776.514814</td>\n",
       "    </tr>\n",
       "  </tbody>\n",
       "</table>\n",
       "</div>"
      ],
      "text/plain": [
       "                 name    lat     lon                        geometry  \\\n",
       "0  Adair Village city  44.67 -123.22  POINT (482561.392 4946316.184)   \n",
       "1               Adams  45.77 -118.56  POINT (845212.127 5078087.252)   \n",
       "2              Adrian  43.74 -117.07  POINT (977541.425 4860113.062)   \n",
       "3              Albany  44.63 -123.10    POINT (492067.91 4941854.29)   \n",
       "4               Aloha  45.49 -122.87  POINT (510158.282 5037393.753)   \n",
       "\n",
       "   dist_from_eugene  index_right             county          area  \\\n",
       "0         68.222761           12      Benton County  1.755206e+09   \n",
       "1        407.083677           33    Umatilla County  8.385718e+09   \n",
       "2        487.501149           10     Malheur County  2.581882e+10   \n",
       "3         63.332610           13        Linn County  5.969370e+09   \n",
       "4        160.075277           27  Washington County  1.880526e+09   \n",
       "\n",
       "       perimeter  \n",
       "0  235146.207283  \n",
       "1  481237.919385  \n",
       "2  768932.749866  \n",
       "3  426799.857671  \n",
       "4  250776.514814  "
      ]
     },
     "execution_count": 35,
     "metadata": {},
     "output_type": "execute_result"
    }
   ],
   "source": [
    "cities_reproject.sjoin(counties_reproject, how=\"left\").head()"
   ]
  },
  {
   "cell_type": "markdown",
   "id": "8310e370",
   "metadata": {
    "slideshow": {
     "slide_type": "fragment"
    }
   },
   "source": [
    "```{note}\n",
    "The `geometry` column type is `POINT`.\n",
    "```"
   ]
  },
  {
   "cell_type": "markdown",
   "id": "afc5afa2",
   "metadata": {
    "slideshow": {
     "slide_type": "subslide"
    }
   },
   "source": [
    "On the other hand, a **right** outer join implies that we are interested in **retaining the geometries** of the `GeoDataFrame` on the right, i.e. the **polygons** of the counties. This time we keep all rows from the right `GeoDataFrame` and duplicate them if necessary to represent multiple hits between the two dataframes."
   ]
  },
  {
   "cell_type": "code",
   "execution_count": 36,
   "id": "94b8373c",
   "metadata": {
    "slideshow": {
     "slide_type": "fragment"
    }
   },
   "outputs": [
    {
     "data": {
      "text/html": [
       "<div>\n",
       "<style scoped>\n",
       "    .dataframe tbody tr th:only-of-type {\n",
       "        vertical-align: middle;\n",
       "    }\n",
       "\n",
       "    .dataframe tbody tr th {\n",
       "        vertical-align: top;\n",
       "    }\n",
       "\n",
       "    .dataframe thead th {\n",
       "        text-align: right;\n",
       "    }\n",
       "</style>\n",
       "<table border=\"1\" class=\"dataframe\">\n",
       "  <thead>\n",
       "    <tr style=\"text-align: right;\">\n",
       "      <th></th>\n",
       "      <th>index_left</th>\n",
       "      <th>name</th>\n",
       "      <th>lat</th>\n",
       "      <th>lon</th>\n",
       "      <th>dist_from_eugene</th>\n",
       "      <th>county</th>\n",
       "      <th>geometry</th>\n",
       "      <th>area</th>\n",
       "      <th>perimeter</th>\n",
       "    </tr>\n",
       "  </thead>\n",
       "  <tbody>\n",
       "    <tr>\n",
       "      <th>0</th>\n",
       "      <td>53</td>\n",
       "      <td>Cave Junction</td>\n",
       "      <td>42.17</td>\n",
       "      <td>-123.65</td>\n",
       "      <td>214.270534</td>\n",
       "      <td>Josephine County</td>\n",
       "      <td>POLYGON ((481194.491 4727816.88, 481194.958 47...</td>\n",
       "      <td>4.246560e+09</td>\n",
       "      <td>331219.590167</td>\n",
       "    </tr>\n",
       "    <tr>\n",
       "      <th>0</th>\n",
       "      <td>110</td>\n",
       "      <td>Fruitdale</td>\n",
       "      <td>42.42</td>\n",
       "      <td>-123.30</td>\n",
       "      <td>182.712845</td>\n",
       "      <td>Josephine County</td>\n",
       "      <td>POLYGON ((481194.491 4727816.88, 481194.958 47...</td>\n",
       "      <td>4.246560e+09</td>\n",
       "      <td>331219.590167</td>\n",
       "    </tr>\n",
       "    <tr>\n",
       "      <th>0</th>\n",
       "      <td>128</td>\n",
       "      <td>Grants Pass</td>\n",
       "      <td>42.43</td>\n",
       "      <td>-123.33</td>\n",
       "      <td>181.818198</td>\n",
       "      <td>Josephine County</td>\n",
       "      <td>POLYGON ((481194.491 4727816.88, 481194.958 47...</td>\n",
       "      <td>4.246560e+09</td>\n",
       "      <td>331219.590167</td>\n",
       "    </tr>\n",
       "    <tr>\n",
       "      <th>0</th>\n",
       "      <td>169</td>\n",
       "      <td>Kerby</td>\n",
       "      <td>42.20</td>\n",
       "      <td>-123.65</td>\n",
       "      <td>211.006589</td>\n",
       "      <td>Josephine County</td>\n",
       "      <td>POLYGON ((481194.491 4727816.88, 481194.958 47...</td>\n",
       "      <td>4.246560e+09</td>\n",
       "      <td>331219.590167</td>\n",
       "    </tr>\n",
       "    <tr>\n",
       "      <th>0</th>\n",
       "      <td>203</td>\n",
       "      <td>Merlin</td>\n",
       "      <td>42.52</td>\n",
       "      <td>-123.43</td>\n",
       "      <td>172.862986</td>\n",
       "      <td>Josephine County</td>\n",
       "      <td>POLYGON ((481194.491 4727816.88, 481194.958 47...</td>\n",
       "      <td>4.246560e+09</td>\n",
       "      <td>331219.590167</td>\n",
       "    </tr>\n",
       "  </tbody>\n",
       "</table>\n",
       "</div>"
      ],
      "text/plain": [
       "   index_left           name    lat     lon  dist_from_eugene  \\\n",
       "0          53  Cave Junction  42.17 -123.65        214.270534   \n",
       "0         110      Fruitdale  42.42 -123.30        182.712845   \n",
       "0         128    Grants Pass  42.43 -123.33        181.818198   \n",
       "0         169          Kerby  42.20 -123.65        211.006589   \n",
       "0         203         Merlin  42.52 -123.43        172.862986   \n",
       "\n",
       "             county                                           geometry  \\\n",
       "0  Josephine County  POLYGON ((481194.491 4727816.88, 481194.958 47...   \n",
       "0  Josephine County  POLYGON ((481194.491 4727816.88, 481194.958 47...   \n",
       "0  Josephine County  POLYGON ((481194.491 4727816.88, 481194.958 47...   \n",
       "0  Josephine County  POLYGON ((481194.491 4727816.88, 481194.958 47...   \n",
       "0  Josephine County  POLYGON ((481194.491 4727816.88, 481194.958 47...   \n",
       "\n",
       "           area      perimeter  \n",
       "0  4.246560e+09  331219.590167  \n",
       "0  4.246560e+09  331219.590167  \n",
       "0  4.246560e+09  331219.590167  \n",
       "0  4.246560e+09  331219.590167  \n",
       "0  4.246560e+09  331219.590167  "
      ]
     },
     "execution_count": 36,
     "metadata": {},
     "output_type": "execute_result"
    }
   ],
   "source": [
    "cities_reproject.sjoin(counties_reproject, how=\"right\").head()"
   ]
  },
  {
   "cell_type": "markdown",
   "id": "cd384917",
   "metadata": {
    "slideshow": {
     "slide_type": "slide"
    }
   },
   "source": [
    "## Which county contains the most cities/towns?\n",
    "\n",
    "We would do this would be to use the `groupby` function."
   ]
  },
  {
   "cell_type": "code",
   "execution_count": 37,
   "id": "5a87cfe4",
   "metadata": {
    "slideshow": {
     "slide_type": "fragment"
    }
   },
   "outputs": [],
   "source": [
    "join = cities_reproject.sjoin(counties_reproject, how=\"left\")"
   ]
  },
  {
   "cell_type": "markdown",
   "id": "d02dc5f8",
   "metadata": {
    "slideshow": {
     "slide_type": "subslide"
    }
   },
   "source": [
    "The first argument `groupby` accepts is the column we want group our data into (`county` in our case). Next, it takes a column (or list of columns) to summarize. Finally, this function does nothing until we specify **how** we want to group our data (`count`).\n",
    "\n",
    "It's actually nice to **reset the index** after using `groupby` so that we end up with a DataFrame (rather than a Series). "
   ]
  },
  {
   "cell_type": "code",
   "execution_count": 38,
   "id": "ba314a71",
   "metadata": {
    "slideshow": {
     "slide_type": "fragment"
    }
   },
   "outputs": [
    {
     "data": {
      "text/html": [
       "<div>\n",
       "<style scoped>\n",
       "    .dataframe tbody tr th:only-of-type {\n",
       "        vertical-align: middle;\n",
       "    }\n",
       "\n",
       "    .dataframe tbody tr th {\n",
       "        vertical-align: top;\n",
       "    }\n",
       "\n",
       "    .dataframe thead th {\n",
       "        text-align: right;\n",
       "    }\n",
       "</style>\n",
       "<table border=\"1\" class=\"dataframe\">\n",
       "  <thead>\n",
       "    <tr style=\"text-align: right;\">\n",
       "      <th></th>\n",
       "      <th>county</th>\n",
       "      <th>name</th>\n",
       "    </tr>\n",
       "  </thead>\n",
       "  <tbody>\n",
       "    <tr>\n",
       "      <th>23</th>\n",
       "      <td>Marion County</td>\n",
       "      <td>25</td>\n",
       "    </tr>\n",
       "    <tr>\n",
       "      <th>33</th>\n",
       "      <td>Washington County</td>\n",
       "      <td>24</td>\n",
       "    </tr>\n",
       "    <tr>\n",
       "      <th>2</th>\n",
       "      <td>Clackamas County</td>\n",
       "      <td>23</td>\n",
       "    </tr>\n",
       "    <tr>\n",
       "      <th>9</th>\n",
       "      <td>Douglas County</td>\n",
       "      <td>23</td>\n",
       "    </tr>\n",
       "    <tr>\n",
       "      <th>21</th>\n",
       "      <td>Linn County</td>\n",
       "      <td>23</td>\n",
       "    </tr>\n",
       "    <tr>\n",
       "      <th>29</th>\n",
       "      <td>Umatilla County</td>\n",
       "      <td>19</td>\n",
       "    </tr>\n",
       "    <tr>\n",
       "      <th>28</th>\n",
       "      <td>Tillamook County</td>\n",
       "      <td>18</td>\n",
       "    </tr>\n",
       "    <tr>\n",
       "      <th>14</th>\n",
       "      <td>Jackson County</td>\n",
       "      <td>17</td>\n",
       "    </tr>\n",
       "    <tr>\n",
       "      <th>8</th>\n",
       "      <td>Deschutes County</td>\n",
       "      <td>14</td>\n",
       "    </tr>\n",
       "    <tr>\n",
       "      <th>19</th>\n",
       "      <td>Lane County</td>\n",
       "      <td>12</td>\n",
       "    </tr>\n",
       "  </tbody>\n",
       "</table>\n",
       "</div>"
      ],
      "text/plain": [
       "               county  name\n",
       "23      Marion County    25\n",
       "33  Washington County    24\n",
       "2    Clackamas County    23\n",
       "9      Douglas County    23\n",
       "21        Linn County    23\n",
       "29    Umatilla County    19\n",
       "28   Tillamook County    18\n",
       "14     Jackson County    17\n",
       "8    Deschutes County    14\n",
       "19        Lane County    12"
      ]
     },
     "execution_count": 38,
     "metadata": {},
     "output_type": "execute_result"
    }
   ],
   "source": [
    "grouped = join.groupby('county')['name'].count().reset_index()\n",
    "grouped.nlargest(n=10, columns='name')"
   ]
  },
  {
   "cell_type": "markdown",
   "id": "d49208c9",
   "metadata": {
    "slideshow": {
     "slide_type": "slide"
    }
   },
   "source": [
    "## Which county is furthest from Eugene?"
   ]
  },
  {
   "cell_type": "code",
   "execution_count": 39,
   "id": "e89b0ba2",
   "metadata": {
    "slideshow": {
     "slide_type": "fragment"
    }
   },
   "outputs": [
    {
     "data": {
      "text/html": [
       "<div>\n",
       "<style scoped>\n",
       "    .dataframe tbody tr th:only-of-type {\n",
       "        vertical-align: middle;\n",
       "    }\n",
       "\n",
       "    .dataframe tbody tr th {\n",
       "        vertical-align: top;\n",
       "    }\n",
       "\n",
       "    .dataframe thead th {\n",
       "        text-align: right;\n",
       "    }\n",
       "</style>\n",
       "<table border=\"1\" class=\"dataframe\">\n",
       "  <thead>\n",
       "    <tr style=\"text-align: right;\">\n",
       "      <th></th>\n",
       "      <th>county</th>\n",
       "      <th>dist_from_eugene</th>\n",
       "    </tr>\n",
       "  </thead>\n",
       "  <tbody>\n",
       "    <tr>\n",
       "      <th>31</th>\n",
       "      <td>Wallowa County</td>\n",
       "      <td>482.889501</td>\n",
       "    </tr>\n",
       "    <tr>\n",
       "      <th>22</th>\n",
       "      <td>Malheur County</td>\n",
       "      <td>470.534421</td>\n",
       "    </tr>\n",
       "    <tr>\n",
       "      <th>0</th>\n",
       "      <td>Baker County</td>\n",
       "      <td>440.425667</td>\n",
       "    </tr>\n",
       "    <tr>\n",
       "      <th>30</th>\n",
       "      <td>Union County</td>\n",
       "      <td>433.871378</td>\n",
       "    </tr>\n",
       "    <tr>\n",
       "      <th>29</th>\n",
       "      <td>Umatilla County</td>\n",
       "      <td>390.358136</td>\n",
       "    </tr>\n",
       "    <tr>\n",
       "      <th>12</th>\n",
       "      <td>Harney County</td>\n",
       "      <td>344.072705</td>\n",
       "    </tr>\n",
       "    <tr>\n",
       "      <th>11</th>\n",
       "      <td>Grant County</td>\n",
       "      <td>336.334826</td>\n",
       "    </tr>\n",
       "    <tr>\n",
       "      <th>24</th>\n",
       "      <td>Morrow County</td>\n",
       "      <td>324.247272</td>\n",
       "    </tr>\n",
       "    <tr>\n",
       "      <th>10</th>\n",
       "      <td>Gilliam County</td>\n",
       "      <td>281.414386</td>\n",
       "    </tr>\n",
       "    <tr>\n",
       "      <th>18</th>\n",
       "      <td>Lake County</td>\n",
       "      <td>280.863893</td>\n",
       "    </tr>\n",
       "  </tbody>\n",
       "</table>\n",
       "</div>"
      ],
      "text/plain": [
       "             county  dist_from_eugene\n",
       "31   Wallowa County        482.889501\n",
       "22   Malheur County        470.534421\n",
       "0      Baker County        440.425667\n",
       "30     Union County        433.871378\n",
       "29  Umatilla County        390.358136\n",
       "12    Harney County        344.072705\n",
       "11     Grant County        336.334826\n",
       "24    Morrow County        324.247272\n",
       "10   Gilliam County        281.414386\n",
       "18      Lake County        280.863893"
      ]
     },
     "execution_count": 39,
     "metadata": {},
     "output_type": "execute_result"
    }
   ],
   "source": [
    "grouped = join.groupby('county')['dist_from_eugene'].mean().reset_index()\n",
    "grouped.nlargest(n=10, columns='dist_from_eugene')"
   ]
  }
 ],
 "metadata": {
  "celltoolbar": "Slideshow",
  "kernelspec": {
   "display_name": "Python 3 (ipykernel)",
   "language": "python",
   "name": "python3"
  },
  "language_info": {
   "codemirror_mode": {
    "name": "ipython",
    "version": 3
   },
   "file_extension": ".py",
   "mimetype": "text/x-python",
   "name": "python",
   "nbconvert_exporter": "python",
   "pygments_lexer": "ipython3",
   "version": "3.12.8"
  }
 },
 "nbformat": 4,
 "nbformat_minor": 5
}