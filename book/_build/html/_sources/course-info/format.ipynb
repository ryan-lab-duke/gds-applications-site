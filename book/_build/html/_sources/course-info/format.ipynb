{
 "cells": [
  {
   "cell_type": "markdown",
   "id": "ef31391b-6d54-4a72-bd0e-c630ce233457",
   "metadata": {},
   "source": [
    "# Formatting answers\n",
    "\n",
    "In Assignment 1, we formatted our notebooks using **Markdown** to produce submissions that were stuctured and tidy. Sometimes it is also nice to format the **numerical output** returned by a Python cell in a readable way. For example, we may want to change the number of decimal places. In this demo, we demonstrate some useful approaches for formatting your numerical answers.\n",
    "\n",
    "There are three approaches that can be used to manipulate strings in Python:\n",
    "\n",
    "* the \"old-school\" %-formatting\n",
    "\n",
    "* the str.format() method\n",
    "\n",
    "* f-strings\n",
    "\n",
    "```{note}\n",
    "The f-string approach is recommended and the most modern. However, we are likely to find examples of the all approaches so it is useful to show how they work.\n",
    "```"
   ]
  },
  {
   "cell_type": "markdown",
   "id": "bad7417e-7e7f-4098-a602-b75c83a1ce7d",
   "metadata": {},
   "source": [
    "## Option 1: “Old-school” string formatting\n",
    "\n",
    "String objects have a built-in operation using the `%` operator, which you can use to format strings. Here is an example:"
   ]
  },
  {
   "cell_type": "code",
   "execution_count": 1,
   "id": "3f6da987-5571-442d-81b1-220c38ffaca0",
   "metadata": {},
   "outputs": [
    {
     "name": "stdout",
     "output_type": "stream",
     "text": [
      "The Scott Trail is about 5 miles\n"
     ]
    }
   ],
   "source": [
    "trail = 'Scott'\n",
    "distance = 5\n",
    "\n",
    "print('The %s Trail is about %i miles' % (trail, distance))"
   ]
  },
  {
   "cell_type": "code",
   "execution_count": 2,
   "id": "f505ca43-8dc5-4f6e-82ea-7f2985c1bb7b",
   "metadata": {},
   "outputs": [
    {
     "name": "stdout",
     "output_type": "stream",
     "text": [
      "The Scott Trail is about 5.00 miles\n"
     ]
    }
   ],
   "source": [
    "print('The %s Trail is about %.2f miles' % (trail, distance))"
   ]
  },
  {
   "cell_type": "markdown",
   "id": "4c9827e1-9cdc-4683-aeb9-54d192376a15",
   "metadata": {},
   "source": [
    "Where `%s` stands for **string**, `%i` stands for **integer**, `.2f` stands for a **float with 2 decimal places**."
   ]
  },
  {
   "cell_type": "markdown",
   "id": "2ab2785d-87f3-4a73-97ef-28f0c193af00",
   "metadata": {},
   "source": [
    "## Option 2: str.format()\n",
    "\n",
    "This newer way of getting the job done was introduced in Python 2.6. Here is an example:"
   ]
  },
  {
   "cell_type": "code",
   "execution_count": 3,
   "id": "e51de09e-8001-4f16-95bd-479801ae02ad",
   "metadata": {},
   "outputs": [
    {
     "name": "stdout",
     "output_type": "stream",
     "text": [
      "The Scott Trail is about 5 miles\n"
     ]
    }
   ],
   "source": [
    "print(\"The {} Trail is about {} miles\".format(trail, distance))"
   ]
  },
  {
   "cell_type": "code",
   "execution_count": 4,
   "id": "493b7bc0-1c35-4f92-94c4-c859e1418d36",
   "metadata": {},
   "outputs": [
    {
     "name": "stdout",
     "output_type": "stream",
     "text": [
      "The Scott Trail is about 5.00 miles\n"
     ]
    }
   ],
   "source": [
    "print(\"The {} Trail is about {:.2f} miles\".format(trail, distance))"
   ]
  },
  {
   "cell_type": "markdown",
   "id": "1dce775c-243e-45cc-91bb-7d725fe073d4",
   "metadata": {},
   "source": [
    "## Option 3: f-Strings\n",
    "\n",
    "Also called \"formatted string literals\", f-strings are string literals that have an `f` at the beginning and curly braces containing expressions that will be replaced with their values. Here is an example:"
   ]
  },
  {
   "cell_type": "code",
   "execution_count": 5,
   "id": "6c703cff-795a-43c1-b7c1-85e0272d6edd",
   "metadata": {},
   "outputs": [
    {
     "data": {
      "text/plain": [
       "'The Scott Trail is about 5 miles'"
      ]
     },
     "execution_count": 5,
     "metadata": {},
     "output_type": "execute_result"
    }
   ],
   "source": [
    "f\"The {trail} Trail is about {distance} miles\""
   ]
  },
  {
   "cell_type": "code",
   "execution_count": 6,
   "id": "7db897c9-4950-4100-9398-f5f190d821d3",
   "metadata": {},
   "outputs": [
    {
     "data": {
      "text/plain": [
       "'The Scott Trail is about 5.00 miles'"
      ]
     },
     "execution_count": 6,
     "metadata": {},
     "output_type": "execute_result"
    }
   ],
   "source": [
    "f\"The {trail} Trail is about {distance:.2f} miles\""
   ]
  },
  {
   "cell_type": "markdown",
   "id": "1fcb3f9e-5e03-4a64-821b-fa9146ab3f33",
   "metadata": {},
   "source": [
    "There are many more ways you can use f-strings. Some further reading can be found [here](https://realpython.com/python-f-strings/)."
   ]
  },
  {
   "cell_type": "code",
   "execution_count": null,
   "id": "6682ace4-4229-47c1-9109-2f61b816e63d",
   "metadata": {},
   "outputs": [],
   "source": []
  }
 ],
 "metadata": {
  "kernelspec": {
   "display_name": "Python 3 (ipykernel)",
   "language": "python",
   "name": "python3"
  },
  "language_info": {
   "codemirror_mode": {
    "name": "ipython",
    "version": 3
   },
   "file_extension": ".py",
   "mimetype": "text/x-python",
   "name": "python",
   "nbconvert_exporter": "python",
   "pygments_lexer": "ipython3",
   "version": "3.13.5"
  }
 },
 "nbformat": 4,
 "nbformat_minor": 5
}
