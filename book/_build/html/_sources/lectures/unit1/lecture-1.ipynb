{
 "cells": [
  {
   "cell_type": "markdown",
   "metadata": {},
   "source": [
    "# Introduction\n",
    "\n",
    "Welcome to Geospatial Data Science! In the first lecture we will provide an overview of the course including motivations, expectations, grading, and the schedule. "
   ]
  },
  {
   "cell_type": "markdown",
   "metadata": {},
   "source": [
    "## Lecture content\n",
    "\n",
    "* Overview of course\n",
    "   * What is geospatial data science?\n",
    "\n",
    "\n",
    "* Schedule and expectations\n",
    "    * Lectures, labs, grading\n",
    "\n",
    "\n",
    "* Final projects\n",
    "\n",
    "\n",
    "* Introduction to Friday's lab"
   ]
  },
  {
   "cell_type": "markdown",
   "metadata": {},
   "source": [
    "## Geospatial data\n",
    "\n",
    "### Vector and Raster/gridded data\n",
    "\n",
    "```{image} images/data.png\n",
    ":width: 500px\n",
    ":align: center\n",
    "```"
   ]
  },
  {
   "cell_type": "markdown",
   "metadata": {},
   "source": [
    "### Network data\n",
    "\n",
    "```{image} images/network.png\n",
    ":width: 500px\n",
    ":align: center\n",
    "```"
   ]
  },
  {
   "cell_type": "markdown",
   "metadata": {},
   "source": [
    "## Python\n",
    "\n",
    "* Popular high-level programming language\n",
    "\n",
    "\n",
    "* Easy-to-read\n",
    "\n",
    "\n",
    "* Extensive and mature libraries (or packages)\n",
    "\n",
    "\n",
    "* Free and open-source\n",
    "    * Accessible\n",
    "    * Can be examined, modified, and improved\n",
    "\n",
    "\n",
    "* Constantly evolving\n",
    "\n",
    "```{image} images/python-graph.png\n",
    ":width: 500px\n",
    ":align: center\n",
    "```"
   ]
  },
  {
   "cell_type": "markdown",
   "metadata": {},
   "source": [
    "## Version control\n",
    "\n",
    "### Git\n",
    "* Version control software for tracking changes to a set of files\n",
    "    \n",
    "```{image} images/git.png\n",
    ":width: 150px\n",
    ":align: center\n",
    "```\n",
    "\n",
    "### GitHub\n",
    "* A cloud-based Git repository hosting service\n",
    "\n",
    "\n",
    "* Makes it easier to coordinate work among programmers collaboratively developing source code during software development\n",
    "\n",
    "\n",
    "\n",
    "```{image} images/github.png\n",
    ":width: 100px\n",
    ":align: center\n",
    "```\n",
    "\n",
    "* Python and projects that use Python (e.g. `matplotlib`) are all maintained and developed by a community of scientists and programmers on GitHub\n",
    "\n",
    "\n",
    "* An active, up-to-date GitHub profile, with contributions to open-source project is a great way to provide evidence of skills  "
   ]
  },
  {
   "cell_type": "markdown",
   "metadata": {},
   "source": [
    "## Course schedule\n",
    "\n",
    "### Lectures\n",
    "\n",
    "* Tuesday @ 9am\n",
    "\n",
    "    * Nine lectures\n",
    "    \n",
    "    * Project presentations in Week 10\n",
    "\n",
    "### Labs\n",
    "\n",
    "* Wednesday @ 9am in MCK 445\n",
    "\n",
    "    * Seven lab assignments\n",
    "    \n",
    "    * Two labs to concentrate on final project\n",
    "\n",
    "    * No lab in Week 10\n",
    "\n",
    "### Activities/project work\n",
    "\n",
    "* Thursday @ 9am\n",
    "\n",
    "    * Three activities\n",
    "    \n",
    "    * One lecture about previous class projects\n",
    "    \n",
    "    * Five sessions for project work\n",
    "    \n",
    "    * Project presentations in Week 10\n",
    "    \n",
    "```{image} images/schedule.png\n",
    ":width: 600px\n",
    ":align: center\n",
    "```"
   ]
  },
  {
   "cell_type": "markdown",
   "metadata": {},
   "source": [
    "## Course evaluation\n",
    "\n",
    "* Lab assignments (**45%**) due every **Wednesday 11:59 pm**\n",
    "\n",
    "\n",
    "* Final project (**45%**) \n",
    "    * Presentations due May 31, 11:59 pm\n",
    "    * Write-ups due June 6, 11:59pm\n",
    "\n",
    "\n",
    "* Participation (**10%**)\n",
    "    * Credit can be earned through attendance in lectures, visiting Professor and GE during office hours, and helping other students in labs. "
   ]
  },
  {
   "cell_type": "markdown",
   "metadata": {},
   "source": [
    "## Final project\n",
    "\n",
    "* An opportunity to explore a particular topic of interest using some of the skills developed in this course\n",
    "\n",
    "\n",
    "* Students can work independently or in groups of two or three\n",
    "\n",
    "\n",
    "* Sharing of project ideas is encouraged so we can form teams"
   ]
  },
  {
   "cell_type": "markdown",
   "metadata": {},
   "source": [
    "## Final project schedule\n",
    "\n",
    "* **Week 5**: Discuss project ideas with peers and instructors, submit a short summary of a project idea via Canvas\n",
    "\n",
    "\n",
    "* **Week 6**: Form teams, create GitHub repo, and provide some basic info about project as a [README.md](https://docs.github.com/en/repositories/managing-your-repositorys-settings-and-features/customizing-your-repository/about-readmes)\n",
    "\n",
    "\n",
    "* **Week 8**: Provide informal update to instructors, ensure data has been accessed, goals are accomplishable\n",
    "\n",
    "\n",
    "* **Week 10**: Present project to class and submit write-up by the end of the week"
   ]
  },
  {
   "cell_type": "markdown",
   "metadata": {},
   "source": [
    "## Some course themes\n",
    "\n",
    "### Everything is open-source\n",
    "   * All software we use is freely available\n",
    "   \n",
    "   \n",
    "   * Labs can be completed anytime, anywhere from any OS\n",
    "   \n",
    "   \n",
    "   * Course materials are publicly-available on the internet \n",
    "    \n",
    "```{image} images/os.png\n",
    ":width: 600px\n",
    ":align: center\n",
    "```"
   ]
  },
  {
   "cell_type": "markdown",
   "metadata": {},
   "source": [
    "### Promote collaboration and communication\n",
    "\n",
    "* With instructors and peers\n",
    "\n",
    "\n",
    "* On GitHub\n",
    "\n",
    "```{image} images/collab.png\n",
    ":width: 600px\n",
    ":align: center\n",
    "```"
   ]
  },
  {
   "cell_type": "markdown",
   "metadata": {},
   "source": [
    "### Learn about environmental challenges in the Western US\n",
    "\n",
    "\n",
    "* Urban planning\n",
    "\n",
    "\n",
    "* Hazards (e.g. wildfires, flooding)\n",
    "\n",
    "\n",
    "* Energy\n",
    "\n",
    "\n",
    "* Climate, hydrology, glaciology\n",
    "\n",
    "```{image} images/environment.png\n",
    ":width: 1000px\n",
    ":align: center\n",
    "```"
   ]
  },
  {
   "cell_type": "markdown",
   "metadata": {},
   "source": [
    "## Tips for success\n",
    "\n",
    "* Don’t try and write perfect code - if it works, it works\n",
    "\n",
    "\n",
    "* It's not always necessary to write code, adapting code is quite normal\n",
    "\n",
    "\n",
    "* Make use of stackoverflow\n",
    "\n",
    "\n",
    "* Don't be afraid to ask (peers or instructors)\n",
    "\n",
    "```{image} images/stack.png\n",
    ":width: 400px\n",
    ":align: center\n",
    "```"
   ]
  },
  {
   "cell_type": "markdown",
   "metadata": {},
   "source": [
    "* Take responsibility for learning\n",
    "\n",
    "\n",
    "* Organize your files\n",
    "\n",
    "\n",
    "* Check Canvas regularly\n",
    "\n",
    "\n",
    "* Maintain your GitHub profile and repository\n",
    "\n",
    "```{image} images/horse.png\n",
    ":width: 400px\n",
    ":align: center\n",
    "```"
   ]
  },
  {
   "cell_type": "markdown",
   "metadata": {},
   "source": [
    "```{image} images/doing.png\n",
    ":width: 600px\n",
    ":align: center\n",
    "```"
   ]
  },
  {
   "cell_type": "markdown",
   "metadata": {},
   "source": [
    "## Learning outcomes\n",
    "\n",
    "* Have confidence using Python specifically for GIS and other geospatial data science applications. In doing so, you will also be comfortable using Python for other things as well\n",
    "\n",
    "\n",
    "* Be able to download, process, analyze, and visualize the main types of geospatial data\n",
    "\n",
    "\n",
    "* Automate boring GIS tasks (no more clicking!)"
   ]
  },
  {
   "cell_type": "markdown",
   "metadata": {},
   "source": [
    "* Improve programming skills\n",
    "\n",
    "\n",
    "* Learn how think computationally and statistically\n",
    "\n",
    "\n",
    "* Solve real-world problems using spatial analysis\n",
    "\n",
    "\n",
    "* Run basic machine learning models\n",
    "\n",
    "\n",
    "* Manage a data science project using version control\n",
    "\n",
    "\n",
    "* Collaboratively develop a data science project\n",
    "\n",
    "\n",
    "* Communicate results of data science project orally and as a short write-up"
   ]
  },
  {
   "cell_type": "markdown",
   "metadata": {},
   "source": [
    "## Careers\n",
    "\n",
    "```{image} images/jobs.png\n",
    ":width: 800px\n",
    ":align: center\n",
    "```"
   ]
  },
  {
   "cell_type": "code",
   "execution_count": null,
   "metadata": {},
   "outputs": [],
   "source": []
  }
 ],
 "metadata": {
  "kernelspec": {
   "display_name": "Python 3 (ipykernel)",
   "language": "python",
   "name": "python3"
  },
  "language_info": {
   "codemirror_mode": {
    "name": "ipython",
    "version": 3
   },
   "file_extension": ".py",
   "mimetype": "text/x-python",
   "name": "python",
   "nbconvert_exporter": "python",
   "pygments_lexer": "ipython3",
   "version": "3.8.12"
  },
  "vscode": {
   "interpreter": {
    "hash": "916dbcbb3f70747c44a77c7bcd40155683ae19c65e1c03b4aa3499c5328201f1"
   }
  }
 },
 "nbformat": 4,
 "nbformat_minor": 4
}
