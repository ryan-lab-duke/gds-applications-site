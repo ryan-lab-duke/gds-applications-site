{
 "cells": [
  {
   "cell_type": "markdown",
   "id": "6450b5fc",
   "metadata": {},
   "source": [
    "# Instructions for submitting assignments\n",
    "\n",
    "**Objectives:**\n",
    "   * Write a Python script in <code>spyder</code>\n",
    "   * Add the script to your answers notebook along with some text and an image\n",
    "   * Submit answers notebook in <code>.ipynb</code> format using GitHub\n",
    "   * Submit answers notebook in <code>.pdf</code> format via Canvas"
   ]
  },
  {
   "cell_type": "markdown",
   "id": "9cac744a",
   "metadata": {},
   "source": [
    "## Write a short script using Spyder\n",
    "\n",
    "So now that we have things up-and-running, we can start writing short scripts. Click on the cell below and click **Run** from the menu above. "
   ]
  },
  {
   "cell_type": "code",
   "execution_count": 3,
   "id": "5e1a73b5",
   "metadata": {},
   "outputs": [
    {
     "name": "stdout",
     "output_type": "stream",
     "text": [
      "6\n"
     ]
    }
   ],
   "source": [
    "import numpy as np\n",
    "a = 3\n",
    "b = 2\n",
    "c = np.multiply(a, b)\n",
    "print(c)"
   ]
  },
  {
   "cell_type": "markdown",
   "id": "763a0850",
   "metadata": {},
   "source": [
    "Running code interactively in these notebooks will be the main way of demonstrating different concepts in this course. But sometimes it is easier to write and edit code in an IDE (integrated development environment) such as <code>spyder</code> which was installed when we created the **lab1** environment.  \n",
    "\n",
    "Linux and Mac users can open the IDE by typing <code>spyder</code> in a terminal. \n",
    "\n",
    "Windows users can either launch a new **CMD.exe Prompt** from the **Anaconda Navigator** dashboard and type <code>spyder</code>. Or launch it straight from **Anaconda Navigator** dashboard. Just make sure **Applications on** is set to the **lab1** environment. \n",
    "\n",
    "Those who are familar with <code>spyder</code> can go ahead and copy and paste the code above into the **code editor** and execute it in the **IPython console**. Those who are not familiar can watch [this video](https://www.youtube.com/watch?v=WV9bm4ey7Cg&ab_channel=SpyderIDE) for instructions. \n",
    "\n",
    "Once we have run the code successfully, save this Python script as a <code>.py</code> file in the lab1 folder (i.e. <code>/geospatial-data-science/labs/lab1/</code>)."
   ]
  },
  {
   "cell_type": "markdown",
   "id": "0019cbae",
   "metadata": {},
   "source": [
    "### Make an answers document using Jupyter Notebook\n",
    "\n",
    "We will submit the weekly assignments as Jupyter Notebooks (<code>.ipynb</code> format) on GitHub **and** as <code>.pdf</code> documents on Canvas. Keeping the course somewhat connected to Canvas will be useful for organizing and grading. But having a version submitted as a Jupyter Notebook will allow the instructors to test and provide feedback on your code. **Take your time** going through these instructions as the steps outlined here will be the standard way of submitting assignments for the rest of term.\n",
    "\n",
    "To make a Jupyter Notebook answers document, type <code>jupyter notebook</code> in the terminal then click **New** from the menu on the upper-right and select **Python 3 (ipykernel)**. Rename this notebook as <code>labX_submission.ipynb</code> where *X* corresponds to the lab number.\n",
    "\n",
    "Jupyter Notebooks consist of a linear sequence of cells which include:\n",
    "\n",
    "* **Code cells**: for Python code that is run in the kernel\n",
    "* **Markdown cells**: for text, images, and equations\n",
    "\n",
    "A full guide on how to format these cells can be found [here](https://jupyter-notebook.readthedocs.io/en/stable/examples/Notebook/examples_index.html)."
   ]
  },
  {
   "cell_type": "markdown",
   "id": "ac7f6eeb",
   "metadata": {},
   "source": [
    "### Task 1 (10 points):\n",
    "Edit the short script above slightly and copy and paste it to the new answers notebook. Run the cell one last time to make sure your code has no errors. \n",
    "\n",
    "*********\n",
    "\n",
    "### Task 2 (30 points):\n",
    "In the cell below your code, add an image from Google images of somewhere inspiring along with a short caption that includes **bold**, *italics* and a link to the webpage that displays this image. Use the following as a guide: https://www.markdownguide.org/basic-syntax/. Remember the image should be saved in the same folder as your answers notebook (i.e. <code>/geospatial-data-science/labs/lab1/</code>).\n",
    "\n",
    "Once you have done this, save and close your answers notebook.\n",
    "\n",
    "*********\n",
    "\n",
    "### Task 3 (10 points):\n",
    "\n",
    "Send me a direct message on **Slack** with a link to your GitHub profile page. \n"
   ]
  },
  {
   "cell_type": "markdown",
   "id": "5213224b",
   "metadata": {},
   "source": [
    "### Option 1: Submit answers document to GitHub (command line)\n",
    "\n",
    "We are now ready to submit our answers document (and our script) via GitHub. To do this in **command line**, we first check to see which files were added/edited.\n",
    "\n",
    "<code>git status</code>\n",
    "\n",
    "Which should show that there are two new files (one <code>.ipynb</code> file and one <code>.py</code> file). We want to add the notebook to the staging environment which we do using the <code>git add</code> command. \n",
    "\n",
    "<code>git add labX_submission.ipynb</code>\n",
    "\n",
    "You can also add the image from Task 2 (e.g. <code>git add image.jpg</code>)\n",
    "\n",
    "Now if you rerun the <code>git status</code>, you'll see that git has added both files to the staging environment (notice the \"Changes to be committed\" line). \n",
    "\n",
    "**NB: only push your answer notebooks (and other relevant files) to your GitHub repository**\n",
    "\n",
    "If you make changes to the *assignment notebooks*, command line users can run <code>git checkout filename.ipynb</code> to discard unstaged changes to the file. If the changes were accidently staged, run <code>git reset</code>. \n",
    "\n",
    "Next we will commit these new/edited files by running:\n",
    "\n",
    "<code>git commit -m \"uploaded first assignment\"</code>\n",
    "\n",
    "The message at the end of the commit should be something related to what the commit contains - could be a new feature, a bug fix, or just fixing a typo. \n",
    "\n",
    "Finally, we can send these file to our GitHub repository by typing:\n",
    "\n",
    "<code>git push</code>\n",
    "\n",
    "At this stage, git will probably ask for your username and email which you can configure using:\n",
    "\n",
    "<code>git config --global user.name \"your name\"</code>\\\n",
    "<code>git config --global user.email \"your_email@uoregon.edu\"</code>\n",
    "\n",
    "In addition, GitHub no longer supports username/password authentication from the command line so users must switch to \"personal access tokens\" which can be configured using the following instructions [here](https://docs.github.com/en/authentication/keeping-your-account-and-data-secure/creating-a-personal-access-token) or [here](https://swcarpentry.github.io/git-novice/07-github/index.html#ssh-background-and-setup)."
   ]
  },
  {
   "cell_type": "markdown",
   "id": "6d5b8ec1",
   "metadata": {},
   "source": [
    "### Option 2: Submit answers document to GitHub (GitHub Desktop)\n",
    "\n",
    "To upload the files to GitHub using **GitHub Desktop**, simply click **Commit to master** in the lower left pane and then **Push to origin**. \n",
    "\n",
    "Again, only push your answers notebooks (and any other new files such as images) to your GitHub repository. If you made changes to the assignment notebooks you can discard these changes by right-clicking on the file in GitHub Desktop and selecting **Discard changes** before clicking **Commit to master**.\n",
    "\n",
    "************\n",
    "\n",
    "Both command line and GitHub Desktop users can now go back to their online repository (<code>https://github.com/your_username/geospatial_data_science</code>) to see their first assignment files uploaded. \n",
    "***********\n",
    "\n",
    "Note that we will cover `git` and `GitHub` in more detail in Week 6. If you'd like to learn more about version control in the meantime there are some great online resources:\n",
    "* https://swcarpentry.github.io/git-novice/\n",
    "* https://www.earthdatascience.org/courses/intro-to-earth-data-science/git-github/\n",
    "* https://towardsdatascience.com/getting-started-with-git-and-github-6fcd0f2d4ac6 (note that you can read *towardsdatascience.com* without signing up if you open them in incognito mode)"
   ]
  },
  {
   "cell_type": "markdown",
   "id": "ef4cfb95",
   "metadata": {},
   "source": [
    "### Submit answers document as pdf\n",
    "\n",
    "To submit your assignment on Canvas, copy and paste your code (and any written answers to questions) to a **Word Document** and export it as a <code>.pdf</code>. Name this file <code>labX_submission.pdf</code> (where *X* corresponds to the lab number) and submit via Canvas."
   ]
  },
  {
   "cell_type": "code",
   "execution_count": null,
   "id": "a5d7eea9",
   "metadata": {},
   "outputs": [],
   "source": []
  }
 ],
 "metadata": {
  "kernelspec": {
   "display_name": "Python 3 (ipykernel)",
   "language": "python",
   "name": "python3"
  },
  "language_info": {
   "codemirror_mode": {
    "name": "ipython",
    "version": 3
   },
   "file_extension": ".py",
   "mimetype": "text/x-python",
   "name": "python",
   "nbconvert_exporter": "python",
   "pygments_lexer": "ipython3",
   "version": "3.8.12"
  }
 },
 "nbformat": 4,
 "nbformat_minor": 5
}
