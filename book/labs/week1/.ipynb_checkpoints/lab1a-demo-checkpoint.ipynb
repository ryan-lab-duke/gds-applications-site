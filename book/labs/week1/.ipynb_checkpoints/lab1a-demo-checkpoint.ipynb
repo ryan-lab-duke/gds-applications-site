{
 "cells": [
  {
   "cell_type": "markdown",
   "id": "fde9a8c9",
   "metadata": {},
   "source": [
    "# Getting started with Python and GitHub\n",
    "\n",
    "**Objectives:**\n",
    "   * Sign-up for a **GitHub** account\n",
    "   * Fork the course repository to access the materials\n",
    "   * Install a **Python** distribution using **Anaconda**\n",
    "   * Make a new Python **environment** using <code>conda</code>\n",
    "   * View the first assignment as a <code>jupyter notebook</code>"
   ]
  },
  {
   "cell_type": "markdown",
   "id": "028f9a82",
   "metadata": {},
   "source": [
    "## Join the slack channel\n",
    "\n",
    "Students should have received an email (via Canvas) for an invite to the course Slack workspace.\n",
    "\n",
    "If you’re confused or uncertain about something in the lab, please ask or post a question/comment on the relevant Slack channel for the lab (e.g., #lab01). "
   ]
  },
  {
   "cell_type": "markdown",
   "id": "4fdbd615",
   "metadata": {},
   "source": [
    "### Complete background survey\n",
    "\n",
    "If you haven't already, please complete the background survey which can be found on the course Canvas page."
   ]
  },
  {
   "cell_type": "markdown",
   "id": "dd040724",
   "metadata": {},
   "source": [
    "### Sign-up for a GitHub account and fork the course repository\n",
    "\n",
    "If you already have a GitHub account, you can skip this step. If not, create a new GitHub account using your <code>@uoregon.edu</code> email address [here](https://github.com/signup?ref_cta=Sign+up&ref_loc=header+logged+out&ref_page=%2F&source=header-home). We recommend that you apply for the free \"edu\" account upgrade (https://education.github.com/discount_requests/new) which will allow you to create unlimited number of private repos with unlimited collaborators.\n",
    "\n",
    "Once signed in to GitHub.com browse to <code>https://github.com/JohnnyRyan1/geospatial-data-science</code> and click **Fork** from the upper-right menu. This copies all the course materials to your GitHub account and allows you to upload assignments without affecting the original repository."
   ]
  },
  {
   "cell_type": "markdown",
   "id": "5a0384cf",
   "metadata": {},
   "source": [
    "### Install <code>git</code> and clone the course repository\n",
    "\n",
    "In this course we will use `git` to upload assignments, share code, and collaborate on class projects. Linux and Mac users can install <code>git</code> as a command line tool following [these instructions](https://git-scm.com/book/en/v2/Getting-Started-Installing-Git). I recommend that Windows users (and Mac users who prefer a graphical user interface) install [GitHub Desktop](https://desktop.github.com/). \n",
    "\n",
    "Once <code>git</code> is installed, we can clone the course repository from the command line by running:\n",
    "\n",
    "`git clone https://github.com/<your-username>/geospatial_data_science`\n",
    "\n",
    "Where ```<your-username>``` is your GitHub username. *Note that you should navigate to your coursework folder before running this command*\n",
    "\n",
    "In GitHub Desktop, click **Clone a repository from the Internet**, enter `https://github.com/<your-username>/geospatial_data_science` as the **URL**, choose a **local path** where you keep your coursework (e.g. `C:\\Users\\your_name\\Documents`) and click **Clone**."
   ]
  },
  {
   "cell_type": "markdown",
   "id": "b1864606",
   "metadata": {},
   "source": [
    "###  Install Anaconda\n",
    "\n",
    "In order to execute Python code in the notebooks, we will need to install a Python distribution with the necessary packages. Ananconda is already installed on the SSIL lab computers but we can also get it on a laptop from this website [Anaconda Individual Edition](https://www.anaconda.com/products/individual)."
   ]
  },
  {
   "cell_type": "markdown",
   "id": "7aff929d",
   "metadata": {},
   "source": [
    "###  Make a new environment\n",
    "\n",
    "Once Anaconda is installed, we will create an environment which contains all the packages required to run the code in each lab. We will find this environment file (e.g. <code>environment.yml</code>) in each lab folder of the cloned repository. \n",
    "\n",
    "*********\n",
    "\n",
    "For Linux and Mac users, we can create the environment for **Lab 1** by navigating to the **labs/lab1** folder in the cloned repository using the terminal and running the following:\n",
    "\n",
    "<code>conda env create -f environment.yml</code>\n",
    "\n",
    "This will create a new environment called **lab1**. To activate this environment, type:\n",
    "\n",
    "<code>conda activate lab1</code>\n",
    "\n",
    "To deactivate this environment, type:\n",
    "\n",
    "<code>conda deactivate</code>\n",
    "\n",
    "*************\n",
    "\n",
    "For Windows users, open **Anaconda Navigator**, launch a **CMD.exe Prompt**, navigate to **labs/lab1** folder in cloned repository, and run the following:\n",
    "\n",
    "<code>conda env create -f environment.yml</code>\n",
    "\n",
    "To activate this environment, type:\n",
    "\n",
    "<code>conda activate lab1</code>\n",
    "\n",
    "To deactivate this environment, type:\n",
    "\n",
    "<code>conda deactivate</code>\n",
    "\n",
    "More information about managing environments can be found here: https://docs.conda.io/projects/conda/en/latest/user-guide/tasks/manage-environments.html"
   ]
  },
  {
   "cell_type": "markdown",
   "id": "bef19098",
   "metadata": {},
   "source": [
    "### View the assignments\n",
    "\n",
    "Now that we have the required packages installed (and the lab1 environment activated), the notebooks can be viewed using the [jupyter notebook](https://jupyter-notebook.readthedocs.io/en/stable/notebook.html) application. Navigate to the <code>/geospatial-data-science/labs/lab1/</code> and open the first assignment by running:\n",
    "\n",
    "<code>jupyter notebook 01b_submitting_assignments.ipynb</code>\n",
    "\n",
    "Windows users should be able to do this from the **CMD.exe Prompt** or by clicking the `jupyter notebook` icon in **Anaconda Navigator**, navigate to the repository and open the lab1 notebook.\n",
    "\n",
    "*Note that if you browse directly to the notebooks on GitHub, they might not display as intended.*"
   ]
  },
  {
   "cell_type": "code",
   "execution_count": null,
   "id": "06c3f96d",
   "metadata": {},
   "outputs": [],
   "source": []
  }
 ],
 "metadata": {
  "kernelspec": {
   "display_name": "Python 3 (ipykernel)",
   "language": "python",
   "name": "python3"
  },
  "language_info": {
   "codemirror_mode": {
    "name": "ipython",
    "version": 3
   },
   "file_extension": ".py",
   "mimetype": "text/x-python",
   "name": "python",
   "nbconvert_exporter": "python",
   "pygments_lexer": "ipython3",
   "version": "3.8.12"
  }
 },
 "nbformat": 4,
 "nbformat_minor": 5
}
