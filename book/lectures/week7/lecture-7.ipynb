{
 "cells": [
  {
   "cell_type": "markdown",
   "id": "64f1098a",
   "metadata": {
    "slideshow": {
     "slide_type": "skip"
    }
   },
   "source": [
    "# Data access\n",
    "\n",
    "Finding, downloading, and cleaning data is an important, but laborious, part of geospatial data science. In this demo, we will download data programmatically using Application Programming Interfaces (APIs). We will also talk about strategies for downloading data when an API is unavailable or insufficient."
   ]
  },
  {
   "cell_type": "markdown",
   "id": "342f1c02",
   "metadata": {
    "slideshow": {
     "slide_type": "slide"
    }
   },
   "source": [
    "## APIs\n",
    "\n",
    "So far in this course we have mainly been using data that has been downloaded **locally** from point-and-click GUIs. But it is becoming more and more common to access data programmatically from an online server. These platforms often have a **public API** that we can use to pull data inside our Python environment. \n",
    "\n",
    "An API is a type of **software** that provides a **standard set of protocols/functions** so that our computer can **communicate** with other computers (in contrast, a **user interface** is a type of software that connects a **computer** to a **person**)\n",
    "\n",
    "The basic idea is we send a **request** (which may include query parameters and access credentials) to an endpoint. That endpoint will return a **response** code plus the data we asked for. For these kind of tasks, we have to carefully inspect the API **documentation** to understand what functions are available and what keyword arguments they require.\n",
    "\n",
    "Many organizations have great APIs because they want people to use their data."
   ]
  },
  {
   "cell_type": "markdown",
   "id": "c1f6a26e",
   "metadata": {
    "slideshow": {
     "slide_type": "subslide"
    }
   },
   "source": [
    "## Census Bureau\n",
    "\n",
    "The US Census Bureau has a great API that makes demographic, socio-economic and housing statistics more accessible than ever before. \n",
    "\n",
    "Developers use customize these statistics to create apps that:\n",
    "\n",
    "* Provide a local government a range of socioeconomic statistics on its population.\n",
    "\n",
    "* Show commuting patterns for every city in America.\n",
    "\n",
    "* Display the latest numbers on owners and renters in a neighborhood someone may want to live in.\n",
    "\n",
    "Many students will use Census Bureau data in their final projects. "
   ]
  },
  {
   "cell_type": "markdown",
   "id": "93aa0c27",
   "metadata": {
    "slideshow": {
     "slide_type": "fragment"
    }
   },
   "source": [
    "## `census`\n",
    "\n",
    "`census` is an interface to explore and query the US Census API in **Python**. It conveniently returns the data in **`Pandas` Dataframes** for further analysis. \n",
    "\n",
    "We know `census` is legitimate because it has an **active GitHub repository**. \n",
    "\n",
    "```{image} images/census-github.png\n",
    ":width: 1000px\n",
    ":align: center\n",
    "```\n",
    "\n",
    "More information about this package can be found [here](https://github.com/datamade/census).\n",
    "\n",
    "First we should find how to install it, usually either through `conda` or `pip`. \n",
    "\n",
    "```{image} images/census-install.png\n",
    ":width: 800px\n",
    ":align: center\n",
    "```"
   ]
  },
  {
   "cell_type": "code",
   "execution_count": 1,
   "id": "d6789649",
   "metadata": {},
   "outputs": [],
   "source": [
    "# Import package\n",
    "from census import Census"
   ]
  },
  {
   "cell_type": "markdown",
   "id": "2bfffbe6",
   "metadata": {},
   "source": [
    "Then search the documentation for examples...\n",
    "\n",
    "```{image} images/census-examples.png\n",
    ":width: 1000px\n",
    ":align: center\n",
    "```"
   ]
  },
  {
   "cell_type": "code",
   "execution_count": 3,
   "id": "92f7d1c0",
   "metadata": {},
   "outputs": [
    {
     "data": {
      "text/plain": [
       "[{'NAME': 'Oregon', 'B25034_010E': 92807.0, 'state': '41'}]"
      ]
     },
     "execution_count": 3,
     "metadata": {},
     "output_type": "execute_result"
    }
   ],
   "source": [
    "c = Census(\"5f7e25f1ce5f52828e64cc4e5ff5f470759b4e03\")\n",
    "c.acs5.state(('NAME', 'B25034_010E'), '41')"
   ]
  },
  {
   "cell_type": "markdown",
   "id": "eb2c1286",
   "metadata": {},
   "source": [
    "```{image} images/more-examples.png\n",
    ":width: 1000px\n",
    ":align: center\n",
    "```"
   ]
  },
  {
   "cell_type": "markdown",
   "id": "8003fca7",
   "metadata": {},
   "source": [
    "## USGS hydrologic data\n",
    "\n",
    "Let's have a look at another API called [`dataretrieval`](https://github.com/DOI-USGS/dataretrieval-python) which was developed by USGS to retrieve hydrologic data.\n",
    "\n",
    "```{image} images/usgs-github.png\n",
    ":width: 1000px\n",
    ":align: center\n",
    "```\n",
    "\n",
    "Again, the documentation makes it clear that we should install it using either `conda` or `pip`. \n",
    "\n",
    "```{image} images/usgs-install.png\n",
    ":width: 800px\n",
    ":align: center\n",
    "```"
   ]
  },
  {
   "cell_type": "code",
   "execution_count": 4,
   "id": "a651a3b1",
   "metadata": {
    "slideshow": {
     "slide_type": "subslide"
    }
   },
   "outputs": [],
   "source": [
    "%%capture\n",
    "# Install package\n",
    "!pip install -U dataretrieval"
   ]
  },
  {
   "cell_type": "markdown",
   "id": "46984d73",
   "metadata": {},
   "source": [
    "Now we can look through the documentation to see if the examples function as expected.\n",
    "\n",
    "```{image} images/usgs.png\n",
    ":width: 1000px\n",
    ":align: center\n",
    "```"
   ]
  },
  {
   "cell_type": "code",
   "execution_count": 5,
   "id": "763f3c4e",
   "metadata": {
    "slideshow": {
     "slide_type": "subslide"
    }
   },
   "outputs": [
    {
     "data": {
      "text/html": [
       "<div>\n",
       "<style scoped>\n",
       "    .dataframe tbody tr th:only-of-type {\n",
       "        vertical-align: middle;\n",
       "    }\n",
       "\n",
       "    .dataframe tbody tr th {\n",
       "        vertical-align: top;\n",
       "    }\n",
       "\n",
       "    .dataframe thead th {\n",
       "        text-align: right;\n",
       "    }\n",
       "</style>\n",
       "<table border=\"1\" class=\"dataframe\">\n",
       "  <thead>\n",
       "    <tr style=\"text-align: right;\">\n",
       "      <th></th>\n",
       "      <th>site_no</th>\n",
       "      <th>00010_ysi_Mean</th>\n",
       "      <th>00010_ysi_Mean_cd</th>\n",
       "      <th>00060_Mean</th>\n",
       "      <th>00060_Mean_cd</th>\n",
       "      <th>00065_Mean</th>\n",
       "      <th>00065_Mean_cd</th>\n",
       "      <th>00095_Mean</th>\n",
       "      <th>00095_Mean_cd</th>\n",
       "      <th>00300_Minimum</th>\n",
       "      <th>...</th>\n",
       "      <th>63680_ysi_Mean</th>\n",
       "      <th>63680_ysi_Mean_cd</th>\n",
       "      <th>91049_Mean</th>\n",
       "      <th>91049_Mean_cd</th>\n",
       "      <th>99133_Maximum</th>\n",
       "      <th>99133_Maximum_cd</th>\n",
       "      <th>99133_Minimum</th>\n",
       "      <th>99133_Minimum_cd</th>\n",
       "      <th>99133_Mean</th>\n",
       "      <th>99133_Mean_cd</th>\n",
       "    </tr>\n",
       "    <tr>\n",
       "      <th>datetime</th>\n",
       "      <th></th>\n",
       "      <th></th>\n",
       "      <th></th>\n",
       "      <th></th>\n",
       "      <th></th>\n",
       "      <th></th>\n",
       "      <th></th>\n",
       "      <th></th>\n",
       "      <th></th>\n",
       "      <th></th>\n",
       "      <th></th>\n",
       "      <th></th>\n",
       "      <th></th>\n",
       "      <th></th>\n",
       "      <th></th>\n",
       "      <th></th>\n",
       "      <th></th>\n",
       "      <th></th>\n",
       "      <th></th>\n",
       "      <th></th>\n",
       "      <th></th>\n",
       "    </tr>\n",
       "  </thead>\n",
       "  <tbody>\n",
       "    <tr>\n",
       "      <th>2020-10-01 00:00:00+00:00</th>\n",
       "      <td>03339000</td>\n",
       "      <td>14.9</td>\n",
       "      <td>A</td>\n",
       "      <td>75.7</td>\n",
       "      <td>A</td>\n",
       "      <td>2.04</td>\n",
       "      <td>A</td>\n",
       "      <td>672.0</td>\n",
       "      <td>A</td>\n",
       "      <td>8.9</td>\n",
       "      <td>...</td>\n",
       "      <td>3.7</td>\n",
       "      <td>A</td>\n",
       "      <td>NaN</td>\n",
       "      <td>NaN</td>\n",
       "      <td>4.1</td>\n",
       "      <td>A</td>\n",
       "      <td>3.3</td>\n",
       "      <td>A</td>\n",
       "      <td>3.7</td>\n",
       "      <td>A</td>\n",
       "    </tr>\n",
       "    <tr>\n",
       "      <th>2020-10-02 00:00:00+00:00</th>\n",
       "      <td>03339000</td>\n",
       "      <td>14.5</td>\n",
       "      <td>A</td>\n",
       "      <td>66.0</td>\n",
       "      <td>A</td>\n",
       "      <td>1.99</td>\n",
       "      <td>A</td>\n",
       "      <td>678.0</td>\n",
       "      <td>A</td>\n",
       "      <td>9.2</td>\n",
       "      <td>...</td>\n",
       "      <td>3.6</td>\n",
       "      <td>A</td>\n",
       "      <td>NaN</td>\n",
       "      <td>NaN</td>\n",
       "      <td>4.2</td>\n",
       "      <td>A</td>\n",
       "      <td>3.8</td>\n",
       "      <td>A</td>\n",
       "      <td>4.1</td>\n",
       "      <td>A</td>\n",
       "    </tr>\n",
       "    <tr>\n",
       "      <th>2020-10-03 00:00:00+00:00</th>\n",
       "      <td>03339000</td>\n",
       "      <td>14.2</td>\n",
       "      <td>A</td>\n",
       "      <td>60.2</td>\n",
       "      <td>A</td>\n",
       "      <td>1.96</td>\n",
       "      <td>A</td>\n",
       "      <td>678.0</td>\n",
       "      <td>A</td>\n",
       "      <td>9.4</td>\n",
       "      <td>...</td>\n",
       "      <td>3.2</td>\n",
       "      <td>A</td>\n",
       "      <td>NaN</td>\n",
       "      <td>NaN</td>\n",
       "      <td>3.8</td>\n",
       "      <td>A</td>\n",
       "      <td>3.0</td>\n",
       "      <td>A</td>\n",
       "      <td>3.4</td>\n",
       "      <td>A</td>\n",
       "    </tr>\n",
       "    <tr>\n",
       "      <th>2020-10-04 00:00:00+00:00</th>\n",
       "      <td>03339000</td>\n",
       "      <td>14.4</td>\n",
       "      <td>A</td>\n",
       "      <td>68.8</td>\n",
       "      <td>A</td>\n",
       "      <td>2.01</td>\n",
       "      <td>A</td>\n",
       "      <td>705.0</td>\n",
       "      <td>A</td>\n",
       "      <td>9.1</td>\n",
       "      <td>...</td>\n",
       "      <td>3.3</td>\n",
       "      <td>A</td>\n",
       "      <td>NaN</td>\n",
       "      <td>NaN</td>\n",
       "      <td>3.0</td>\n",
       "      <td>A</td>\n",
       "      <td>2.6</td>\n",
       "      <td>A</td>\n",
       "      <td>2.8</td>\n",
       "      <td>A</td>\n",
       "    </tr>\n",
       "    <tr>\n",
       "      <th>2020-10-05 00:00:00+00:00</th>\n",
       "      <td>03339000</td>\n",
       "      <td>13.4</td>\n",
       "      <td>A</td>\n",
       "      <td>66.8</td>\n",
       "      <td>A</td>\n",
       "      <td>1.99</td>\n",
       "      <td>A</td>\n",
       "      <td>718.0</td>\n",
       "      <td>A</td>\n",
       "      <td>9.6</td>\n",
       "      <td>...</td>\n",
       "      <td>3.1</td>\n",
       "      <td>A</td>\n",
       "      <td>NaN</td>\n",
       "      <td>NaN</td>\n",
       "      <td>3.4</td>\n",
       "      <td>A</td>\n",
       "      <td>2.7</td>\n",
       "      <td>A</td>\n",
       "      <td>3.0</td>\n",
       "      <td>A</td>\n",
       "    </tr>\n",
       "  </tbody>\n",
       "</table>\n",
       "<p>5 rows × 59 columns</p>\n",
       "</div>"
      ],
      "text/plain": [
       "                            site_no  00010_ysi_Mean 00010_ysi_Mean_cd  \\\n",
       "datetime                                                                \n",
       "2020-10-01 00:00:00+00:00  03339000            14.9                 A   \n",
       "2020-10-02 00:00:00+00:00  03339000            14.5                 A   \n",
       "2020-10-03 00:00:00+00:00  03339000            14.2                 A   \n",
       "2020-10-04 00:00:00+00:00  03339000            14.4                 A   \n",
       "2020-10-05 00:00:00+00:00  03339000            13.4                 A   \n",
       "\n",
       "                           00060_Mean 00060_Mean_cd  00065_Mean 00065_Mean_cd  \\\n",
       "datetime                                                                        \n",
       "2020-10-01 00:00:00+00:00        75.7             A        2.04             A   \n",
       "2020-10-02 00:00:00+00:00        66.0             A        1.99             A   \n",
       "2020-10-03 00:00:00+00:00        60.2             A        1.96             A   \n",
       "2020-10-04 00:00:00+00:00        68.8             A        2.01             A   \n",
       "2020-10-05 00:00:00+00:00        66.8             A        1.99             A   \n",
       "\n",
       "                           00095_Mean 00095_Mean_cd  00300_Minimum  ...  \\\n",
       "datetime                                                            ...   \n",
       "2020-10-01 00:00:00+00:00       672.0             A            8.9  ...   \n",
       "2020-10-02 00:00:00+00:00       678.0             A            9.2  ...   \n",
       "2020-10-03 00:00:00+00:00       678.0             A            9.4  ...   \n",
       "2020-10-04 00:00:00+00:00       705.0             A            9.1  ...   \n",
       "2020-10-05 00:00:00+00:00       718.0             A            9.6  ...   \n",
       "\n",
       "                          63680_ysi_Mean  63680_ysi_Mean_cd 91049_Mean  \\\n",
       "datetime                                                                 \n",
       "2020-10-01 00:00:00+00:00            3.7                  A        NaN   \n",
       "2020-10-02 00:00:00+00:00            3.6                  A        NaN   \n",
       "2020-10-03 00:00:00+00:00            3.2                  A        NaN   \n",
       "2020-10-04 00:00:00+00:00            3.3                  A        NaN   \n",
       "2020-10-05 00:00:00+00:00            3.1                  A        NaN   \n",
       "\n",
       "                           91049_Mean_cd 99133_Maximum  99133_Maximum_cd  \\\n",
       "datetime                                                                   \n",
       "2020-10-01 00:00:00+00:00            NaN           4.1                 A   \n",
       "2020-10-02 00:00:00+00:00            NaN           4.2                 A   \n",
       "2020-10-03 00:00:00+00:00            NaN           3.8                 A   \n",
       "2020-10-04 00:00:00+00:00            NaN           3.0                 A   \n",
       "2020-10-05 00:00:00+00:00            NaN           3.4                 A   \n",
       "\n",
       "                          99133_Minimum  99133_Minimum_cd 99133_Mean  \\\n",
       "datetime                                                               \n",
       "2020-10-01 00:00:00+00:00           3.3                 A        3.7   \n",
       "2020-10-02 00:00:00+00:00           3.8                 A        4.1   \n",
       "2020-10-03 00:00:00+00:00           3.0                 A        3.4   \n",
       "2020-10-04 00:00:00+00:00           2.6                 A        2.8   \n",
       "2020-10-05 00:00:00+00:00           2.7                 A        3.0   \n",
       "\n",
       "                           99133_Mean_cd  \n",
       "datetime                                  \n",
       "2020-10-01 00:00:00+00:00              A  \n",
       "2020-10-02 00:00:00+00:00              A  \n",
       "2020-10-03 00:00:00+00:00              A  \n",
       "2020-10-04 00:00:00+00:00              A  \n",
       "2020-10-05 00:00:00+00:00              A  \n",
       "\n",
       "[5 rows x 59 columns]"
      ]
     },
     "execution_count": 5,
     "metadata": {},
     "output_type": "execute_result"
    }
   ],
   "source": [
    "# Import the functions for downloading data from NWIS\n",
    "import dataretrieval.nwis as nwis\n",
    "\n",
    "# Specify the USGS site code\n",
    "site = '03339000'\n",
    "\n",
    "# Get instantaneous values (iv)\n",
    "df = nwis.get_record(sites=site, service='dv', start='2020-10-01', end='2021-09-30')\n",
    "df.head()"
   ]
  },
  {
   "cell_type": "code",
   "execution_count": 6,
   "id": "403bc607",
   "metadata": {
    "slideshow": {
     "slide_type": "subslide"
    }
   },
   "outputs": [
    {
     "data": {
      "text/plain": [
       "[<matplotlib.lines.Line2D at 0x7fd769e592b0>]"
      ]
     },
     "execution_count": 6,
     "metadata": {},
     "output_type": "execute_result"
    },
    {
     "data": {
      "image/png": "[encoded data removed]",
      "text/plain": [
       "<Figure size 1000x400 with 1 Axes>"
      ]
     },
     "metadata": {},
     "output_type": "display_data"
    }
   ],
   "source": [
    "# Plot\n",
    "f, ax = plt.subplots(1, 1, figsize=(10,4))\n",
    "ax.plot(df['00060_Mean'])"
   ]
  },
  {
   "cell_type": "markdown",
   "id": "76fd0a76",
   "metadata": {
    "slideshow": {
     "slide_type": "subslide"
    }
   },
   "source": [
    "## Tips for APIs\n",
    "\n",
    "* Take a minute to make sure that package is used (e.g. lots of forks, stars) and up-to-date (e.g. last commit)\n",
    "\n",
    "\n",
    "* Read the `docs`, `demos`, `examples` and hope we find what we're looking for (sometimes they are not that comprehensive)\n",
    "\n",
    "\n",
    "* If you can't find what you're looking for, inspect the source code (`.py` files)"
   ]
  },
  {
   "cell_type": "markdown",
   "id": "82cfcbcb",
   "metadata": {
    "slideshow": {
     "slide_type": "slide"
    }
   },
   "source": [
    "## API limits\n",
    "\n",
    "So can we just do the same for any data that is hosted on the internet? \n",
    "\n",
    "Often APIs are not freely available or have limitations. Technology companies are known for **hoarding data** to secure market dominance. But this is a problem because, by guarding data, they are also preventing it being **used for good causes**. Without access to their data it is difficult to tell whether they are in **compliance**. \n",
    "\n",
    "Either presented with subscription-based API\n",
    "\n",
    "```{image} images/airbnb.png\n",
    ":width: 1000px\n",
    ":align: center\n",
    "```\n",
    "\n",
    "Or an API with limited functionality \n",
    "\n",
    "```{image} images/zestimate.png\n",
    ":width: 1000px\n",
    ":align: center\n",
    "```\n"
   ]
  },
  {
   "cell_type": "markdown",
   "id": "fcc43b60",
   "metadata": {
    "slideshow": {
     "slide_type": "subslide"
    }
   },
   "source": [
    "## Web scraping\n",
    "\n",
    "\n",
    "* Since web pages are usually organized in a specfic way, we can still download data from them. \n",
    "\n",
    "\n",
    "* Web scraping (also known as crawling or harvesting) is the practice of **automatically** gathering data from the internet without the use of an **API**\n",
    "\n",
    "\n",
    "* Most commonly accomplished by writing a program that **queries** a web server, **requests** data (usually in the form of HTML), and **parses** that data to extract information"
   ]
  },
  {
   "cell_type": "markdown",
   "id": "168a96f9",
   "metadata": {
    "slideshow": {
     "slide_type": "subslide"
    }
   },
   "source": [
    "```{image} images/scrape_hero.png\n",
    ":width: 1000px\n",
    ":align: center\n",
    "```"
   ]
  },
  {
   "cell_type": "markdown",
   "id": "28aa4bc1",
   "metadata": {
    "slideshow": {
     "slide_type": "slide"
    }
   },
   "source": [
    "```{image} images/inside_airbnb.png\n",
    ":width: 1000px\n",
    ":align: center\n",
    "```"
   ]
  },
  {
   "cell_type": "markdown",
   "id": "f3a52f03",
   "metadata": {
    "slideshow": {
     "slide_type": "slide"
    }
   },
   "source": [
    "## Suppose a friend wanted to do this?\n",
    "\n",
    "* `requests`: downloads files and web pages from the internet\n",
    "\n",
    "\n",
    "* `BeautifulSoup`: parses HTML, the format that web pages are written in\n",
    "\n",
    "\n",
    "* `selenium`: launches and controls a web browser. The package is able to fill in forms and simulate mouse clicks in this browser."
   ]
  },
  {
   "cell_type": "markdown",
   "id": "07ea8eee",
   "metadata": {
    "slideshow": {
     "slide_type": "slide"
    }
   },
   "source": [
    "### `requests`\n",
    "\n",
    "A lot of data on Wikipedia is contained in HTML tables which have the following syntax.\n",
    "\n",
    "\n",
    "* The table itself starts with the `<table>` tag and finishes with `</table>`\n",
    "\n",
    "\n",
    "* Table rows start with the `<tr>` tag and finish with `</tr>`\n",
    "\n",
    "\n",
    "* Table headers start with the `<th>` tag and finish with `</th>`\n",
    "\n",
    "\n",
    "* Table data start with the `<td>` tag and finish with `</td>`\n",
    "\n",
    "\n",
    "The table below, showing some of the biggest soccer clubs in the world, is an example of a simple HTML table. "
   ]
  },
  {
   "cell_type": "markdown",
   "id": "6b99e6f1",
   "metadata": {},
   "source": [
    "<table>\n",
    "  <tr>\n",
    "    <th>Team</th>\n",
    "    <th>Manager</th>\n",
    "    <th>Country</th>\n",
    "  </tr>\n",
    "  <tr>\n",
    "    <td>Real Madrid</td>\n",
    "    <td>Carlo Ancelotti</td>\n",
    "    <td>Spain</td>\n",
    "  </tr>\n",
    "  <tr>\n",
    "    <td>Bayern Munich</td>\n",
    "    <td>Julian Nagelsmann</td>\n",
    "    <td>Germany</td>\n",
    "  </tr>\n",
    "    <tr>\n",
    "    <td>Hull City</td>\n",
    "    <td>Liam Rosenior</td>\n",
    "    <td>England</td>\n",
    "  </tr>\n",
    "    <tr>\n",
    "    <td>Paris Saint-Germain</td>\n",
    "    <td>Christophe Galtier</td>\n",
    "    <td>France</td>\n",
    "  </tr>\n",
    "</table>"
   ]
  },
  {
   "cell_type": "markdown",
   "id": "2fdaaf25",
   "metadata": {},
   "source": [
    "```{image} images/html.png\n",
    ":width: 300px\n",
    ":align: center\n",
    "```"
   ]
  },
  {
   "cell_type": "code",
   "execution_count": 28,
   "id": "4bab7f39",
   "metadata": {
    "slideshow": {
     "slide_type": "fragment"
    }
   },
   "outputs": [
    {
     "data": {
      "text/plain": [
       "<Response [200]>"
      ]
     },
     "execution_count": 28,
     "metadata": {},
     "output_type": "execute_result"
    }
   ],
   "source": [
    "# Import packages\n",
    "import requests\n",
    "\n",
    "# Open a webpage\n",
    "html = requests.get('https://en.wikipedia.org/wiki/Climate_of_Oregon')\n",
    "\n",
    "# HTML\n",
    "html"
   ]
  },
  {
   "cell_type": "markdown",
   "id": "69a823b5",
   "metadata": {
    "slideshow": {
     "slide_type": "subslide"
    }
   },
   "source": [
    "```{image} images/climate_wiki.png\n",
    ":width: 1000px\n",
    ":align: center\n",
    "```"
   ]
  },
  {
   "cell_type": "markdown",
   "id": "e8f8f911",
   "metadata": {
    "slideshow": {
     "slide_type": "subslide"
    }
   },
   "source": [
    "```{image} images/more_html.png\n",
    ":width: 1000px\n",
    ":align: center\n",
    "```"
   ]
  },
  {
   "cell_type": "markdown",
   "id": "3927ea93",
   "metadata": {
    "slideshow": {
     "slide_type": "slide"
    }
   },
   "source": [
    "## BeautifulSoup4\n",
    "\n",
    "* Now we could write a program to **parse** this HTML code (i.e. split into useful blocks)... \n",
    "\n",
    "\n",
    "* ...or we could use another package called `BeautifulSoup` (also known as `bs4`) a Python library for parsing data out of HTML and XML files\n",
    "\n",
    "```{image} images/bs4.jpg\n",
    ":width: 200px\n",
    ":align: center\n",
    "```\n"
   ]
  },
  {
   "cell_type": "code",
   "execution_count": 42,
   "id": "f5ba032c",
   "metadata": {
    "slideshow": {
     "slide_type": "fragment"
    }
   },
   "outputs": [],
   "source": [
    "# Import package\n",
    "from bs4 import BeautifulSoup, SoupStrainer\n",
    "\n",
    "# Read HTML content as \"soup object\" and define default parser\n",
    "soup = BeautifulSoup(html.text, 'html.parser')"
   ]
  },
  {
   "cell_type": "markdown",
   "id": "41fa87b1",
   "metadata": {
    "slideshow": {
     "slide_type": "fragment"
    }
   },
   "source": [
    "### Parse HTML\n",
    "\n",
    "The `.find` and `.find_all` are the most common methods we will use. They can be used to filter HTML code to find a list of tags or tags with specific attributes.  "
   ]
  },
  {
   "cell_type": "code",
   "execution_count": 43,
   "id": "ee77656d",
   "metadata": {
    "slideshow": {
     "slide_type": "fragment"
    }
   },
   "outputs": [
    {
     "name": "stdout",
     "output_type": "stream",
     "text": [
      "h2 -> Contents\n",
      "h1 -> Climate of Oregon\n",
      "h2 -> Precipitation[edit]\n",
      "h2 -> Temperature[edit]\n",
      "h2 -> Selected climate charts[edit]\n",
      "h2 -> See also[edit]\n",
      "h2 -> References[edit]\n"
     ]
    }
   ],
   "source": [
    "# Define heading tags\n",
    "heading_tags = [\"h1\", \"h2\"]\n",
    "\n",
    "# Find heading tags in HTML code\n",
    "headings = soup.find_all(heading_tags)\n",
    "\n",
    "# Loop over every heading and print text\n",
    "for tags in headings:\n",
    "    print(tags.name + ' -> ' + tags.text.strip())"
   ]
  },
  {
   "cell_type": "code",
   "execution_count": 44,
   "id": "3ba9c6d8",
   "metadata": {
    "slideshow": {
     "slide_type": "subslide"
    }
   },
   "outputs": [
    {
     "name": "stdout",
     "output_type": "stream",
     "text": [
      "#bodyContent\n",
      "/wiki/Main_Page\n",
      "/wiki/Special:Search\n",
      "/w/index.php?title=Special:CreateAccount&returnto=Climate+of+Oregon\n",
      "/w/index.php?title=Special:UserLogin&returnto=Climate+of+Oregon\n",
      "/w/index.php?title=Special:CreateAccount&returnto=Climate+of+Oregon\n",
      "/w/index.php?title=Special:UserLogin&returnto=Climate+of+Oregon\n",
      "/wiki/Help:Introduction\n",
      "/wiki/Special:MyContributions\n",
      "/wiki/Special:MyTalk\n"
     ]
    }
   ],
   "source": [
    "# Find every hyperlink\n",
    "links = soup.find_all('a')\n",
    "\n",
    "# Loop over every link and print hyperlink\n",
    "for link in links[0:10]:\n",
    "    print(link.get('href'))"
   ]
  },
  {
   "cell_type": "code",
   "execution_count": 45,
   "id": "102642a6",
   "metadata": {
    "slideshow": {
     "slide_type": "subslide"
    }
   },
   "outputs": [
    {
     "data": {
      "text/plain": [
       "24"
      ]
     },
     "execution_count": 45,
     "metadata": {},
     "output_type": "execute_result"
    }
   ],
   "source": [
    "# Find number of images on page\n",
    "len(soup.find_all('img'))"
   ]
  },
  {
   "cell_type": "code",
   "execution_count": 51,
   "id": "e5b00709",
   "metadata": {
    "slideshow": {
     "slide_type": "fragment"
    }
   },
   "outputs": [
    {
     "name": "stdout",
     "output_type": "stream",
     "text": [
      "<img class=\"thumbimage\" data-file-height=\"1206\" data-file-width=\"776\" decoding=\"async\" height=\"342\" src=\"//upload.wikimedia.org/wikipedia/commons/thumb/8/80/Oregon_Average_Annual_Precipitation_%281961-1990%29_Map.png/220px-Oregon_Average_Annual_Precipitation_%281961-1990%29_Map.png\" srcset=\"//upload.wikimedia.org/wikipedia/commons/thumb/8/80/Oregon_Average_Annual_Precipitation_%281961-1990%29_Map.png/330px-Oregon_Average_Annual_Precipitation_%281961-1990%29_Map.png 1.5x, //upload.wikimedia.org/wikipedia/commons/thumb/8/80/Oregon_Average_Annual_Precipitation_%281961-1990%29_Map.png/440px-Oregon_Average_Annual_Precipitation_%281961-1990%29_Map.png 2x\" width=\"220\"/>\n"
     ]
    }
   ],
   "source": [
    "# Print details of first image\n",
    "print(soup.find_all('img')[5])"
   ]
  },
  {
   "cell_type": "code",
   "execution_count": 52,
   "id": "9db5bf95",
   "metadata": {
    "slideshow": {
     "slide_type": "fragment"
    }
   },
   "outputs": [
    {
     "name": "stdout",
     "output_type": "stream",
     "text": [
      "//upload.wikimedia.org/wikipedia/commons/thumb/8/80/Oregon_Average_Annual_Precipitation_%281961-1990%29_Map.png/220px-Oregon_Average_Annual_Precipitation_%281961-1990%29_Map.png\n"
     ]
    }
   ],
   "source": [
    "# Find attributes of first image\n",
    "print(soup.find_all('img')[5].attrs['src'])"
   ]
  },
  {
   "cell_type": "code",
   "execution_count": 53,
   "id": "c91d5847",
   "metadata": {
    "slideshow": {
     "slide_type": "subslide"
    }
   },
   "outputs": [],
   "source": [
    "# Download image\n",
    "url = 'https://' + soup.find_all('img')[5].attrs['src'][2:]\n",
    "response = requests.get(url)\n",
    "if response.status_code == 200:\n",
    "    with open(\"images/test_image.jpg\", 'wb') as f:\n",
    "        f.write(response.content)"
   ]
  },
  {
   "cell_type": "code",
   "execution_count": 54,
   "id": "c0b34afb",
   "metadata": {
    "slideshow": {
     "slide_type": "fragment"
    }
   },
   "outputs": [
    {
     "data": {
      "text/plain": [
       "<matplotlib.image.AxesImage at 0x7fc6e846cd30>"
      ]
     },
     "execution_count": 54,
     "metadata": {},
     "output_type": "execute_result"
    },
    {
     "data": {
      "image/png": "[encoded data removed]",
      "text/plain": [
       "<Figure size 640x480 with 1 Axes>"
      ]
     },
     "metadata": {},
     "output_type": "display_data"
    }
   ],
   "source": [
    "# Import packages\n",
    "import matplotlib.pyplot as plt\n",
    "import matplotlib.image as mpimg\n",
    "\n",
    "# Read image\n",
    "img = mpimg.imread('images/test_image.jpg')\n",
    "\n",
    "# Plot image\n",
    "plt.imshow(img)"
   ]
  },
  {
   "cell_type": "markdown",
   "id": "b4b5d723",
   "metadata": {
    "slideshow": {
     "slide_type": "slide"
    }
   },
   "source": [
    "## Selenium\n",
    "\n",
    "* Sometimes we want even more control...\n",
    "\n",
    "\n",
    "* Selenium is a package for performing **web browser automation**\n",
    "\n",
    "\n",
    "* We can use Selenium to enter text in search boxes, click buttons etc. \n",
    "\n",
    "\n",
    "```{image} images/selenium.png\n",
    ":width: 200px\n",
    ":align: center\n",
    "```"
   ]
  },
  {
   "cell_type": "code",
   "execution_count": 56,
   "id": "0b10e9f2",
   "metadata": {
    "slideshow": {
     "slide_type": "skip"
    }
   },
   "outputs": [],
   "source": [
    "%%capture\n",
    "# Install webdriver_manager: https://github.com/SergeyPirogov/webdriver_manager\n",
    "!pip3 install webdriver_manager"
   ]
  },
  {
   "cell_type": "code",
   "execution_count": 57,
   "id": "9fcf7512",
   "metadata": {
    "slideshow": {
     "slide_type": "subslide"
    }
   },
   "outputs": [],
   "source": [
    "# Import packages\n",
    "from selenium import webdriver\n",
    "from selenium.webdriver.chrome.service import Service\n",
    "from selenium.webdriver.common.by import By\n",
    "from webdriver_manager.chrome import ChromeDriverManager"
   ]
  },
  {
   "cell_type": "code",
   "execution_count": 58,
   "id": "8cf1d5dd",
   "metadata": {
    "slideshow": {
     "slide_type": "subslide"
    }
   },
   "outputs": [
    {
     "name": "stderr",
     "output_type": "stream",
     "text": [
      "[WDM] - Downloading: 100%|███████████████████████████████████████████████████████████████████████████████████████████████████████████████████████████████████████████████████████████████████| 8.82M/8.82M [00:00<00:00, 32.3MB/s]\n"
     ]
    }
   ],
   "source": [
    "# Install Chrome webdriver\n",
    "driver = webdriver.Chrome(service=Service(ChromeDriverManager().install()))\n",
    "\n",
    "# Open a web browser at the following page\n",
    "driver.get(\"https://www.google.com/maps\")"
   ]
  },
  {
   "cell_type": "markdown",
   "id": "8e2cf8d4",
   "metadata": {
    "slideshow": {
     "slide_type": "subslide"
    }
   },
   "source": [
    "```{image} images/google_maps.png\n",
    ":width: 1000px\n",
    ":align: center\n",
    "```"
   ]
  },
  {
   "cell_type": "markdown",
   "id": "d804d956",
   "metadata": {
    "slideshow": {
     "slide_type": "subslide"
    }
   },
   "source": [
    "```{image} images/inspect.png\n",
    ":width: 1000px\n",
    ":align: center\n",
    "```\n"
   ]
  },
  {
   "cell_type": "code",
   "execution_count": 4,
   "id": "2bf0ced3",
   "metadata": {
    "slideshow": {
     "slide_type": "subslide"
    }
   },
   "outputs": [],
   "source": [
    "# Enter some text in the search box\n",
    "inputElement = driver.find_element(By.ID, \"searchboxinput\")\n",
    "inputElement.send_keys('South Sister Oregon')"
   ]
  },
  {
   "cell_type": "markdown",
   "id": "89ce62cd",
   "metadata": {
    "slideshow": {
     "slide_type": "subslide"
    }
   },
   "source": [
    "```{image} images/enter_text.png\n",
    ":width: 1000px\n",
    ":align: center\n",
    "```\n"
   ]
  },
  {
   "cell_type": "code",
   "execution_count": 5,
   "id": "3092fad8",
   "metadata": {
    "slideshow": {
     "slide_type": "subslide"
    }
   },
   "outputs": [],
   "source": [
    "# Click search button\n",
    "element = driver.find_element(By.ID, \"searchbox-searchbutton\")\n",
    "element.click()"
   ]
  },
  {
   "cell_type": "markdown",
   "id": "b28c9438",
   "metadata": {
    "slideshow": {
     "slide_type": "subslide"
    }
   },
   "source": [
    "```{image} images/search.png\n",
    ":width: 900px\n",
    ":align: center\n",
    "```\n"
   ]
  },
  {
   "cell_type": "markdown",
   "id": "4d899ea8",
   "metadata": {},
   "source": [
    "## Acknowledgements\n",
    "\n",
    "Some of the this demo was inspired by [Automating the Boring Stuff](https://automatetheboringstuff.com/2e/chapter12/) Chapter 12."
   ]
  }
 ],
 "metadata": {
  "celltoolbar": "Edit Metadata",
  "kernelspec": {
   "display_name": "Python 3 (ipykernel)",
   "language": "python",
   "name": "python3"
  },
  "language_info": {
   "codemirror_mode": {
    "name": "ipython",
    "version": 3
   },
   "file_extension": ".py",
   "mimetype": "text/x-python",
   "name": "python",
   "nbconvert_exporter": "python",
   "pygments_lexer": "ipython3",
   "version": "3.10.9"
  },
  "vscode": {
   "interpreter": {
    "hash": "916dbcbb3f70747c44a77c7bcd40155683ae19c65e1c03b4aa3499c5328201f1"
   }
  }
 },
 "nbformat": 4,
 "nbformat_minor": 5
}
