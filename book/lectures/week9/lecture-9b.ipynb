{
 "cells": [
  {
   "cell_type": "markdown",
   "id": "de101fde",
   "metadata": {},
   "source": [
    "# Maps with data\n",
    "\n",
    "In the second part of this lecture, we will use Python to produce another type of thematic map. But this instead of representing elevation data, we will visualize Census Bureau data.\n",
    "\n",
    "We can automatically download Census Bureau data from the 2019 American Community Survey using `CenPy`. "
   ]
  },
  {
   "cell_type": "code",
   "execution_count": 1,
   "id": "2377bb15",
   "metadata": {},
   "outputs": [],
   "source": [
    "from cenpy import products\n",
    "acs = products.ACS(2019)"
   ]
  },
  {
   "cell_type": "markdown",
   "id": "eb187774",
   "metadata": {},
   "source": [
    "## Search for data\n",
    "\n",
    "Inspired by the article \"[Plumbing Poverty: Mapping Hot Spots of Racial and Geographic Inequality in U.S. Household Water Insecurity](https://www.tandfonline.com/doi/abs/10.1080/24694452.2018.1530587)\" by Shiloh Deitz and Katie Meehan (2019), we will search for data that determines whether household have adequate plumbing facilities. \n",
    "\n",
    "The Census Bureau defines \"complete plumbing facilities\" as (1) piped hot and cold water, (2) a flush toilet, and (3) a bathtub or shower, all located within the housing unit and used only by occupants. We can find the variable **code** in the data tables by searching for the word \"**plumbing**\"."
   ]
  },
  {
   "cell_type": "code",
   "execution_count": null,
   "id": "78e64f88",
   "metadata": {},
   "outputs": [],
   "source": [
    "acs.filter_tables('PLUMBING', by='description')"
   ]
  },
  {
   "cell_type": "code",
   "execution_count": null,
   "id": "db309af6",
   "metadata": {},
   "outputs": [],
   "source": [
    "# Print list of tables\n",
    "acs.filter_variables('B25047')"
   ]
  },
  {
   "cell_type": "markdown",
   "id": "d0c511f9",
   "metadata": {},
   "source": [
    "## Download data\n",
    "\n",
    "We will focus our analysis on western United States and download data at the **county** level. Of course, a more local analysis could look at smaller spatial scales such as the tract or block group level. "
   ]
  },
  {
   "cell_type": "code",
   "execution_count": null,
   "id": "4d0e783c",
   "metadata": {},
   "outputs": [],
   "source": [
    "# Download data\n",
    "wa_plumbing = products.ACS(2019).from_state('Washington', \n",
    "                                          level='county',\n",
    "                                          variables=['B25047_001E', 'B25047_002E', 'B25047_003E'])\n",
    "or_plumbing = products.ACS(2019).from_state('Oregon', \n",
    "                                          level='county',\n",
    "                                          variables=['B25047_001E', 'B25047_002E', 'B25047_003E'])\n",
    "ca_plumbing = products.ACS(2019).from_state('California', \n",
    "                                          level='county',\n",
    "                                          variables=['B25047_001E', 'B25047_002E', 'B25047_003E'])\n",
    "az_plumbing = products.ACS(2019).from_state('Arizona', \n",
    "                                          level='county',\n",
    "                                          variables=['B25047_001E', 'B25047_002E', 'B25047_003E'])\n",
    "nm_plumbing = products.ACS(2019).from_state('New Mexico', \n",
    "                                          level='county',\n",
    "                                          variables=['B25047_001E', 'B25047_002E', 'B25047_003E'])\n",
    "id_plumbing = products.ACS(2019).from_state('Idaho', \n",
    "                                          level='county',\n",
    "                                          variables=['B25047_001E', 'B25047_002E', 'B25047_003E'])\n",
    "az_plumbing = products.ACS(2019).from_state('Arizona', \n",
    "                                          level='county',\n",
    "                                          variables=['B25047_001E', 'B25047_002E', 'B25047_003E'])\n",
    "ut_plumbing = products.ACS(2019).from_state('Utah', \n",
    "                                          level='county',\n",
    "                                          variables=['B25047_001E', 'B25047_002E', 'B25047_003E'])\n",
    "id_plumbing = products.ACS(2019).from_state('Idaho', \n",
    "                                          level='county',\n",
    "                                          variables=['B25047_001E', 'B25047_002E', 'B25047_003E'])\n",
    "nv_plumbing = products.ACS(2019).from_state('Nevada', \n",
    "                                          level='county',\n",
    "                                          variables=['B25047_001E', 'B25047_002E', 'B25047_003E'])"
   ]
  },
  {
   "cell_type": "code",
   "execution_count": null,
   "id": "4a98e876",
   "metadata": {},
   "outputs": [],
   "source": [
    "wa_plumbing.head()"
   ]
  },
  {
   "cell_type": "code",
   "execution_count": null,
   "id": "088e8d57",
   "metadata": {},
   "outputs": [],
   "source": [
    "plumbing = pd.concat([wa_plumbing, or_plumbing, ca_plumbing, \n",
    "                      az_plumbing, ut_plumbing, id_plumbing, \n",
    "                      nv_plumbing])\n",
    "\n",
    "# Compute proportion of household with inadequate plumbing\n",
    "plumbing['lack_plumbing_percent'] = plumbing['B25047_003E'] / plumbing['B25047_001E']"
   ]
  },
  {
   "cell_type": "markdown",
   "id": "c7f52ce0",
   "metadata": {},
   "source": [
    "## Simple choropleth map\n",
    "\n",
    "`GeoPandas` provides a high-level interface to the `Matplotlib` library for making maps. It is as easy as using the `plot()` method on a `GeoDataFrame`. "
   ]
  },
  {
   "cell_type": "code",
   "execution_count": null,
   "id": "9e994081",
   "metadata": {},
   "outputs": [],
   "source": [
    "plumbing.plot('lack_plumbing_percent')"
   ]
  },
  {
   "cell_type": "markdown",
   "id": "f145d8ab",
   "metadata": {},
   "source": [
    "## Improving the choropleth map\n",
    "\n",
    "This is useful for a quick look over the data but we would prefer to customize our plot. For instance, we should add a title, colorbar, and nicer colormap. "
   ]
  },
  {
   "cell_type": "code",
   "execution_count": null,
   "id": "1fe386ff",
   "metadata": {},
   "outputs": [],
   "source": [
    "fig, ax = plt.subplots(figsize=(8,5))\n",
    "\n",
    "plt.title('Lack of plumbing in the western United States', fontsize=10)\n",
    "ax.set_axis_off()\n",
    "divider = make_axes_locatable(ax)\n",
    "cax = divider.append_axes(\"right\", size=\"3%\", pad=0.5,alpha=0.5)\n",
    "plumbing.plot('lack_plumbing_percent', ax=ax, alpha=0.5, cmap='Greens', \n",
    "              edgecolor='k', legend=True, cax=cax, linewidth=0.1)\n",
    "plt.ylabel('Proportion of households', fontsize=10)\n",
    "plt.show()"
   ]
  },
  {
   "cell_type": "markdown",
   "id": "02f378b8",
   "metadata": {},
   "source": [
    "## Interactive plots\n",
    "\n",
    "Alongside static plots, `GeoPandas` can produce [interactive maps](https://geopandas.org/en/stable/docs/user_guide/interactive_mapping.html) based on the [`Folium`](https://github.com/python-visualization/folium) library, which is itself based on [`Leaflet`](https://leafletjs.com/). "
   ]
  },
  {
   "cell_type": "code",
   "execution_count": null,
   "id": "4714e5ec",
   "metadata": {},
   "outputs": [],
   "source": [
    "m = plumbing.explore(\n",
    "     column=\"lack_plumbing_percent\", # make choropleth based on column\n",
    "     scheme=\"naturalbreaks\",         # use mapclassify's natural breaks scheme\n",
    "     tooltip=\"lack_plumbing_percent\",# show column value in tooltip (on hover)\n",
    "     popup=True,                     # show all values in popup (on click)\n",
    "     tiles=\"CartoDB positron\",       # use \"CartoDB positron\" tiles\n",
    "     cmap=\"Greens\",                  # use \"Greens\" matplotlib colormap\n",
    "     style_kwds=dict(color=\"black\", weight=0.5) # use black outline with weight of 1\n",
    "    )\n",
    "m"
   ]
  },
  {
   "cell_type": "markdown",
   "id": "d5a7707b",
   "metadata": {},
   "source": [
    "## Conclusions\n",
    "\n",
    "Maps made using programming don't have to be terrible - it is possible to produce visually appealing maps in Python. They may never be quite as good as what professional cartographers can produce in Adobe Illustrator but they have other advantages. Once the code is written, we can quickly make edits or add another dataset. I hope this demo has inspired you to improve the quality of your Python plots! "
   ]
  },
  {
   "cell_type": "markdown",
   "id": "c0c6cb0a",
   "metadata": {},
   "source": [
    "Content in this lecture was inspired by [Adam Symington](https://www.pythonmaps.com/) and this [tutorial](https://towardsdatascience.com/creating-beautiful-topography-maps-with-python-efced5507aa3). "
   ]
  }
 ],
 "metadata": {
  "kernelspec": {
   "display_name": "Python 3 (ipykernel)",
   "language": "python",
   "name": "python3"
  },
  "language_info": {
   "codemirror_mode": {
    "name": "ipython",
    "version": 3
   },
   "file_extension": ".py",
   "mimetype": "text/x-python",
   "name": "python",
   "nbconvert_exporter": "python",
   "pygments_lexer": "ipython3",
   "version": "3.8.12"
  }
 },
 "nbformat": 4,
 "nbformat_minor": 5
}
